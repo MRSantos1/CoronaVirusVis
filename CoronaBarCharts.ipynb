{
 "cells": [
  {
   "cell_type": "code",
   "execution_count": 1,
   "metadata": {},
   "outputs": [
    {
     "data": {
      "text/html": [
       "        <script type=\"text/javascript\">\n",
       "        window.PlotlyConfig = {MathJaxConfig: 'local'};\n",
       "        if (window.MathJax) {MathJax.Hub.Config({SVG: {font: \"STIX-Web\"}});}\n",
       "        if (typeof require !== 'undefined') {\n",
       "        require.undef(\"plotly\");\n",
       "        requirejs.config({\n",
       "            paths: {\n",
       "                'plotly': ['https://cdn.plot.ly/plotly-latest.min']\n",
       "            }\n",
       "        });\n",
       "        require(['plotly'], function(Plotly) {\n",
       "            window._Plotly = Plotly;\n",
       "        });\n",
       "        }\n",
       "        </script>\n",
       "        "
      ]
     },
     "metadata": {},
     "output_type": "display_data"
    }
   ],
   "source": [
    "#importing dependencies\n",
    "import numpy as np \n",
    "import pandas as pd \n",
    "import plotly as py\n",
    "import plotly.express as px\n",
    "import plotly.graph_objs as go\n",
    "from plotly.subplots import make_subplots\n",
    "from plotly.offline import download_plotlyjs, init_notebook_mode, plot, iplot\n",
    "init_notebook_mode(connected=True)"
   ]
  },
  {
   "cell_type": "code",
   "execution_count": 2,
   "metadata": {},
   "outputs": [
    {
     "data": {
      "text/html": [
       "<div>\n",
       "<style scoped>\n",
       "    .dataframe tbody tr th:only-of-type {\n",
       "        vertical-align: middle;\n",
       "    }\n",
       "\n",
       "    .dataframe tbody tr th {\n",
       "        vertical-align: top;\n",
       "    }\n",
       "\n",
       "    .dataframe thead th {\n",
       "        text-align: right;\n",
       "    }\n",
       "</style>\n",
       "<table border=\"1\" class=\"dataframe\">\n",
       "  <thead>\n",
       "    <tr style=\"text-align: right;\">\n",
       "      <th></th>\n",
       "      <th>SNo</th>\n",
       "      <th>ObservationDate</th>\n",
       "      <th>Province/State</th>\n",
       "      <th>Country/Region</th>\n",
       "      <th>Last Update</th>\n",
       "      <th>Confirmed</th>\n",
       "      <th>Deaths</th>\n",
       "      <th>Recovered</th>\n",
       "    </tr>\n",
       "  </thead>\n",
       "  <tbody>\n",
       "    <tr>\n",
       "      <th>0</th>\n",
       "      <td>1</td>\n",
       "      <td>01/22/2020</td>\n",
       "      <td>Anhui</td>\n",
       "      <td>Mainland China</td>\n",
       "      <td>1/22/2020 17:00</td>\n",
       "      <td>1.0</td>\n",
       "      <td>0.0</td>\n",
       "      <td>0.0</td>\n",
       "    </tr>\n",
       "    <tr>\n",
       "      <th>1</th>\n",
       "      <td>2</td>\n",
       "      <td>01/22/2020</td>\n",
       "      <td>Beijing</td>\n",
       "      <td>Mainland China</td>\n",
       "      <td>1/22/2020 17:00</td>\n",
       "      <td>14.0</td>\n",
       "      <td>0.0</td>\n",
       "      <td>0.0</td>\n",
       "    </tr>\n",
       "    <tr>\n",
       "      <th>2</th>\n",
       "      <td>3</td>\n",
       "      <td>01/22/2020</td>\n",
       "      <td>Chongqing</td>\n",
       "      <td>Mainland China</td>\n",
       "      <td>1/22/2020 17:00</td>\n",
       "      <td>6.0</td>\n",
       "      <td>0.0</td>\n",
       "      <td>0.0</td>\n",
       "    </tr>\n",
       "    <tr>\n",
       "      <th>3</th>\n",
       "      <td>4</td>\n",
       "      <td>01/22/2020</td>\n",
       "      <td>Fujian</td>\n",
       "      <td>Mainland China</td>\n",
       "      <td>1/22/2020 17:00</td>\n",
       "      <td>1.0</td>\n",
       "      <td>0.0</td>\n",
       "      <td>0.0</td>\n",
       "    </tr>\n",
       "    <tr>\n",
       "      <th>4</th>\n",
       "      <td>5</td>\n",
       "      <td>01/22/2020</td>\n",
       "      <td>Gansu</td>\n",
       "      <td>Mainland China</td>\n",
       "      <td>1/22/2020 17:00</td>\n",
       "      <td>0.0</td>\n",
       "      <td>0.0</td>\n",
       "      <td>0.0</td>\n",
       "    </tr>\n",
       "    <tr>\n",
       "      <th>...</th>\n",
       "      <td>...</td>\n",
       "      <td>...</td>\n",
       "      <td>...</td>\n",
       "      <td>...</td>\n",
       "      <td>...</td>\n",
       "      <td>...</td>\n",
       "      <td>...</td>\n",
       "      <td>...</td>\n",
       "    </tr>\n",
       "    <tr>\n",
       "      <th>12244</th>\n",
       "      <td>12245</td>\n",
       "      <td>04/05/2020</td>\n",
       "      <td>Wyoming</td>\n",
       "      <td>US</td>\n",
       "      <td>2020-04-05 23:13:44</td>\n",
       "      <td>197.0</td>\n",
       "      <td>0.0</td>\n",
       "      <td>0.0</td>\n",
       "    </tr>\n",
       "    <tr>\n",
       "      <th>12245</th>\n",
       "      <td>12246</td>\n",
       "      <td>04/05/2020</td>\n",
       "      <td>Xinjiang</td>\n",
       "      <td>Mainland China</td>\n",
       "      <td>2020-04-05 23:13:44</td>\n",
       "      <td>76.0</td>\n",
       "      <td>3.0</td>\n",
       "      <td>73.0</td>\n",
       "    </tr>\n",
       "    <tr>\n",
       "      <th>12246</th>\n",
       "      <td>12247</td>\n",
       "      <td>04/05/2020</td>\n",
       "      <td>Yukon</td>\n",
       "      <td>Canada</td>\n",
       "      <td>2020-04-05 23:13:44</td>\n",
       "      <td>6.0</td>\n",
       "      <td>0.0</td>\n",
       "      <td>0.0</td>\n",
       "    </tr>\n",
       "    <tr>\n",
       "      <th>12247</th>\n",
       "      <td>12248</td>\n",
       "      <td>04/05/2020</td>\n",
       "      <td>Yunnan</td>\n",
       "      <td>Mainland China</td>\n",
       "      <td>2020-04-05 23:13:44</td>\n",
       "      <td>184.0</td>\n",
       "      <td>2.0</td>\n",
       "      <td>172.0</td>\n",
       "    </tr>\n",
       "    <tr>\n",
       "      <th>12248</th>\n",
       "      <td>12249</td>\n",
       "      <td>04/05/2020</td>\n",
       "      <td>Zhejiang</td>\n",
       "      <td>Mainland China</td>\n",
       "      <td>2020-04-05 23:13:44</td>\n",
       "      <td>1263.0</td>\n",
       "      <td>1.0</td>\n",
       "      <td>1230.0</td>\n",
       "    </tr>\n",
       "  </tbody>\n",
       "</table>\n",
       "<p>12249 rows × 8 columns</p>\n",
       "</div>"
      ],
      "text/plain": [
       "         SNo ObservationDate Province/State  Country/Region  \\\n",
       "0          1      01/22/2020          Anhui  Mainland China   \n",
       "1          2      01/22/2020        Beijing  Mainland China   \n",
       "2          3      01/22/2020      Chongqing  Mainland China   \n",
       "3          4      01/22/2020         Fujian  Mainland China   \n",
       "4          5      01/22/2020          Gansu  Mainland China   \n",
       "...      ...             ...            ...             ...   \n",
       "12244  12245      04/05/2020        Wyoming              US   \n",
       "12245  12246      04/05/2020       Xinjiang  Mainland China   \n",
       "12246  12247      04/05/2020          Yukon          Canada   \n",
       "12247  12248      04/05/2020         Yunnan  Mainland China   \n",
       "12248  12249      04/05/2020       Zhejiang  Mainland China   \n",
       "\n",
       "               Last Update  Confirmed  Deaths  Recovered  \n",
       "0          1/22/2020 17:00        1.0     0.0        0.0  \n",
       "1          1/22/2020 17:00       14.0     0.0        0.0  \n",
       "2          1/22/2020 17:00        6.0     0.0        0.0  \n",
       "3          1/22/2020 17:00        1.0     0.0        0.0  \n",
       "4          1/22/2020 17:00        0.0     0.0        0.0  \n",
       "...                    ...        ...     ...        ...  \n",
       "12244  2020-04-05 23:13:44      197.0     0.0        0.0  \n",
       "12245  2020-04-05 23:13:44       76.0     3.0       73.0  \n",
       "12246  2020-04-05 23:13:44        6.0     0.0        0.0  \n",
       "12247  2020-04-05 23:13:44      184.0     2.0      172.0  \n",
       "12248  2020-04-05 23:13:44     1263.0     1.0     1230.0  \n",
       "\n",
       "[12249 rows x 8 columns]"
      ]
     },
     "execution_count": 2,
     "metadata": {},
     "output_type": "execute_result"
    }
   ],
   "source": [
    "#Importing CSV\n",
    "df = pd.read_csv('Data Sources\\covid_19_data.csv')\n",
    "df"
   ]
  },
  {
   "cell_type": "code",
   "execution_count": 3,
   "metadata": {},
   "outputs": [
    {
     "data": {
      "text/html": [
       "<div>\n",
       "<style scoped>\n",
       "    .dataframe tbody tr th:only-of-type {\n",
       "        vertical-align: middle;\n",
       "    }\n",
       "\n",
       "    .dataframe tbody tr th {\n",
       "        vertical-align: top;\n",
       "    }\n",
       "\n",
       "    .dataframe thead th {\n",
       "        text-align: right;\n",
       "    }\n",
       "</style>\n",
       "<table border=\"1\" class=\"dataframe\">\n",
       "  <thead>\n",
       "    <tr style=\"text-align: right;\">\n",
       "      <th></th>\n",
       "      <th>SNo</th>\n",
       "      <th>Date</th>\n",
       "      <th>Province/State</th>\n",
       "      <th>Country</th>\n",
       "      <th>Last Update</th>\n",
       "      <th>Confirmed</th>\n",
       "      <th>Deaths</th>\n",
       "      <th>Recovered</th>\n",
       "    </tr>\n",
       "  </thead>\n",
       "  <tbody>\n",
       "    <tr>\n",
       "      <th>0</th>\n",
       "      <td>1</td>\n",
       "      <td>01/22/2020</td>\n",
       "      <td>Anhui</td>\n",
       "      <td>Mainland China</td>\n",
       "      <td>1/22/2020 17:00</td>\n",
       "      <td>1.0</td>\n",
       "      <td>0.0</td>\n",
       "      <td>0.0</td>\n",
       "    </tr>\n",
       "    <tr>\n",
       "      <th>1</th>\n",
       "      <td>2</td>\n",
       "      <td>01/22/2020</td>\n",
       "      <td>Beijing</td>\n",
       "      <td>Mainland China</td>\n",
       "      <td>1/22/2020 17:00</td>\n",
       "      <td>14.0</td>\n",
       "      <td>0.0</td>\n",
       "      <td>0.0</td>\n",
       "    </tr>\n",
       "    <tr>\n",
       "      <th>2</th>\n",
       "      <td>3</td>\n",
       "      <td>01/22/2020</td>\n",
       "      <td>Chongqing</td>\n",
       "      <td>Mainland China</td>\n",
       "      <td>1/22/2020 17:00</td>\n",
       "      <td>6.0</td>\n",
       "      <td>0.0</td>\n",
       "      <td>0.0</td>\n",
       "    </tr>\n",
       "    <tr>\n",
       "      <th>3</th>\n",
       "      <td>4</td>\n",
       "      <td>01/22/2020</td>\n",
       "      <td>Fujian</td>\n",
       "      <td>Mainland China</td>\n",
       "      <td>1/22/2020 17:00</td>\n",
       "      <td>1.0</td>\n",
       "      <td>0.0</td>\n",
       "      <td>0.0</td>\n",
       "    </tr>\n",
       "    <tr>\n",
       "      <th>4</th>\n",
       "      <td>5</td>\n",
       "      <td>01/22/2020</td>\n",
       "      <td>Gansu</td>\n",
       "      <td>Mainland China</td>\n",
       "      <td>1/22/2020 17:00</td>\n",
       "      <td>0.0</td>\n",
       "      <td>0.0</td>\n",
       "      <td>0.0</td>\n",
       "    </tr>\n",
       "  </tbody>\n",
       "</table>\n",
       "</div>"
      ],
      "text/plain": [
       "   SNo        Date Province/State         Country      Last Update  Confirmed  \\\n",
       "0    1  01/22/2020          Anhui  Mainland China  1/22/2020 17:00        1.0   \n",
       "1    2  01/22/2020        Beijing  Mainland China  1/22/2020 17:00       14.0   \n",
       "2    3  01/22/2020      Chongqing  Mainland China  1/22/2020 17:00        6.0   \n",
       "3    4  01/22/2020         Fujian  Mainland China  1/22/2020 17:00        1.0   \n",
       "4    5  01/22/2020          Gansu  Mainland China  1/22/2020 17:00        0.0   \n",
       "\n",
       "   Deaths  Recovered  \n",
       "0     0.0        0.0  \n",
       "1     0.0        0.0  \n",
       "2     0.0        0.0  \n",
       "3     0.0        0.0  \n",
       "4     0.0        0.0  "
      ]
     },
     "execution_count": 3,
     "metadata": {},
     "output_type": "execute_result"
    }
   ],
   "source": [
    "#column renaming for easier manipulations\n",
    "df = df.rename(columns={'Country/Region':'Country'})\n",
    "df = df.rename(columns={'ObservationDate':'Date'})\n",
    "df.head()"
   ]
  },
  {
   "cell_type": "code",
   "execution_count": 4,
   "metadata": {},
   "outputs": [
    {
     "data": {
      "text/html": [
       "<div>\n",
       "<style scoped>\n",
       "    .dataframe tbody tr th:only-of-type {\n",
       "        vertical-align: middle;\n",
       "    }\n",
       "\n",
       "    .dataframe tbody tr th {\n",
       "        vertical-align: top;\n",
       "    }\n",
       "\n",
       "    .dataframe thead th {\n",
       "        text-align: right;\n",
       "    }\n",
       "</style>\n",
       "<table border=\"1\" class=\"dataframe\">\n",
       "  <thead>\n",
       "    <tr style=\"text-align: right;\">\n",
       "      <th></th>\n",
       "      <th>Country</th>\n",
       "      <th>Date</th>\n",
       "      <th>SNo</th>\n",
       "      <th>Confirmed</th>\n",
       "      <th>Deaths</th>\n",
       "      <th>Recovered</th>\n",
       "    </tr>\n",
       "  </thead>\n",
       "  <tbody>\n",
       "    <tr>\n",
       "      <th>415</th>\n",
       "      <td>Azerbaijan</td>\n",
       "      <td>04/05/2020</td>\n",
       "      <td>11940</td>\n",
       "      <td>584.0</td>\n",
       "      <td>7.0</td>\n",
       "      <td>32.0</td>\n",
       "    </tr>\n",
       "    <tr>\n",
       "      <th>1218</th>\n",
       "      <td>Congo (Brazzaville)</td>\n",
       "      <td>04/05/2020</td>\n",
       "      <td>11966</td>\n",
       "      <td>45.0</td>\n",
       "      <td>5.0</td>\n",
       "      <td>2.0</td>\n",
       "    </tr>\n",
       "    <tr>\n",
       "      <th>4707</th>\n",
       "      <td>Qatar</td>\n",
       "      <td>04/05/2020</td>\n",
       "      <td>12063</td>\n",
       "      <td>1604.0</td>\n",
       "      <td>4.0</td>\n",
       "      <td>123.0</td>\n",
       "    </tr>\n",
       "    <tr>\n",
       "      <th>430</th>\n",
       "      <td>Bahamas</td>\n",
       "      <td>04/05/2020</td>\n",
       "      <td>11941</td>\n",
       "      <td>28.0</td>\n",
       "      <td>4.0</td>\n",
       "      <td>0.0</td>\n",
       "    </tr>\n",
       "    <tr>\n",
       "      <th>4137</th>\n",
       "      <td>New Zealand</td>\n",
       "      <td>04/05/2020</td>\n",
       "      <td>12048</td>\n",
       "      <td>1039.0</td>\n",
       "      <td>1.0</td>\n",
       "      <td>156.0</td>\n",
       "    </tr>\n",
       "    <tr>\n",
       "      <th>...</th>\n",
       "      <td>...</td>\n",
       "      <td>...</td>\n",
       "      <td>...</td>\n",
       "      <td>...</td>\n",
       "      <td>...</td>\n",
       "      <td>...</td>\n",
       "    </tr>\n",
       "    <tr>\n",
       "      <th>4424</th>\n",
       "      <td>Palestine</td>\n",
       "      <td>03/09/2020</td>\n",
       "      <td>4322</td>\n",
       "      <td>22.0</td>\n",
       "      <td>0.0</td>\n",
       "      <td>0.0</td>\n",
       "    </tr>\n",
       "    <tr>\n",
       "      <th>6277</th>\n",
       "      <td>Vatican City</td>\n",
       "      <td>03/09/2020</td>\n",
       "      <td>4507</td>\n",
       "      <td>1.0</td>\n",
       "      <td>0.0</td>\n",
       "      <td>0.0</td>\n",
       "    </tr>\n",
       "    <tr>\n",
       "      <th>4708</th>\n",
       "      <td>Republic of Ireland</td>\n",
       "      <td>03/08/2020</td>\n",
       "      <td>4067</td>\n",
       "      <td>21.0</td>\n",
       "      <td>0.0</td>\n",
       "      <td>0.0</td>\n",
       "    </tr>\n",
       "    <tr>\n",
       "      <th>0</th>\n",
       "      <td>Azerbaijan</td>\n",
       "      <td>02/28/2020</td>\n",
       "      <td>2664</td>\n",
       "      <td>1.0</td>\n",
       "      <td>0.0</td>\n",
       "      <td>0.0</td>\n",
       "    </tr>\n",
       "    <tr>\n",
       "      <th>4211</th>\n",
       "      <td>North Ireland</td>\n",
       "      <td>02/28/2020</td>\n",
       "      <td>2685</td>\n",
       "      <td>1.0</td>\n",
       "      <td>0.0</td>\n",
       "      <td>0.0</td>\n",
       "    </tr>\n",
       "  </tbody>\n",
       "</table>\n",
       "<p>209 rows × 6 columns</p>\n",
       "</div>"
      ],
      "text/plain": [
       "                  Country        Date    SNo  Confirmed  Deaths  Recovered\n",
       "415            Azerbaijan  04/05/2020  11940      584.0     7.0       32.0\n",
       "1218  Congo (Brazzaville)  04/05/2020  11966       45.0     5.0        2.0\n",
       "4707                Qatar  04/05/2020  12063     1604.0     4.0      123.0\n",
       "430               Bahamas  04/05/2020  11941       28.0     4.0        0.0\n",
       "4137          New Zealand  04/05/2020  12048     1039.0     1.0      156.0\n",
       "...                   ...         ...    ...        ...     ...        ...\n",
       "4424            Palestine  03/09/2020   4322       22.0     0.0        0.0\n",
       "6277         Vatican City  03/09/2020   4507        1.0     0.0        0.0\n",
       "4708  Republic of Ireland  03/08/2020   4067       21.0     0.0        0.0\n",
       "0              Azerbaijan  02/28/2020   2664        1.0     0.0        0.0\n",
       "4211        North Ireland  02/28/2020   2685        1.0     0.0        0.0\n",
       "\n",
       "[209 rows x 6 columns]"
      ]
     },
     "execution_count": 4,
     "metadata": {},
     "output_type": "execute_result"
    }
   ],
   "source": [
    "#Dataframe Manipulation\n",
    "df_countries = df.groupby(['Country', 'Date']).sum().reset_index().sort_values('Date', ascending=False)\n",
    "df_countries = df_countries.drop_duplicates(subset = ['Country'])\n",
    "df_countries = df_countries[df_countries['Confirmed']>0]\n",
    "df_countries"
   ]
  },
  {
   "cell_type": "code",
   "execution_count": 12,
   "metadata": {},
   "outputs": [
    {
     "data": {
      "text/html": [
       "<div>\n",
       "<style scoped>\n",
       "    .dataframe tbody tr th:only-of-type {\n",
       "        vertical-align: middle;\n",
       "    }\n",
       "\n",
       "    .dataframe tbody tr th {\n",
       "        vertical-align: top;\n",
       "    }\n",
       "\n",
       "    .dataframe thead th {\n",
       "        text-align: right;\n",
       "    }\n",
       "</style>\n",
       "<table border=\"1\" class=\"dataframe\">\n",
       "  <thead>\n",
       "    <tr style=\"text-align: right;\">\n",
       "      <th></th>\n",
       "      <th>Country</th>\n",
       "      <th>Date</th>\n",
       "      <th>SNo</th>\n",
       "      <th>Confirmed</th>\n",
       "      <th>Deaths</th>\n",
       "      <th>Recovered</th>\n",
       "    </tr>\n",
       "  </thead>\n",
       "  <tbody>\n",
       "    <tr>\n",
       "      <th>415</th>\n",
       "      <td>Azerbaijan</td>\n",
       "      <td>04/05/2020</td>\n",
       "      <td>11940</td>\n",
       "      <td>584.0</td>\n",
       "      <td>7.0</td>\n",
       "      <td>32.0</td>\n",
       "    </tr>\n",
       "    <tr>\n",
       "      <th>1218</th>\n",
       "      <td>Congo (Brazzaville)</td>\n",
       "      <td>04/05/2020</td>\n",
       "      <td>11966</td>\n",
       "      <td>45.0</td>\n",
       "      <td>5.0</td>\n",
       "      <td>2.0</td>\n",
       "    </tr>\n",
       "    <tr>\n",
       "      <th>4707</th>\n",
       "      <td>Qatar</td>\n",
       "      <td>04/05/2020</td>\n",
       "      <td>12063</td>\n",
       "      <td>1604.0</td>\n",
       "      <td>4.0</td>\n",
       "      <td>123.0</td>\n",
       "    </tr>\n",
       "    <tr>\n",
       "      <th>430</th>\n",
       "      <td>Bahamas</td>\n",
       "      <td>04/05/2020</td>\n",
       "      <td>11941</td>\n",
       "      <td>28.0</td>\n",
       "      <td>4.0</td>\n",
       "      <td>0.0</td>\n",
       "    </tr>\n",
       "    <tr>\n",
       "      <th>4137</th>\n",
       "      <td>New Zealand</td>\n",
       "      <td>04/05/2020</td>\n",
       "      <td>12048</td>\n",
       "      <td>1039.0</td>\n",
       "      <td>1.0</td>\n",
       "      <td>156.0</td>\n",
       "    </tr>\n",
       "    <tr>\n",
       "      <th>...</th>\n",
       "      <td>...</td>\n",
       "      <td>...</td>\n",
       "      <td>...</td>\n",
       "      <td>...</td>\n",
       "      <td>...</td>\n",
       "      <td>...</td>\n",
       "    </tr>\n",
       "    <tr>\n",
       "      <th>4424</th>\n",
       "      <td>Palestine</td>\n",
       "      <td>03/09/2020</td>\n",
       "      <td>4322</td>\n",
       "      <td>22.0</td>\n",
       "      <td>0.0</td>\n",
       "      <td>0.0</td>\n",
       "    </tr>\n",
       "    <tr>\n",
       "      <th>6277</th>\n",
       "      <td>Vatican City</td>\n",
       "      <td>03/09/2020</td>\n",
       "      <td>4507</td>\n",
       "      <td>1.0</td>\n",
       "      <td>0.0</td>\n",
       "      <td>0.0</td>\n",
       "    </tr>\n",
       "    <tr>\n",
       "      <th>4708</th>\n",
       "      <td>Republic of Ireland</td>\n",
       "      <td>03/08/2020</td>\n",
       "      <td>4067</td>\n",
       "      <td>21.0</td>\n",
       "      <td>0.0</td>\n",
       "      <td>0.0</td>\n",
       "    </tr>\n",
       "    <tr>\n",
       "      <th>0</th>\n",
       "      <td>Azerbaijan</td>\n",
       "      <td>02/28/2020</td>\n",
       "      <td>2664</td>\n",
       "      <td>1.0</td>\n",
       "      <td>0.0</td>\n",
       "      <td>0.0</td>\n",
       "    </tr>\n",
       "    <tr>\n",
       "      <th>4211</th>\n",
       "      <td>North Ireland</td>\n",
       "      <td>02/28/2020</td>\n",
       "      <td>2685</td>\n",
       "      <td>1.0</td>\n",
       "      <td>0.0</td>\n",
       "      <td>0.0</td>\n",
       "    </tr>\n",
       "  </tbody>\n",
       "</table>\n",
       "<p>208 rows × 6 columns</p>\n",
       "</div>"
      ],
      "text/plain": [
       "                  Country        Date    SNo  Confirmed  Deaths  Recovered\n",
       "415            Azerbaijan  04/05/2020  11940      584.0     7.0       32.0\n",
       "1218  Congo (Brazzaville)  04/05/2020  11966       45.0     5.0        2.0\n",
       "4707                Qatar  04/05/2020  12063     1604.0     4.0      123.0\n",
       "430               Bahamas  04/05/2020  11941       28.0     4.0        0.0\n",
       "4137          New Zealand  04/05/2020  12048     1039.0     1.0      156.0\n",
       "...                   ...         ...    ...        ...     ...        ...\n",
       "4424            Palestine  03/09/2020   4322       22.0     0.0        0.0\n",
       "6277         Vatican City  03/09/2020   4507        1.0     0.0        0.0\n",
       "4708  Republic of Ireland  03/08/2020   4067       21.0     0.0        0.0\n",
       "0              Azerbaijan  02/28/2020   2664        1.0     0.0        0.0\n",
       "4211        North Ireland  02/28/2020   2685        1.0     0.0        0.0\n",
       "\n",
       "[208 rows x 6 columns]"
      ]
     },
     "execution_count": 12,
     "metadata": {},
     "output_type": "execute_result"
    }
   ],
   "source": [
    "#Removing China data for worldwide chart\n",
    "df_countries_no_china = df_countries[df_countries['Country'] != 'Mainland China']\n",
    "df_countries_no_china"
   ]
  },
  {
   "cell_type": "code",
   "execution_count": 6,
   "metadata": {},
   "outputs": [
    {
     "data": {
      "application/vnd.plotly.v1+json": {
       "config": {
        "plotlyServerURL": "https://plot.ly"
       },
       "data": [
        {
         "alignmentgroup": "True",
         "hovertemplate": "Country= Azerbaijan<br>Date=%{x}<br>Confirmed=%{text}<extra></extra>",
         "legendgroup": " Azerbaijan",
         "marker": {
          "color": "#636efa"
         },
         "name": " Azerbaijan",
         "offsetgroup": " Azerbaijan",
         "orientation": "v",
         "showlegend": true,
         "text": [
          1
         ],
         "textposition": "auto",
         "type": "bar",
         "x": [
          "02/28/2020"
         ],
         "xaxis": "x",
         "y": [
          1
         ],
         "yaxis": "y"
        },
        {
         "alignmentgroup": "True",
         "hovertemplate": "Country=North Ireland<br>Date=%{x}<br>Confirmed=%{text}<extra></extra>",
         "legendgroup": "North Ireland",
         "marker": {
          "color": "#EF553B"
         },
         "name": "North Ireland",
         "offsetgroup": "North Ireland",
         "orientation": "v",
         "showlegend": true,
         "text": [
          1
         ],
         "textposition": "auto",
         "type": "bar",
         "x": [
          "02/28/2020"
         ],
         "xaxis": "x",
         "y": [
          1
         ],
         "yaxis": "y"
        },
        {
         "alignmentgroup": "True",
         "hovertemplate": "Country=Republic of Ireland<br>Date=%{x}<br>Confirmed=%{text}<extra></extra>",
         "legendgroup": "Republic of Ireland",
         "marker": {
          "color": "#00cc96"
         },
         "name": "Republic of Ireland",
         "offsetgroup": "Republic of Ireland",
         "orientation": "v",
         "showlegend": true,
         "text": [
          21
         ],
         "textposition": "auto",
         "type": "bar",
         "x": [
          "03/08/2020"
         ],
         "xaxis": "x",
         "y": [
          21
         ],
         "yaxis": "y"
        },
        {
         "alignmentgroup": "True",
         "hovertemplate": "Country=St. Martin<br>Date=%{x}<br>Confirmed=%{text}<extra></extra>",
         "legendgroup": "St. Martin",
         "marker": {
          "color": "#ab63fa"
         },
         "name": "St. Martin",
         "offsetgroup": "St. Martin",
         "orientation": "v",
         "showlegend": true,
         "text": [
          2
         ],
         "textposition": "auto",
         "type": "bar",
         "x": [
          "03/09/2020"
         ],
         "xaxis": "x",
         "y": [
          2
         ],
         "yaxis": "y"
        },
        {
         "alignmentgroup": "True",
         "hovertemplate": "Country=Vatican City<br>Date=%{x}<br>Confirmed=%{text}<extra></extra>",
         "legendgroup": "Vatican City",
         "marker": {
          "color": "#FFA15A"
         },
         "name": "Vatican City",
         "offsetgroup": "Vatican City",
         "orientation": "v",
         "showlegend": true,
         "text": [
          1
         ],
         "textposition": "auto",
         "type": "bar",
         "x": [
          "03/09/2020"
         ],
         "xaxis": "x",
         "y": [
          1
         ],
         "yaxis": "y"
        },
        {
         "alignmentgroup": "True",
         "hovertemplate": "Country=Palestine<br>Date=%{x}<br>Confirmed=%{text}<extra></extra>",
         "legendgroup": "Palestine",
         "marker": {
          "color": "#19d3f3"
         },
         "name": "Palestine",
         "offsetgroup": "Palestine",
         "orientation": "v",
         "showlegend": true,
         "text": [
          22
         ],
         "textposition": "auto",
         "type": "bar",
         "x": [
          "03/09/2020"
         ],
         "xaxis": "x",
         "y": [
          22
         ],
         "yaxis": "y"
        },
        {
         "alignmentgroup": "True",
         "hovertemplate": "Country=Gibraltar<br>Date=%{x}<br>Confirmed=%{text}<extra></extra>",
         "legendgroup": "Gibraltar",
         "marker": {
          "color": "#FF6692"
         },
         "name": "Gibraltar",
         "offsetgroup": "Gibraltar",
         "orientation": "v",
         "showlegend": true,
         "text": [
          1
         ],
         "textposition": "auto",
         "type": "bar",
         "x": [
          "03/10/2020"
         ],
         "xaxis": "x",
         "y": [
          1
         ],
         "yaxis": "y"
        },
        {
         "alignmentgroup": "True",
         "hovertemplate": "Country=Saint Barthelemy<br>Date=%{x}<br>Confirmed=%{text}<extra></extra>",
         "legendgroup": "Saint Barthelemy",
         "marker": {
          "color": "#B6E880"
         },
         "name": "Saint Barthelemy",
         "offsetgroup": "Saint Barthelemy",
         "orientation": "v",
         "showlegend": true,
         "text": [
          1
         ],
         "textposition": "auto",
         "type": "bar",
         "x": [
          "03/10/2020"
         ],
         "xaxis": "x",
         "y": [
          1
         ],
         "yaxis": "y"
        },
        {
         "alignmentgroup": "True",
         "hovertemplate": "Country=Faroe Islands<br>Date=%{x}<br>Confirmed=%{text}<extra></extra>",
         "legendgroup": "Faroe Islands",
         "marker": {
          "color": "#FF97FF"
         },
         "name": "Faroe Islands",
         "offsetgroup": "Faroe Islands",
         "orientation": "v",
         "showlegend": true,
         "text": [
          2
         ],
         "textposition": "auto",
         "type": "bar",
         "x": [
          "03/10/2020"
         ],
         "xaxis": "x",
         "y": [
          2
         ],
         "yaxis": "y"
        },
        {
         "alignmentgroup": "True",
         "hovertemplate": "Country=Channel Islands<br>Date=%{x}<br>Confirmed=%{text}<extra></extra>",
         "legendgroup": "Channel Islands",
         "marker": {
          "color": "#FECB52"
         },
         "name": "Channel Islands",
         "offsetgroup": "Channel Islands",
         "orientation": "v",
         "showlegend": true,
         "text": [
          1
         ],
         "textposition": "auto",
         "type": "bar",
         "x": [
          "03/10/2020"
         ],
         "xaxis": "x",
         "y": [
          1
         ],
         "yaxis": "y"
        },
        {
         "alignmentgroup": "True",
         "hovertemplate": "Country=('St. Martin',)<br>Date=%{x}<br>Confirmed=%{text}<extra></extra>",
         "legendgroup": "('St. Martin',)",
         "marker": {
          "color": "#636efa"
         },
         "name": "('St. Martin',)",
         "offsetgroup": "('St. Martin',)",
         "orientation": "v",
         "showlegend": true,
         "text": [
          2
         ],
         "textposition": "auto",
         "type": "bar",
         "x": [
          "03/10/2020"
         ],
         "xaxis": "x",
         "y": [
          2
         ],
         "yaxis": "y"
        },
        {
         "alignmentgroup": "True",
         "hovertemplate": "Country=Cayman Islands<br>Date=%{x}<br>Confirmed=%{text}<extra></extra>",
         "legendgroup": "Cayman Islands",
         "marker": {
          "color": "#EF553B"
         },
         "name": "Cayman Islands",
         "offsetgroup": "Cayman Islands",
         "orientation": "v",
         "showlegend": true,
         "text": [
          1
         ],
         "textposition": "auto",
         "type": "bar",
         "x": [
          "03/15/2020"
         ],
         "xaxis": "x",
         "y": [
          1
         ],
         "yaxis": "y"
        },
        {
         "alignmentgroup": "True",
         "hovertemplate": "Country=Curacao<br>Date=%{x}<br>Confirmed=%{text}<extra></extra>",
         "legendgroup": "Curacao",
         "marker": {
          "color": "#00cc96"
         },
         "name": "Curacao",
         "offsetgroup": "Curacao",
         "orientation": "v",
         "showlegend": true,
         "text": [
          1
         ],
         "textposition": "auto",
         "type": "bar",
         "x": [
          "03/15/2020"
         ],
         "xaxis": "x",
         "y": [
          1
         ],
         "yaxis": "y"
        },
        {
         "alignmentgroup": "True",
         "hovertemplate": "Country=Aruba<br>Date=%{x}<br>Confirmed=%{text}<extra></extra>",
         "legendgroup": "Aruba",
         "marker": {
          "color": "#ab63fa"
         },
         "name": "Aruba",
         "offsetgroup": "Aruba",
         "orientation": "v",
         "showlegend": true,
         "text": [
          4
         ],
         "textposition": "auto",
         "type": "bar",
         "x": [
          "03/19/2020"
         ],
         "xaxis": "x",
         "y": [
          4
         ],
         "yaxis": "y"
        },
        {
         "alignmentgroup": "True",
         "hovertemplate": "Country=Cape Verde<br>Date=%{x}<br>Confirmed=%{text}<extra></extra>",
         "legendgroup": "Cape Verde",
         "marker": {
          "color": "#FFA15A"
         },
         "name": "Cape Verde",
         "offsetgroup": "Cape Verde",
         "orientation": "v",
         "showlegend": true,
         "text": [
          1
         ],
         "textposition": "auto",
         "type": "bar",
         "x": [
          "03/21/2020"
         ],
         "xaxis": "x",
         "y": [
          1
         ],
         "yaxis": "y"
        },
        {
         "alignmentgroup": "True",
         "hovertemplate": "Country=Mayotte<br>Date=%{x}<br>Confirmed=%{text}<extra></extra>",
         "legendgroup": "Mayotte",
         "marker": {
          "color": "#19d3f3"
         },
         "name": "Mayotte",
         "offsetgroup": "Mayotte",
         "orientation": "v",
         "showlegend": true,
         "text": [
          7
         ],
         "textposition": "auto",
         "type": "bar",
         "x": [
          "03/21/2020"
         ],
         "xaxis": "x",
         "y": [
          7
         ],
         "yaxis": "y"
        },
        {
         "alignmentgroup": "True",
         "hovertemplate": "Country=Gambia, The<br>Date=%{x}<br>Confirmed=%{text}<extra></extra>",
         "legendgroup": "Gambia, The",
         "marker": {
          "color": "#FF6692"
         },
         "name": "Gambia, The",
         "offsetgroup": "Gambia, The",
         "orientation": "v",
         "showlegend": true,
         "text": [
          1
         ],
         "textposition": "auto",
         "type": "bar",
         "x": [
          "03/21/2020"
         ],
         "xaxis": "x",
         "y": [
          1
         ],
         "yaxis": "y"
        },
        {
         "alignmentgroup": "True",
         "hovertemplate": "Country=French Guiana<br>Date=%{x}<br>Confirmed=%{text}<extra></extra>",
         "legendgroup": "French Guiana",
         "marker": {
          "color": "#B6E880"
         },
         "name": "French Guiana",
         "offsetgroup": "French Guiana",
         "orientation": "v",
         "showlegend": true,
         "text": [
          18
         ],
         "textposition": "auto",
         "type": "bar",
         "x": [
          "03/21/2020"
         ],
         "xaxis": "x",
         "y": [
          18
         ],
         "yaxis": "y"
        },
        {
         "alignmentgroup": "True",
         "hovertemplate": "Country=Martinique<br>Date=%{x}<br>Confirmed=%{text}<extra></extra>",
         "legendgroup": "Martinique",
         "marker": {
          "color": "#FF97FF"
         },
         "name": "Martinique",
         "offsetgroup": "Martinique",
         "orientation": "v",
         "showlegend": true,
         "text": [
          32
         ],
         "textposition": "auto",
         "type": "bar",
         "x": [
          "03/21/2020"
         ],
         "xaxis": "x",
         "y": [
          32
         ],
         "yaxis": "y"
        },
        {
         "alignmentgroup": "True",
         "hovertemplate": "Country=Bahamas, The<br>Date=%{x}<br>Confirmed=%{text}<extra></extra>",
         "legendgroup": "Bahamas, The",
         "marker": {
          "color": "#FECB52"
         },
         "name": "Bahamas, The",
         "offsetgroup": "Bahamas, The",
         "orientation": "v",
         "showlegend": true,
         "text": [
          4
         ],
         "textposition": "auto",
         "type": "bar",
         "x": [
          "03/21/2020"
         ],
         "xaxis": "x",
         "y": [
          4
         ],
         "yaxis": "y"
        },
        {
         "alignmentgroup": "True",
         "hovertemplate": "Country=Reunion<br>Date=%{x}<br>Confirmed=%{text}<extra></extra>",
         "legendgroup": "Reunion",
         "marker": {
          "color": "#636efa"
         },
         "name": "Reunion",
         "offsetgroup": "Reunion",
         "orientation": "v",
         "showlegend": true,
         "text": [
          45
         ],
         "textposition": "auto",
         "type": "bar",
         "x": [
          "03/21/2020"
         ],
         "xaxis": "x",
         "y": [
          45
         ],
         "yaxis": "y"
        },
        {
         "alignmentgroup": "True",
         "hovertemplate": "Country=East Timor<br>Date=%{x}<br>Confirmed=%{text}<extra></extra>",
         "legendgroup": "East Timor",
         "marker": {
          "color": "#EF553B"
         },
         "name": "East Timor",
         "offsetgroup": "East Timor",
         "orientation": "v",
         "showlegend": true,
         "text": [
          1
         ],
         "textposition": "auto",
         "type": "bar",
         "x": [
          "03/21/2020"
         ],
         "xaxis": "x",
         "y": [
          1
         ],
         "yaxis": "y"
        },
        {
         "alignmentgroup": "True",
         "hovertemplate": "Country=Guadeloupe<br>Date=%{x}<br>Confirmed=%{text}<extra></extra>",
         "legendgroup": "Guadeloupe",
         "marker": {
          "color": "#00cc96"
         },
         "name": "Guadeloupe",
         "offsetgroup": "Guadeloupe",
         "orientation": "v",
         "showlegend": true,
         "text": [
          53
         ],
         "textposition": "auto",
         "type": "bar",
         "x": [
          "03/21/2020"
         ],
         "xaxis": "x",
         "y": [
          53
         ],
         "yaxis": "y"
        },
        {
         "alignmentgroup": "True",
         "hovertemplate": "Country=Others<br>Date=%{x}<br>Confirmed=%{text}<extra></extra>",
         "legendgroup": "Others",
         "marker": {
          "color": "#ab63fa"
         },
         "name": "Others",
         "offsetgroup": "Others",
         "orientation": "v",
         "showlegend": true,
         "text": [
          712
         ],
         "textposition": "auto",
         "type": "bar",
         "x": [
          "03/23/2020"
         ],
         "xaxis": "x",
         "y": [
          712
         ],
         "yaxis": "y"
        },
        {
         "alignmentgroup": "True",
         "hovertemplate": "Country=Niger<br>Date=%{x}<br>Confirmed=%{text}<extra></extra>",
         "legendgroup": "Niger",
         "marker": {
          "color": "#FFA15A"
         },
         "name": "Niger",
         "offsetgroup": "Niger",
         "orientation": "v",
         "showlegend": true,
         "text": [
          184
         ],
         "textposition": "auto",
         "type": "bar",
         "x": [
          "04/05/2020"
         ],
         "xaxis": "x",
         "y": [
          184
         ],
         "yaxis": "y"
        },
        {
         "alignmentgroup": "True",
         "hovertemplate": "Country=Oman<br>Date=%{x}<br>Confirmed=%{text}<extra></extra>",
         "legendgroup": "Oman",
         "marker": {
          "color": "#19d3f3"
         },
         "name": "Oman",
         "offsetgroup": "Oman",
         "orientation": "v",
         "showlegend": true,
         "text": [
          298
         ],
         "textposition": "auto",
         "type": "bar",
         "x": [
          "04/05/2020"
         ],
         "xaxis": "x",
         "y": [
          298
         ],
         "yaxis": "y"
        },
        {
         "alignmentgroup": "True",
         "hovertemplate": "Country=Norway<br>Date=%{x}<br>Confirmed=%{text}<extra></extra>",
         "legendgroup": "Norway",
         "marker": {
          "color": "#FF6692"
         },
         "name": "Norway",
         "offsetgroup": "Norway",
         "orientation": "v",
         "showlegend": true,
         "text": [
          5687
         ],
         "textposition": "auto",
         "type": "bar",
         "x": [
          "04/05/2020"
         ],
         "xaxis": "x",
         "y": [
          5687
         ],
         "yaxis": "y"
        },
        {
         "alignmentgroup": "True",
         "hovertemplate": "Country=Panama<br>Date=%{x}<br>Confirmed=%{text}<extra></extra>",
         "legendgroup": "Panama",
         "marker": {
          "color": "#B6E880"
         },
         "name": "Panama",
         "offsetgroup": "Panama",
         "orientation": "v",
         "showlegend": true,
         "text": [
          1801
         ],
         "textposition": "auto",
         "type": "bar",
         "x": [
          "04/05/2020"
         ],
         "xaxis": "x",
         "y": [
          1801
         ],
         "yaxis": "y"
        },
        {
         "alignmentgroup": "True",
         "hovertemplate": "Country=North Macedonia<br>Date=%{x}<br>Confirmed=%{text}<extra></extra>",
         "legendgroup": "North Macedonia",
         "marker": {
          "color": "#FF97FF"
         },
         "name": "North Macedonia",
         "offsetgroup": "North Macedonia",
         "orientation": "v",
         "showlegend": true,
         "text": [
          555
         ],
         "textposition": "auto",
         "type": "bar",
         "x": [
          "04/05/2020"
         ],
         "xaxis": "x",
         "y": [
          555
         ],
         "yaxis": "y"
        },
        {
         "alignmentgroup": "True",
         "hovertemplate": "Country=Papua New Guinea<br>Date=%{x}<br>Confirmed=%{text}<extra></extra>",
         "legendgroup": "Papua New Guinea",
         "marker": {
          "color": "#FECB52"
         },
         "name": "Papua New Guinea",
         "offsetgroup": "Papua New Guinea",
         "orientation": "v",
         "showlegend": true,
         "text": [
          1
         ],
         "textposition": "auto",
         "type": "bar",
         "x": [
          "04/05/2020"
         ],
         "xaxis": "x",
         "y": [
          1
         ],
         "yaxis": "y"
        },
        {
         "alignmentgroup": "True",
         "hovertemplate": "Country=Paraguay<br>Date=%{x}<br>Confirmed=%{text}<extra></extra>",
         "legendgroup": "Paraguay",
         "marker": {
          "color": "#636efa"
         },
         "name": "Paraguay",
         "offsetgroup": "Paraguay",
         "orientation": "v",
         "showlegend": true,
         "text": [
          104
         ],
         "textposition": "auto",
         "type": "bar",
         "x": [
          "04/05/2020"
         ],
         "xaxis": "x",
         "y": [
          104
         ],
         "yaxis": "y"
        },
        {
         "alignmentgroup": "True",
         "hovertemplate": "Country=Peru<br>Date=%{x}<br>Confirmed=%{text}<extra></extra>",
         "legendgroup": "Peru",
         "marker": {
          "color": "#EF553B"
         },
         "name": "Peru",
         "offsetgroup": "Peru",
         "orientation": "v",
         "showlegend": true,
         "text": [
          2281
         ],
         "textposition": "auto",
         "type": "bar",
         "x": [
          "04/05/2020"
         ],
         "xaxis": "x",
         "y": [
          2281
         ],
         "yaxis": "y"
        },
        {
         "alignmentgroup": "True",
         "hovertemplate": "Country=Nigeria<br>Date=%{x}<br>Confirmed=%{text}<extra></extra>",
         "legendgroup": "Nigeria",
         "marker": {
          "color": "#00cc96"
         },
         "name": "Nigeria",
         "offsetgroup": "Nigeria",
         "orientation": "v",
         "showlegend": true,
         "text": [
          232
         ],
         "textposition": "auto",
         "type": "bar",
         "x": [
          "04/05/2020"
         ],
         "xaxis": "x",
         "y": [
          232
         ],
         "yaxis": "y"
        },
        {
         "alignmentgroup": "True",
         "hovertemplate": "Country=Pakistan<br>Date=%{x}<br>Confirmed=%{text}<extra></extra>",
         "legendgroup": "Pakistan",
         "marker": {
          "color": "#ab63fa"
         },
         "name": "Pakistan",
         "offsetgroup": "Pakistan",
         "orientation": "v",
         "showlegend": true,
         "text": [
          3157
         ],
         "textposition": "auto",
         "type": "bar",
         "x": [
          "04/05/2020"
         ],
         "xaxis": "x",
         "y": [
          3157
         ],
         "yaxis": "y"
        },
        {
         "alignmentgroup": "True",
         "hovertemplate": "Country=Netherlands<br>Date=%{x}<br>Confirmed=%{text}<extra></extra>",
         "legendgroup": "Netherlands",
         "marker": {
          "color": "#FFA15A"
         },
         "name": "Netherlands",
         "offsetgroup": "Netherlands",
         "orientation": "v",
         "showlegend": true,
         "text": [
          17953
         ],
         "textposition": "auto",
         "type": "bar",
         "x": [
          "04/05/2020"
         ],
         "xaxis": "x",
         "y": [
          17953
         ],
         "yaxis": "y"
        },
        {
         "alignmentgroup": "True",
         "hovertemplate": "Country=New Zealand<br>Date=%{x}<br>Confirmed=%{text}<extra></extra>",
         "legendgroup": "New Zealand",
         "marker": {
          "color": "#19d3f3"
         },
         "name": "New Zealand",
         "offsetgroup": "New Zealand",
         "orientation": "v",
         "showlegend": true,
         "text": [
          1039
         ],
         "textposition": "auto",
         "type": "bar",
         "x": [
          "04/05/2020"
         ],
         "xaxis": "x",
         "y": [
          1039
         ],
         "yaxis": "y"
        },
        {
         "alignmentgroup": "True",
         "hovertemplate": "Country=Liechtenstein<br>Date=%{x}<br>Confirmed=%{text}<extra></extra>",
         "legendgroup": "Liechtenstein",
         "marker": {
          "color": "#FF6692"
         },
         "name": "Liechtenstein",
         "offsetgroup": "Liechtenstein",
         "orientation": "v",
         "showlegend": true,
         "text": [
          77
         ],
         "textposition": "auto",
         "type": "bar",
         "x": [
          "04/05/2020"
         ],
         "xaxis": "x",
         "y": [
          77
         ],
         "yaxis": "y"
        },
        {
         "alignmentgroup": "True",
         "hovertemplate": "Country=Lithuania<br>Date=%{x}<br>Confirmed=%{text}<extra></extra>",
         "legendgroup": "Lithuania",
         "marker": {
          "color": "#B6E880"
         },
         "name": "Lithuania",
         "offsetgroup": "Lithuania",
         "orientation": "v",
         "showlegend": true,
         "text": [
          811
         ],
         "textposition": "auto",
         "type": "bar",
         "x": [
          "04/05/2020"
         ],
         "xaxis": "x",
         "y": [
          811
         ],
         "yaxis": "y"
        },
        {
         "alignmentgroup": "True",
         "hovertemplate": "Country=Luxembourg<br>Date=%{x}<br>Confirmed=%{text}<extra></extra>",
         "legendgroup": "Luxembourg",
         "marker": {
          "color": "#FF97FF"
         },
         "name": "Luxembourg",
         "offsetgroup": "Luxembourg",
         "orientation": "v",
         "showlegend": true,
         "text": [
          2804
         ],
         "textposition": "auto",
         "type": "bar",
         "x": [
          "04/05/2020"
         ],
         "xaxis": "x",
         "y": [
          2804
         ],
         "yaxis": "y"
        },
        {
         "alignmentgroup": "True",
         "hovertemplate": "Country=MS Zaandam<br>Date=%{x}<br>Confirmed=%{text}<extra></extra>",
         "legendgroup": "MS Zaandam",
         "marker": {
          "color": "#FECB52"
         },
         "name": "MS Zaandam",
         "offsetgroup": "MS Zaandam",
         "orientation": "v",
         "showlegend": true,
         "text": [
          9
         ],
         "textposition": "auto",
         "type": "bar",
         "x": [
          "04/05/2020"
         ],
         "xaxis": "x",
         "y": [
          9
         ],
         "yaxis": "y"
        },
        {
         "alignmentgroup": "True",
         "hovertemplate": "Country=Macau<br>Date=%{x}<br>Confirmed=%{text}<extra></extra>",
         "legendgroup": "Macau",
         "marker": {
          "color": "#636efa"
         },
         "name": "Macau",
         "offsetgroup": "Macau",
         "orientation": "v",
         "showlegend": true,
         "text": [
          44
         ],
         "textposition": "auto",
         "type": "bar",
         "x": [
          "04/05/2020"
         ],
         "xaxis": "x",
         "y": [
          44
         ],
         "yaxis": "y"
        },
        {
         "alignmentgroup": "True",
         "hovertemplate": "Country=Madagascar<br>Date=%{x}<br>Confirmed=%{text}<extra></extra>",
         "legendgroup": "Madagascar",
         "marker": {
          "color": "#EF553B"
         },
         "name": "Madagascar",
         "offsetgroup": "Madagascar",
         "orientation": "v",
         "showlegend": true,
         "text": [
          72
         ],
         "textposition": "auto",
         "type": "bar",
         "x": [
          "04/05/2020"
         ],
         "xaxis": "x",
         "y": [
          72
         ],
         "yaxis": "y"
        },
        {
         "alignmentgroup": "True",
         "hovertemplate": "Country=Malawi<br>Date=%{x}<br>Confirmed=%{text}<extra></extra>",
         "legendgroup": "Malawi",
         "marker": {
          "color": "#00cc96"
         },
         "name": "Malawi",
         "offsetgroup": "Malawi",
         "orientation": "v",
         "showlegend": true,
         "text": [
          4
         ],
         "textposition": "auto",
         "type": "bar",
         "x": [
          "04/05/2020"
         ],
         "xaxis": "x",
         "y": [
          4
         ],
         "yaxis": "y"
        },
        {
         "alignmentgroup": "True",
         "hovertemplate": "Country=Malaysia<br>Date=%{x}<br>Confirmed=%{text}<extra></extra>",
         "legendgroup": "Malaysia",
         "marker": {
          "color": "#ab63fa"
         },
         "name": "Malaysia",
         "offsetgroup": "Malaysia",
         "orientation": "v",
         "showlegend": true,
         "text": [
          3662
         ],
         "textposition": "auto",
         "type": "bar",
         "x": [
          "04/05/2020"
         ],
         "xaxis": "x",
         "y": [
          3662
         ],
         "yaxis": "y"
        },
        {
         "alignmentgroup": "True",
         "hovertemplate": "Country=Maldives<br>Date=%{x}<br>Confirmed=%{text}<extra></extra>",
         "legendgroup": "Maldives",
         "marker": {
          "color": "#FFA15A"
         },
         "name": "Maldives",
         "offsetgroup": "Maldives",
         "orientation": "v",
         "showlegend": true,
         "text": [
          19
         ],
         "textposition": "auto",
         "type": "bar",
         "x": [
          "04/05/2020"
         ],
         "xaxis": "x",
         "y": [
          19
         ],
         "yaxis": "y"
        },
        {
         "alignmentgroup": "True",
         "hovertemplate": "Country=Mali<br>Date=%{x}<br>Confirmed=%{text}<extra></extra>",
         "legendgroup": "Mali",
         "marker": {
          "color": "#19d3f3"
         },
         "name": "Mali",
         "offsetgroup": "Mali",
         "orientation": "v",
         "showlegend": true,
         "text": [
          45
         ],
         "textposition": "auto",
         "type": "bar",
         "x": [
          "04/05/2020"
         ],
         "xaxis": "x",
         "y": [
          45
         ],
         "yaxis": "y"
        },
        {
         "alignmentgroup": "True",
         "hovertemplate": "Country=Malta<br>Date=%{x}<br>Confirmed=%{text}<extra></extra>",
         "legendgroup": "Malta",
         "marker": {
          "color": "#FF6692"
         },
         "name": "Malta",
         "offsetgroup": "Malta",
         "orientation": "v",
         "showlegend": true,
         "text": [
          227
         ],
         "textposition": "auto",
         "type": "bar",
         "x": [
          "04/05/2020"
         ],
         "xaxis": "x",
         "y": [
          227
         ],
         "yaxis": "y"
        },
        {
         "alignmentgroup": "True",
         "hovertemplate": "Country=Mauritania<br>Date=%{x}<br>Confirmed=%{text}<extra></extra>",
         "legendgroup": "Mauritania",
         "marker": {
          "color": "#B6E880"
         },
         "name": "Mauritania",
         "offsetgroup": "Mauritania",
         "orientation": "v",
         "showlegend": true,
         "text": [
          6
         ],
         "textposition": "auto",
         "type": "bar",
         "x": [
          "04/05/2020"
         ],
         "xaxis": "x",
         "y": [
          6
         ],
         "yaxis": "y"
        },
        {
         "alignmentgroup": "True",
         "hovertemplate": "Country=Mauritius<br>Date=%{x}<br>Confirmed=%{text}<extra></extra>",
         "legendgroup": "Mauritius",
         "marker": {
          "color": "#FF97FF"
         },
         "name": "Mauritius",
         "offsetgroup": "Mauritius",
         "orientation": "v",
         "showlegend": true,
         "text": [
          227
         ],
         "textposition": "auto",
         "type": "bar",
         "x": [
          "04/05/2020"
         ],
         "xaxis": "x",
         "y": [
          227
         ],
         "yaxis": "y"
        },
        {
         "alignmentgroup": "True",
         "hovertemplate": "Country=Mexico<br>Date=%{x}<br>Confirmed=%{text}<extra></extra>",
         "legendgroup": "Mexico",
         "marker": {
          "color": "#FECB52"
         },
         "name": "Mexico",
         "offsetgroup": "Mexico",
         "orientation": "v",
         "showlegend": true,
         "text": [
          1890
         ],
         "textposition": "auto",
         "type": "bar",
         "x": [
          "04/05/2020"
         ],
         "xaxis": "x",
         "y": [
          1890
         ],
         "yaxis": "y"
        },
        {
         "alignmentgroup": "True",
         "hovertemplate": "Country=Moldova<br>Date=%{x}<br>Confirmed=%{text}<extra></extra>",
         "legendgroup": "Moldova",
         "marker": {
          "color": "#636efa"
         },
         "name": "Moldova",
         "offsetgroup": "Moldova",
         "orientation": "v",
         "showlegend": true,
         "text": [
          864
         ],
         "textposition": "auto",
         "type": "bar",
         "x": [
          "04/05/2020"
         ],
         "xaxis": "x",
         "y": [
          864
         ],
         "yaxis": "y"
        },
        {
         "alignmentgroup": "True",
         "hovertemplate": "Country=Monaco<br>Date=%{x}<br>Confirmed=%{text}<extra></extra>",
         "legendgroup": "Monaco",
         "marker": {
          "color": "#EF553B"
         },
         "name": "Monaco",
         "offsetgroup": "Monaco",
         "orientation": "v",
         "showlegend": true,
         "text": [
          73
         ],
         "textposition": "auto",
         "type": "bar",
         "x": [
          "04/05/2020"
         ],
         "xaxis": "x",
         "y": [
          73
         ],
         "yaxis": "y"
        },
        {
         "alignmentgroup": "True",
         "hovertemplate": "Country=Mongolia<br>Date=%{x}<br>Confirmed=%{text}<extra></extra>",
         "legendgroup": "Mongolia",
         "marker": {
          "color": "#00cc96"
         },
         "name": "Mongolia",
         "offsetgroup": "Mongolia",
         "orientation": "v",
         "showlegend": true,
         "text": [
          14
         ],
         "textposition": "auto",
         "type": "bar",
         "x": [
          "04/05/2020"
         ],
         "xaxis": "x",
         "y": [
          14
         ],
         "yaxis": "y"
        },
        {
         "alignmentgroup": "True",
         "hovertemplate": "Country=Montenegro<br>Date=%{x}<br>Confirmed=%{text}<extra></extra>",
         "legendgroup": "Montenegro",
         "marker": {
          "color": "#ab63fa"
         },
         "name": "Montenegro",
         "offsetgroup": "Montenegro",
         "orientation": "v",
         "showlegend": true,
         "text": [
          214
         ],
         "textposition": "auto",
         "type": "bar",
         "x": [
          "04/05/2020"
         ],
         "xaxis": "x",
         "y": [
          214
         ],
         "yaxis": "y"
        },
        {
         "alignmentgroup": "True",
         "hovertemplate": "Country=Morocco<br>Date=%{x}<br>Confirmed=%{text}<extra></extra>",
         "legendgroup": "Morocco",
         "marker": {
          "color": "#FFA15A"
         },
         "name": "Morocco",
         "offsetgroup": "Morocco",
         "orientation": "v",
         "showlegend": true,
         "text": [
          1021
         ],
         "textposition": "auto",
         "type": "bar",
         "x": [
          "04/05/2020"
         ],
         "xaxis": "x",
         "y": [
          1021
         ],
         "yaxis": "y"
        },
        {
         "alignmentgroup": "True",
         "hovertemplate": "Country=Mozambique<br>Date=%{x}<br>Confirmed=%{text}<extra></extra>",
         "legendgroup": "Mozambique",
         "marker": {
          "color": "#19d3f3"
         },
         "name": "Mozambique",
         "offsetgroup": "Mozambique",
         "orientation": "v",
         "showlegend": true,
         "text": [
          10
         ],
         "textposition": "auto",
         "type": "bar",
         "x": [
          "04/05/2020"
         ],
         "xaxis": "x",
         "y": [
          10
         ],
         "yaxis": "y"
        },
        {
         "alignmentgroup": "True",
         "hovertemplate": "Country=Namibia<br>Date=%{x}<br>Confirmed=%{text}<extra></extra>",
         "legendgroup": "Namibia",
         "marker": {
          "color": "#FF6692"
         },
         "name": "Namibia",
         "offsetgroup": "Namibia",
         "orientation": "v",
         "showlegend": true,
         "text": [
          16
         ],
         "textposition": "auto",
         "type": "bar",
         "x": [
          "04/05/2020"
         ],
         "xaxis": "x",
         "y": [
          16
         ],
         "yaxis": "y"
        },
        {
         "alignmentgroup": "True",
         "hovertemplate": "Country=Nepal<br>Date=%{x}<br>Confirmed=%{text}<extra></extra>",
         "legendgroup": "Nepal",
         "marker": {
          "color": "#B6E880"
         },
         "name": "Nepal",
         "offsetgroup": "Nepal",
         "orientation": "v",
         "showlegend": true,
         "text": [
          9
         ],
         "textposition": "auto",
         "type": "bar",
         "x": [
          "04/05/2020"
         ],
         "xaxis": "x",
         "y": [
          9
         ],
         "yaxis": "y"
        },
        {
         "alignmentgroup": "True",
         "hovertemplate": "Country=Philippines<br>Date=%{x}<br>Confirmed=%{text}<extra></extra>",
         "legendgroup": "Philippines",
         "marker": {
          "color": "#FF97FF"
         },
         "name": "Philippines",
         "offsetgroup": "Philippines",
         "orientation": "v",
         "showlegend": true,
         "text": [
          3246
         ],
         "textposition": "auto",
         "type": "bar",
         "x": [
          "04/05/2020"
         ],
         "xaxis": "x",
         "y": [
          3246
         ],
         "yaxis": "y"
        },
        {
         "alignmentgroup": "True",
         "hovertemplate": "Country=Nicaragua<br>Date=%{x}<br>Confirmed=%{text}<extra></extra>",
         "legendgroup": "Nicaragua",
         "marker": {
          "color": "#FECB52"
         },
         "name": "Nicaragua",
         "offsetgroup": "Nicaragua",
         "orientation": "v",
         "showlegend": true,
         "text": [
          6
         ],
         "textposition": "auto",
         "type": "bar",
         "x": [
          "04/05/2020"
         ],
         "xaxis": "x",
         "y": [
          6
         ],
         "yaxis": "y"
        },
        {
         "alignmentgroup": "True",
         "hovertemplate": "Country=Poland<br>Date=%{x}<br>Confirmed=%{text}<extra></extra>",
         "legendgroup": "Poland",
         "marker": {
          "color": "#636efa"
         },
         "name": "Poland",
         "offsetgroup": "Poland",
         "orientation": "v",
         "showlegend": true,
         "text": [
          4102
         ],
         "textposition": "auto",
         "type": "bar",
         "x": [
          "04/05/2020"
         ],
         "xaxis": "x",
         "y": [
          4102
         ],
         "yaxis": "y"
        },
        {
         "alignmentgroup": "True",
         "hovertemplate": "Country=Russia<br>Date=%{x}<br>Confirmed=%{text}<extra></extra>",
         "legendgroup": "Russia",
         "marker": {
          "color": "#EF553B"
         },
         "name": "Russia",
         "offsetgroup": "Russia",
         "orientation": "v",
         "showlegend": true,
         "text": [
          5389
         ],
         "textposition": "auto",
         "type": "bar",
         "x": [
          "04/05/2020"
         ],
         "xaxis": "x",
         "y": [
          5389
         ],
         "yaxis": "y"
        },
        {
         "alignmentgroup": "True",
         "hovertemplate": "Country=Qatar<br>Date=%{x}<br>Confirmed=%{text}<extra></extra>",
         "legendgroup": "Qatar",
         "marker": {
          "color": "#00cc96"
         },
         "name": "Qatar",
         "offsetgroup": "Qatar",
         "orientation": "v",
         "showlegend": true,
         "text": [
          1604
         ],
         "textposition": "auto",
         "type": "bar",
         "x": [
          "04/05/2020"
         ],
         "xaxis": "x",
         "y": [
          1604
         ],
         "yaxis": "y"
        },
        {
         "alignmentgroup": "True",
         "hovertemplate": "Country=Syria<br>Date=%{x}<br>Confirmed=%{text}<extra></extra>",
         "legendgroup": "Syria",
         "marker": {
          "color": "#ab63fa"
         },
         "name": "Syria",
         "offsetgroup": "Syria",
         "orientation": "v",
         "showlegend": true,
         "text": [
          19
         ],
         "textposition": "auto",
         "type": "bar",
         "x": [
          "04/05/2020"
         ],
         "xaxis": "x",
         "y": [
          19
         ],
         "yaxis": "y"
        },
        {
         "alignmentgroup": "True",
         "hovertemplate": "Country=Taiwan<br>Date=%{x}<br>Confirmed=%{text}<extra></extra>",
         "legendgroup": "Taiwan",
         "marker": {
          "color": "#FFA15A"
         },
         "name": "Taiwan",
         "offsetgroup": "Taiwan",
         "orientation": "v",
         "showlegend": true,
         "text": [
          363
         ],
         "textposition": "auto",
         "type": "bar",
         "x": [
          "04/05/2020"
         ],
         "xaxis": "x",
         "y": [
          363
         ],
         "yaxis": "y"
        },
        {
         "alignmentgroup": "True",
         "hovertemplate": "Country=Tanzania<br>Date=%{x}<br>Confirmed=%{text}<extra></extra>",
         "legendgroup": "Tanzania",
         "marker": {
          "color": "#19d3f3"
         },
         "name": "Tanzania",
         "offsetgroup": "Tanzania",
         "orientation": "v",
         "showlegend": true,
         "text": [
          22
         ],
         "textposition": "auto",
         "type": "bar",
         "x": [
          "04/05/2020"
         ],
         "xaxis": "x",
         "y": [
          22
         ],
         "yaxis": "y"
        },
        {
         "alignmentgroup": "True",
         "hovertemplate": "Country=Thailand<br>Date=%{x}<br>Confirmed=%{text}<extra></extra>",
         "legendgroup": "Thailand",
         "marker": {
          "color": "#FF6692"
         },
         "name": "Thailand",
         "offsetgroup": "Thailand",
         "orientation": "v",
         "showlegend": true,
         "text": [
          2169
         ],
         "textposition": "auto",
         "type": "bar",
         "x": [
          "04/05/2020"
         ],
         "xaxis": "x",
         "y": [
          2169
         ],
         "yaxis": "y"
        },
        {
         "alignmentgroup": "True",
         "hovertemplate": "Country=Timor-Leste<br>Date=%{x}<br>Confirmed=%{text}<extra></extra>",
         "legendgroup": "Timor-Leste",
         "marker": {
          "color": "#B6E880"
         },
         "name": "Timor-Leste",
         "offsetgroup": "Timor-Leste",
         "orientation": "v",
         "showlegend": true,
         "text": [
          1
         ],
         "textposition": "auto",
         "type": "bar",
         "x": [
          "04/05/2020"
         ],
         "xaxis": "x",
         "y": [
          1
         ],
         "yaxis": "y"
        },
        {
         "alignmentgroup": "True",
         "hovertemplate": "Country=Togo<br>Date=%{x}<br>Confirmed=%{text}<extra></extra>",
         "legendgroup": "Togo",
         "marker": {
          "color": "#FF97FF"
         },
         "name": "Togo",
         "offsetgroup": "Togo",
         "orientation": "v",
         "showlegend": true,
         "text": [
          44
         ],
         "textposition": "auto",
         "type": "bar",
         "x": [
          "04/05/2020"
         ],
         "xaxis": "x",
         "y": [
          44
         ],
         "yaxis": "y"
        },
        {
         "alignmentgroup": "True",
         "hovertemplate": "Country=Trinidad and Tobago<br>Date=%{x}<br>Confirmed=%{text}<extra></extra>",
         "legendgroup": "Trinidad and Tobago",
         "marker": {
          "color": "#FECB52"
         },
         "name": "Trinidad and Tobago",
         "offsetgroup": "Trinidad and Tobago",
         "orientation": "v",
         "showlegend": true,
         "text": [
          104
         ],
         "textposition": "auto",
         "type": "bar",
         "x": [
          "04/05/2020"
         ],
         "xaxis": "x",
         "y": [
          104
         ],
         "yaxis": "y"
        },
        {
         "alignmentgroup": "True",
         "hovertemplate": "Country=Tunisia<br>Date=%{x}<br>Confirmed=%{text}<extra></extra>",
         "legendgroup": "Tunisia",
         "marker": {
          "color": "#636efa"
         },
         "name": "Tunisia",
         "offsetgroup": "Tunisia",
         "orientation": "v",
         "showlegend": true,
         "text": [
          574
         ],
         "textposition": "auto",
         "type": "bar",
         "x": [
          "04/05/2020"
         ],
         "xaxis": "x",
         "y": [
          574
         ],
         "yaxis": "y"
        },
        {
         "alignmentgroup": "True",
         "hovertemplate": "Country=Turkey<br>Date=%{x}<br>Confirmed=%{text}<extra></extra>",
         "legendgroup": "Turkey",
         "marker": {
          "color": "#EF553B"
         },
         "name": "Turkey",
         "offsetgroup": "Turkey",
         "orientation": "v",
         "showlegend": true,
         "text": [
          27069
         ],
         "textposition": "auto",
         "type": "bar",
         "x": [
          "04/05/2020"
         ],
         "xaxis": "x",
         "y": [
          27069
         ],
         "yaxis": "y"
        },
        {
         "alignmentgroup": "True",
         "hovertemplate": "Country=Switzerland<br>Date=%{x}<br>Confirmed=%{text}<extra></extra>",
         "legendgroup": "Switzerland",
         "marker": {
          "color": "#00cc96"
         },
         "name": "Switzerland",
         "offsetgroup": "Switzerland",
         "orientation": "v",
         "showlegend": true,
         "text": [
          21100
         ],
         "textposition": "auto",
         "type": "bar",
         "x": [
          "04/05/2020"
         ],
         "xaxis": "x",
         "y": [
          21100
         ],
         "yaxis": "y"
        },
        {
         "alignmentgroup": "True",
         "hovertemplate": "Country=UK<br>Date=%{x}<br>Confirmed=%{text}<extra></extra>",
         "legendgroup": "UK",
         "marker": {
          "color": "#ab63fa"
         },
         "name": "UK",
         "offsetgroup": "UK",
         "orientation": "v",
         "showlegend": true,
         "text": [
          48436
         ],
         "textposition": "auto",
         "type": "bar",
         "x": [
          "04/05/2020"
         ],
         "xaxis": "x",
         "y": [
          48436
         ],
         "yaxis": "y"
        },
        {
         "alignmentgroup": "True",
         "hovertemplate": "Country=Uganda<br>Date=%{x}<br>Confirmed=%{text}<extra></extra>",
         "legendgroup": "Uganda",
         "marker": {
          "color": "#FFA15A"
         },
         "name": "Uganda",
         "offsetgroup": "Uganda",
         "orientation": "v",
         "showlegend": true,
         "text": [
          52
         ],
         "textposition": "auto",
         "type": "bar",
         "x": [
          "04/05/2020"
         ],
         "xaxis": "x",
         "y": [
          52
         ],
         "yaxis": "y"
        },
        {
         "alignmentgroup": "True",
         "hovertemplate": "Country=Ukraine<br>Date=%{x}<br>Confirmed=%{text}<extra></extra>",
         "legendgroup": "Ukraine",
         "marker": {
          "color": "#19d3f3"
         },
         "name": "Ukraine",
         "offsetgroup": "Ukraine",
         "orientation": "v",
         "showlegend": true,
         "text": [
          1308
         ],
         "textposition": "auto",
         "type": "bar",
         "x": [
          "04/05/2020"
         ],
         "xaxis": "x",
         "y": [
          1308
         ],
         "yaxis": "y"
        },
        {
         "alignmentgroup": "True",
         "hovertemplate": "Country=United Arab Emirates<br>Date=%{x}<br>Confirmed=%{text}<extra></extra>",
         "legendgroup": "United Arab Emirates",
         "marker": {
          "color": "#FF6692"
         },
         "name": "United Arab Emirates",
         "offsetgroup": "United Arab Emirates",
         "orientation": "v",
         "showlegend": true,
         "text": [
          1799
         ],
         "textposition": "auto",
         "type": "bar",
         "x": [
          "04/05/2020"
         ],
         "xaxis": "x",
         "y": [
          1799
         ],
         "yaxis": "y"
        },
        {
         "alignmentgroup": "True",
         "hovertemplate": "Country=Uruguay<br>Date=%{x}<br>Confirmed=%{text}<extra></extra>",
         "legendgroup": "Uruguay",
         "marker": {
          "color": "#B6E880"
         },
         "name": "Uruguay",
         "offsetgroup": "Uruguay",
         "orientation": "v",
         "showlegend": true,
         "text": [
          400
         ],
         "textposition": "auto",
         "type": "bar",
         "x": [
          "04/05/2020"
         ],
         "xaxis": "x",
         "y": [
          400
         ],
         "yaxis": "y"
        },
        {
         "alignmentgroup": "True",
         "hovertemplate": "Country=Uzbekistan<br>Date=%{x}<br>Confirmed=%{text}<extra></extra>",
         "legendgroup": "Uzbekistan",
         "marker": {
          "color": "#FF97FF"
         },
         "name": "Uzbekistan",
         "offsetgroup": "Uzbekistan",
         "orientation": "v",
         "showlegend": true,
         "text": [
          342
         ],
         "textposition": "auto",
         "type": "bar",
         "x": [
          "04/05/2020"
         ],
         "xaxis": "x",
         "y": [
          342
         ],
         "yaxis": "y"
        },
        {
         "alignmentgroup": "True",
         "hovertemplate": "Country=Venezuela<br>Date=%{x}<br>Confirmed=%{text}<extra></extra>",
         "legendgroup": "Venezuela",
         "marker": {
          "color": "#FECB52"
         },
         "name": "Venezuela",
         "offsetgroup": "Venezuela",
         "orientation": "v",
         "showlegend": true,
         "text": [
          159
         ],
         "textposition": "auto",
         "type": "bar",
         "x": [
          "04/05/2020"
         ],
         "xaxis": "x",
         "y": [
          159
         ],
         "yaxis": "y"
        },
        {
         "alignmentgroup": "True",
         "hovertemplate": "Country=Vietnam<br>Date=%{x}<br>Confirmed=%{text}<extra></extra>",
         "legendgroup": "Vietnam",
         "marker": {
          "color": "#636efa"
         },
         "name": "Vietnam",
         "offsetgroup": "Vietnam",
         "orientation": "v",
         "showlegend": true,
         "text": [
          241
         ],
         "textposition": "auto",
         "type": "bar",
         "x": [
          "04/05/2020"
         ],
         "xaxis": "x",
         "y": [
          241
         ],
         "yaxis": "y"
        },
        {
         "alignmentgroup": "True",
         "hovertemplate": "Country=West Bank and Gaza<br>Date=%{x}<br>Confirmed=%{text}<extra></extra>",
         "legendgroup": "West Bank and Gaza",
         "marker": {
          "color": "#EF553B"
         },
         "name": "West Bank and Gaza",
         "offsetgroup": "West Bank and Gaza",
         "orientation": "v",
         "showlegend": true,
         "text": [
          237
         ],
         "textposition": "auto",
         "type": "bar",
         "x": [
          "04/05/2020"
         ],
         "xaxis": "x",
         "y": [
          237
         ],
         "yaxis": "y"
        },
        {
         "alignmentgroup": "True",
         "hovertemplate": "Country=Western Sahara<br>Date=%{x}<br>Confirmed=%{text}<extra></extra>",
         "legendgroup": "Western Sahara",
         "marker": {
          "color": "#00cc96"
         },
         "name": "Western Sahara",
         "offsetgroup": "Western Sahara",
         "orientation": "v",
         "showlegend": true,
         "text": [
          4
         ],
         "textposition": "auto",
         "type": "bar",
         "x": [
          "04/05/2020"
         ],
         "xaxis": "x",
         "y": [
          4
         ],
         "yaxis": "y"
        },
        {
         "alignmentgroup": "True",
         "hovertemplate": "Country=US<br>Date=%{x}<br>Confirmed=%{text}<extra></extra>",
         "legendgroup": "US",
         "marker": {
          "color": "#ab63fa"
         },
         "name": "US",
         "offsetgroup": "US",
         "orientation": "v",
         "showlegend": true,
         "text": [
          337072
         ],
         "textposition": "auto",
         "type": "bar",
         "x": [
          "04/05/2020"
         ],
         "xaxis": "x",
         "y": [
          337072
         ],
         "yaxis": "y"
        },
        {
         "alignmentgroup": "True",
         "hovertemplate": "Country=Sweden<br>Date=%{x}<br>Confirmed=%{text}<extra></extra>",
         "legendgroup": "Sweden",
         "marker": {
          "color": "#FFA15A"
         },
         "name": "Sweden",
         "offsetgroup": "Sweden",
         "orientation": "v",
         "showlegend": true,
         "text": [
          6830
         ],
         "textposition": "auto",
         "type": "bar",
         "x": [
          "04/05/2020"
         ],
         "xaxis": "x",
         "y": [
          6830
         ],
         "yaxis": "y"
        },
        {
         "alignmentgroup": "True",
         "hovertemplate": "Country=Suriname<br>Date=%{x}<br>Confirmed=%{text}<extra></extra>",
         "legendgroup": "Suriname",
         "marker": {
          "color": "#19d3f3"
         },
         "name": "Suriname",
         "offsetgroup": "Suriname",
         "orientation": "v",
         "showlegend": true,
         "text": [
          10
         ],
         "textposition": "auto",
         "type": "bar",
         "x": [
          "04/05/2020"
         ],
         "xaxis": "x",
         "y": [
          10
         ],
         "yaxis": "y"
        },
        {
         "alignmentgroup": "True",
         "hovertemplate": "Country=Sudan<br>Date=%{x}<br>Confirmed=%{text}<extra></extra>",
         "legendgroup": "Sudan",
         "marker": {
          "color": "#FF6692"
         },
         "name": "Sudan",
         "offsetgroup": "Sudan",
         "orientation": "v",
         "showlegend": true,
         "text": [
          12
         ],
         "textposition": "auto",
         "type": "bar",
         "x": [
          "04/05/2020"
         ],
         "xaxis": "x",
         "y": [
          12
         ],
         "yaxis": "y"
        },
        {
         "alignmentgroup": "True",
         "hovertemplate": "Country=Romania<br>Date=%{x}<br>Confirmed=%{text}<extra></extra>",
         "legendgroup": "Romania",
         "marker": {
          "color": "#B6E880"
         },
         "name": "Romania",
         "offsetgroup": "Romania",
         "orientation": "v",
         "showlegend": true,
         "text": [
          3864
         ],
         "textposition": "auto",
         "type": "bar",
         "x": [
          "04/05/2020"
         ],
         "xaxis": "x",
         "y": [
          3864
         ],
         "yaxis": "y"
        },
        {
         "alignmentgroup": "True",
         "hovertemplate": "Country=Libya<br>Date=%{x}<br>Confirmed=%{text}<extra></extra>",
         "legendgroup": "Libya",
         "marker": {
          "color": "#FF97FF"
         },
         "name": "Libya",
         "offsetgroup": "Libya",
         "orientation": "v",
         "showlegend": true,
         "text": [
          18
         ],
         "textposition": "auto",
         "type": "bar",
         "x": [
          "04/05/2020"
         ],
         "xaxis": "x",
         "y": [
          18
         ],
         "yaxis": "y"
        },
        {
         "alignmentgroup": "True",
         "hovertemplate": "Country=Rwanda<br>Date=%{x}<br>Confirmed=%{text}<extra></extra>",
         "legendgroup": "Rwanda",
         "marker": {
          "color": "#FECB52"
         },
         "name": "Rwanda",
         "offsetgroup": "Rwanda",
         "orientation": "v",
         "showlegend": true,
         "text": [
          104
         ],
         "textposition": "auto",
         "type": "bar",
         "x": [
          "04/05/2020"
         ],
         "xaxis": "x",
         "y": [
          104
         ],
         "yaxis": "y"
        },
        {
         "alignmentgroup": "True",
         "hovertemplate": "Country=Saint Kitts and Nevis<br>Date=%{x}<br>Confirmed=%{text}<extra></extra>",
         "legendgroup": "Saint Kitts and Nevis",
         "marker": {
          "color": "#636efa"
         },
         "name": "Saint Kitts and Nevis",
         "offsetgroup": "Saint Kitts and Nevis",
         "orientation": "v",
         "showlegend": true,
         "text": [
          10
         ],
         "textposition": "auto",
         "type": "bar",
         "x": [
          "04/05/2020"
         ],
         "xaxis": "x",
         "y": [
          10
         ],
         "yaxis": "y"
        },
        {
         "alignmentgroup": "True",
         "hovertemplate": "Country=Saint Lucia<br>Date=%{x}<br>Confirmed=%{text}<extra></extra>",
         "legendgroup": "Saint Lucia",
         "marker": {
          "color": "#EF553B"
         },
         "name": "Saint Lucia",
         "offsetgroup": "Saint Lucia",
         "orientation": "v",
         "showlegend": true,
         "text": [
          14
         ],
         "textposition": "auto",
         "type": "bar",
         "x": [
          "04/05/2020"
         ],
         "xaxis": "x",
         "y": [
          14
         ],
         "yaxis": "y"
        },
        {
         "alignmentgroup": "True",
         "hovertemplate": "Country=Saint Vincent and the Grenadines<br>Date=%{x}<br>Confirmed=%{text}<extra></extra>",
         "legendgroup": "Saint Vincent and the Grenadines",
         "marker": {
          "color": "#00cc96"
         },
         "name": "Saint Vincent and the Grenadines",
         "offsetgroup": "Saint Vincent and the Grenadines",
         "orientation": "v",
         "showlegend": true,
         "text": [
          7
         ],
         "textposition": "auto",
         "type": "bar",
         "x": [
          "04/05/2020"
         ],
         "xaxis": "x",
         "y": [
          7
         ],
         "yaxis": "y"
        },
        {
         "alignmentgroup": "True",
         "hovertemplate": "Country=San Marino<br>Date=%{x}<br>Confirmed=%{text}<extra></extra>",
         "legendgroup": "San Marino",
         "marker": {
          "color": "#ab63fa"
         },
         "name": "San Marino",
         "offsetgroup": "San Marino",
         "orientation": "v",
         "showlegend": true,
         "text": [
          266
         ],
         "textposition": "auto",
         "type": "bar",
         "x": [
          "04/05/2020"
         ],
         "xaxis": "x",
         "y": [
          266
         ],
         "yaxis": "y"
        },
        {
         "alignmentgroup": "True",
         "hovertemplate": "Country=Saudi Arabia<br>Date=%{x}<br>Confirmed=%{text}<extra></extra>",
         "legendgroup": "Saudi Arabia",
         "marker": {
          "color": "#FFA15A"
         },
         "name": "Saudi Arabia",
         "offsetgroup": "Saudi Arabia",
         "orientation": "v",
         "showlegend": true,
         "text": [
          2402
         ],
         "textposition": "auto",
         "type": "bar",
         "x": [
          "04/05/2020"
         ],
         "xaxis": "x",
         "y": [
          2402
         ],
         "yaxis": "y"
        },
        {
         "alignmentgroup": "True",
         "hovertemplate": "Country=Senegal<br>Date=%{x}<br>Confirmed=%{text}<extra></extra>",
         "legendgroup": "Senegal",
         "marker": {
          "color": "#19d3f3"
         },
         "name": "Senegal",
         "offsetgroup": "Senegal",
         "orientation": "v",
         "showlegend": true,
         "text": [
          222
         ],
         "textposition": "auto",
         "type": "bar",
         "x": [
          "04/05/2020"
         ],
         "xaxis": "x",
         "y": [
          222
         ],
         "yaxis": "y"
        },
        {
         "alignmentgroup": "True",
         "hovertemplate": "Country=Serbia<br>Date=%{x}<br>Confirmed=%{text}<extra></extra>",
         "legendgroup": "Serbia",
         "marker": {
          "color": "#FF6692"
         },
         "name": "Serbia",
         "offsetgroup": "Serbia",
         "orientation": "v",
         "showlegend": true,
         "text": [
          1908
         ],
         "textposition": "auto",
         "type": "bar",
         "x": [
          "04/05/2020"
         ],
         "xaxis": "x",
         "y": [
          1908
         ],
         "yaxis": "y"
        },
        {
         "alignmentgroup": "True",
         "hovertemplate": "Country=Seychelles<br>Date=%{x}<br>Confirmed=%{text}<extra></extra>",
         "legendgroup": "Seychelles",
         "marker": {
          "color": "#B6E880"
         },
         "name": "Seychelles",
         "offsetgroup": "Seychelles",
         "orientation": "v",
         "showlegend": true,
         "text": [
          10
         ],
         "textposition": "auto",
         "type": "bar",
         "x": [
          "04/05/2020"
         ],
         "xaxis": "x",
         "y": [
          10
         ],
         "yaxis": "y"
        },
        {
         "alignmentgroup": "True",
         "hovertemplate": "Country=Sierra Leone<br>Date=%{x}<br>Confirmed=%{text}<extra></extra>",
         "legendgroup": "Sierra Leone",
         "marker": {
          "color": "#FF97FF"
         },
         "name": "Sierra Leone",
         "offsetgroup": "Sierra Leone",
         "orientation": "v",
         "showlegend": true,
         "text": [
          6
         ],
         "textposition": "auto",
         "type": "bar",
         "x": [
          "04/05/2020"
         ],
         "xaxis": "x",
         "y": [
          6
         ],
         "yaxis": "y"
        },
        {
         "alignmentgroup": "True",
         "hovertemplate": "Country=Singapore<br>Date=%{x}<br>Confirmed=%{text}<extra></extra>",
         "legendgroup": "Singapore",
         "marker": {
          "color": "#FECB52"
         },
         "name": "Singapore",
         "offsetgroup": "Singapore",
         "orientation": "v",
         "showlegend": true,
         "text": [
          1309
         ],
         "textposition": "auto",
         "type": "bar",
         "x": [
          "04/05/2020"
         ],
         "xaxis": "x",
         "y": [
          1309
         ],
         "yaxis": "y"
        },
        {
         "alignmentgroup": "True",
         "hovertemplate": "Country=Slovakia<br>Date=%{x}<br>Confirmed=%{text}<extra></extra>",
         "legendgroup": "Slovakia",
         "marker": {
          "color": "#636efa"
         },
         "name": "Slovakia",
         "offsetgroup": "Slovakia",
         "orientation": "v",
         "showlegend": true,
         "text": [
          485
         ],
         "textposition": "auto",
         "type": "bar",
         "x": [
          "04/05/2020"
         ],
         "xaxis": "x",
         "y": [
          485
         ],
         "yaxis": "y"
        },
        {
         "alignmentgroup": "True",
         "hovertemplate": "Country=Slovenia<br>Date=%{x}<br>Confirmed=%{text}<extra></extra>",
         "legendgroup": "Slovenia",
         "marker": {
          "color": "#EF553B"
         },
         "name": "Slovenia",
         "offsetgroup": "Slovenia",
         "orientation": "v",
         "showlegend": true,
         "text": [
          997
         ],
         "textposition": "auto",
         "type": "bar",
         "x": [
          "04/05/2020"
         ],
         "xaxis": "x",
         "y": [
          997
         ],
         "yaxis": "y"
        },
        {
         "alignmentgroup": "True",
         "hovertemplate": "Country=Somalia<br>Date=%{x}<br>Confirmed=%{text}<extra></extra>",
         "legendgroup": "Somalia",
         "marker": {
          "color": "#00cc96"
         },
         "name": "Somalia",
         "offsetgroup": "Somalia",
         "orientation": "v",
         "showlegend": true,
         "text": [
          7
         ],
         "textposition": "auto",
         "type": "bar",
         "x": [
          "04/05/2020"
         ],
         "xaxis": "x",
         "y": [
          7
         ],
         "yaxis": "y"
        },
        {
         "alignmentgroup": "True",
         "hovertemplate": "Country=South Africa<br>Date=%{x}<br>Confirmed=%{text}<extra></extra>",
         "legendgroup": "South Africa",
         "marker": {
          "color": "#ab63fa"
         },
         "name": "South Africa",
         "offsetgroup": "South Africa",
         "orientation": "v",
         "showlegend": true,
         "text": [
          1655
         ],
         "textposition": "auto",
         "type": "bar",
         "x": [
          "04/05/2020"
         ],
         "xaxis": "x",
         "y": [
          1655
         ],
         "yaxis": "y"
        },
        {
         "alignmentgroup": "True",
         "hovertemplate": "Country=South Korea<br>Date=%{x}<br>Confirmed=%{text}<extra></extra>",
         "legendgroup": "South Korea",
         "marker": {
          "color": "#FFA15A"
         },
         "name": "South Korea",
         "offsetgroup": "South Korea",
         "orientation": "v",
         "showlegend": true,
         "text": [
          10237
         ],
         "textposition": "auto",
         "type": "bar",
         "x": [
          "04/05/2020"
         ],
         "xaxis": "x",
         "y": [
          10237
         ],
         "yaxis": "y"
        },
        {
         "alignmentgroup": "True",
         "hovertemplate": "Country=South Sudan<br>Date=%{x}<br>Confirmed=%{text}<extra></extra>",
         "legendgroup": "South Sudan",
         "marker": {
          "color": "#19d3f3"
         },
         "name": "South Sudan",
         "offsetgroup": "South Sudan",
         "orientation": "v",
         "showlegend": true,
         "text": [
          1
         ],
         "textposition": "auto",
         "type": "bar",
         "x": [
          "04/05/2020"
         ],
         "xaxis": "x",
         "y": [
          1
         ],
         "yaxis": "y"
        },
        {
         "alignmentgroup": "True",
         "hovertemplate": "Country=Spain<br>Date=%{x}<br>Confirmed=%{text}<extra></extra>",
         "legendgroup": "Spain",
         "marker": {
          "color": "#FF6692"
         },
         "name": "Spain",
         "offsetgroup": "Spain",
         "orientation": "v",
         "showlegend": true,
         "text": [
          131646
         ],
         "textposition": "auto",
         "type": "bar",
         "x": [
          "04/05/2020"
         ],
         "xaxis": "x",
         "y": [
          131646
         ],
         "yaxis": "y"
        },
        {
         "alignmentgroup": "True",
         "hovertemplate": "Country=Sri Lanka<br>Date=%{x}<br>Confirmed=%{text}<extra></extra>",
         "legendgroup": "Sri Lanka",
         "marker": {
          "color": "#B6E880"
         },
         "name": "Sri Lanka",
         "offsetgroup": "Sri Lanka",
         "orientation": "v",
         "showlegend": true,
         "text": [
          176
         ],
         "textposition": "auto",
         "type": "bar",
         "x": [
          "04/05/2020"
         ],
         "xaxis": "x",
         "y": [
          176
         ],
         "yaxis": "y"
        },
        {
         "alignmentgroup": "True",
         "hovertemplate": "Country=Portugal<br>Date=%{x}<br>Confirmed=%{text}<extra></extra>",
         "legendgroup": "Portugal",
         "marker": {
          "color": "#FF97FF"
         },
         "name": "Portugal",
         "offsetgroup": "Portugal",
         "orientation": "v",
         "showlegend": true,
         "text": [
          11278
         ],
         "textposition": "auto",
         "type": "bar",
         "x": [
          "04/05/2020"
         ],
         "xaxis": "x",
         "y": [
          11278
         ],
         "yaxis": "y"
        },
        {
         "alignmentgroup": "True",
         "hovertemplate": "Country=Liberia<br>Date=%{x}<br>Confirmed=%{text}<extra></extra>",
         "legendgroup": "Liberia",
         "marker": {
          "color": "#FECB52"
         },
         "name": "Liberia",
         "offsetgroup": "Liberia",
         "orientation": "v",
         "showlegend": true,
         "text": [
          13
         ],
         "textposition": "auto",
         "type": "bar",
         "x": [
          "04/05/2020"
         ],
         "xaxis": "x",
         "y": [
          13
         ],
         "yaxis": "y"
        },
        {
         "alignmentgroup": "True",
         "hovertemplate": "Country=Kenya<br>Date=%{x}<br>Confirmed=%{text}<extra></extra>",
         "legendgroup": "Kenya",
         "marker": {
          "color": "#636efa"
         },
         "name": "Kenya",
         "offsetgroup": "Kenya",
         "orientation": "v",
         "showlegend": true,
         "text": [
          142
         ],
         "textposition": "auto",
         "type": "bar",
         "x": [
          "04/05/2020"
         ],
         "xaxis": "x",
         "y": [
          142
         ],
         "yaxis": "y"
        },
        {
         "alignmentgroup": "True",
         "hovertemplate": "Country=Latvia<br>Date=%{x}<br>Confirmed=%{text}<extra></extra>",
         "legendgroup": "Latvia",
         "marker": {
          "color": "#EF553B"
         },
         "name": "Latvia",
         "offsetgroup": "Latvia",
         "orientation": "v",
         "showlegend": true,
         "text": [
          533
         ],
         "textposition": "auto",
         "type": "bar",
         "x": [
          "04/05/2020"
         ],
         "xaxis": "x",
         "y": [
          533
         ],
         "yaxis": "y"
        },
        {
         "alignmentgroup": "True",
         "hovertemplate": "Country=Bulgaria<br>Date=%{x}<br>Confirmed=%{text}<extra></extra>",
         "legendgroup": "Bulgaria",
         "marker": {
          "color": "#00cc96"
         },
         "name": "Bulgaria",
         "offsetgroup": "Bulgaria",
         "orientation": "v",
         "showlegend": true,
         "text": [
          531
         ],
         "textposition": "auto",
         "type": "bar",
         "x": [
          "04/05/2020"
         ],
         "xaxis": "x",
         "y": [
          531
         ],
         "yaxis": "y"
        },
        {
         "alignmentgroup": "True",
         "hovertemplate": "Country=Burkina Faso<br>Date=%{x}<br>Confirmed=%{text}<extra></extra>",
         "legendgroup": "Burkina Faso",
         "marker": {
          "color": "#ab63fa"
         },
         "name": "Burkina Faso",
         "offsetgroup": "Burkina Faso",
         "orientation": "v",
         "showlegend": true,
         "text": [
          345
         ],
         "textposition": "auto",
         "type": "bar",
         "x": [
          "04/05/2020"
         ],
         "xaxis": "x",
         "y": [
          345
         ],
         "yaxis": "y"
        },
        {
         "alignmentgroup": "True",
         "hovertemplate": "Country=Burma<br>Date=%{x}<br>Confirmed=%{text}<extra></extra>",
         "legendgroup": "Burma",
         "marker": {
          "color": "#FFA15A"
         },
         "name": "Burma",
         "offsetgroup": "Burma",
         "orientation": "v",
         "showlegend": true,
         "text": [
          21
         ],
         "textposition": "auto",
         "type": "bar",
         "x": [
          "04/05/2020"
         ],
         "xaxis": "x",
         "y": [
          21
         ],
         "yaxis": "y"
        },
        {
         "alignmentgroup": "True",
         "hovertemplate": "Country=Burundi<br>Date=%{x}<br>Confirmed=%{text}<extra></extra>",
         "legendgroup": "Burundi",
         "marker": {
          "color": "#19d3f3"
         },
         "name": "Burundi",
         "offsetgroup": "Burundi",
         "orientation": "v",
         "showlegend": true,
         "text": [
          3
         ],
         "textposition": "auto",
         "type": "bar",
         "x": [
          "04/05/2020"
         ],
         "xaxis": "x",
         "y": [
          3
         ],
         "yaxis": "y"
        },
        {
         "alignmentgroup": "True",
         "hovertemplate": "Country=Cabo Verde<br>Date=%{x}<br>Confirmed=%{text}<extra></extra>",
         "legendgroup": "Cabo Verde",
         "marker": {
          "color": "#FF6692"
         },
         "name": "Cabo Verde",
         "offsetgroup": "Cabo Verde",
         "orientation": "v",
         "showlegend": true,
         "text": [
          7
         ],
         "textposition": "auto",
         "type": "bar",
         "x": [
          "04/05/2020"
         ],
         "xaxis": "x",
         "y": [
          7
         ],
         "yaxis": "y"
        },
        {
         "alignmentgroup": "True",
         "hovertemplate": "Country=Cambodia<br>Date=%{x}<br>Confirmed=%{text}<extra></extra>",
         "legendgroup": "Cambodia",
         "marker": {
          "color": "#B6E880"
         },
         "name": "Cambodia",
         "offsetgroup": "Cambodia",
         "orientation": "v",
         "showlegend": true,
         "text": [
          114
         ],
         "textposition": "auto",
         "type": "bar",
         "x": [
          "04/05/2020"
         ],
         "xaxis": "x",
         "y": [
          114
         ],
         "yaxis": "y"
        },
        {
         "alignmentgroup": "True",
         "hovertemplate": "Country=Cameroon<br>Date=%{x}<br>Confirmed=%{text}<extra></extra>",
         "legendgroup": "Cameroon",
         "marker": {
          "color": "#FF97FF"
         },
         "name": "Cameroon",
         "offsetgroup": "Cameroon",
         "orientation": "v",
         "showlegend": true,
         "text": [
          650
         ],
         "textposition": "auto",
         "type": "bar",
         "x": [
          "04/05/2020"
         ],
         "xaxis": "x",
         "y": [
          650
         ],
         "yaxis": "y"
        },
        {
         "alignmentgroup": "True",
         "hovertemplate": "Country=Canada<br>Date=%{x}<br>Confirmed=%{text}<extra></extra>",
         "legendgroup": "Canada",
         "marker": {
          "color": "#FECB52"
         },
         "name": "Canada",
         "offsetgroup": "Canada",
         "orientation": "v",
         "showlegend": true,
         "text": [
          15756
         ],
         "textposition": "auto",
         "type": "bar",
         "x": [
          "04/05/2020"
         ],
         "xaxis": "x",
         "y": [
          15756
         ],
         "yaxis": "y"
        },
        {
         "alignmentgroup": "True",
         "hovertemplate": "Country=Central African Republic<br>Date=%{x}<br>Confirmed=%{text}<extra></extra>",
         "legendgroup": "Central African Republic",
         "marker": {
          "color": "#636efa"
         },
         "name": "Central African Republic",
         "offsetgroup": "Central African Republic",
         "orientation": "v",
         "showlegend": true,
         "text": [
          8
         ],
         "textposition": "auto",
         "type": "bar",
         "x": [
          "04/05/2020"
         ],
         "xaxis": "x",
         "y": [
          8
         ],
         "yaxis": "y"
        },
        {
         "alignmentgroup": "True",
         "hovertemplate": "Country=Brunei<br>Date=%{x}<br>Confirmed=%{text}<extra></extra>",
         "legendgroup": "Brunei",
         "marker": {
          "color": "#EF553B"
         },
         "name": "Brunei",
         "offsetgroup": "Brunei",
         "orientation": "v",
         "showlegend": true,
         "text": [
          135
         ],
         "textposition": "auto",
         "type": "bar",
         "x": [
          "04/05/2020"
         ],
         "xaxis": "x",
         "y": [
          135
         ],
         "yaxis": "y"
        },
        {
         "alignmentgroup": "True",
         "hovertemplate": "Country=Chad<br>Date=%{x}<br>Confirmed=%{text}<extra></extra>",
         "legendgroup": "Chad",
         "marker": {
          "color": "#00cc96"
         },
         "name": "Chad",
         "offsetgroup": "Chad",
         "orientation": "v",
         "showlegend": true,
         "text": [
          9
         ],
         "textposition": "auto",
         "type": "bar",
         "x": [
          "04/05/2020"
         ],
         "xaxis": "x",
         "y": [
          9
         ],
         "yaxis": "y"
        },
        {
         "alignmentgroup": "True",
         "hovertemplate": "Country=Colombia<br>Date=%{x}<br>Confirmed=%{text}<extra></extra>",
         "legendgroup": "Colombia",
         "marker": {
          "color": "#ab63fa"
         },
         "name": "Colombia",
         "offsetgroup": "Colombia",
         "orientation": "v",
         "showlegend": true,
         "text": [
          1485
         ],
         "textposition": "auto",
         "type": "bar",
         "x": [
          "04/05/2020"
         ],
         "xaxis": "x",
         "y": [
          1485
         ],
         "yaxis": "y"
        },
        {
         "alignmentgroup": "True",
         "hovertemplate": "Country=Congo (Brazzaville)<br>Date=%{x}<br>Confirmed=%{text}<extra></extra>",
         "legendgroup": "Congo (Brazzaville)",
         "marker": {
          "color": "#FFA15A"
         },
         "name": "Congo (Brazzaville)",
         "offsetgroup": "Congo (Brazzaville)",
         "orientation": "v",
         "showlegend": true,
         "text": [
          45
         ],
         "textposition": "auto",
         "type": "bar",
         "x": [
          "04/05/2020"
         ],
         "xaxis": "x",
         "y": [
          45
         ],
         "yaxis": "y"
        },
        {
         "alignmentgroup": "True",
         "hovertemplate": "Country=Congo (Kinshasa)<br>Date=%{x}<br>Confirmed=%{text}<extra></extra>",
         "legendgroup": "Congo (Kinshasa)",
         "marker": {
          "color": "#19d3f3"
         },
         "name": "Congo (Kinshasa)",
         "offsetgroup": "Congo (Kinshasa)",
         "orientation": "v",
         "showlegend": true,
         "text": [
          154
         ],
         "textposition": "auto",
         "type": "bar",
         "x": [
          "04/05/2020"
         ],
         "xaxis": "x",
         "y": [
          154
         ],
         "yaxis": "y"
        },
        {
         "alignmentgroup": "True",
         "hovertemplate": "Country=Costa Rica<br>Date=%{x}<br>Confirmed=%{text}<extra></extra>",
         "legendgroup": "Costa Rica",
         "marker": {
          "color": "#FF6692"
         },
         "name": "Costa Rica",
         "offsetgroup": "Costa Rica",
         "orientation": "v",
         "showlegend": true,
         "text": [
          454
         ],
         "textposition": "auto",
         "type": "bar",
         "x": [
          "04/05/2020"
         ],
         "xaxis": "x",
         "y": [
          454
         ],
         "yaxis": "y"
        },
        {
         "alignmentgroup": "True",
         "hovertemplate": "Country=Croatia<br>Date=%{x}<br>Confirmed=%{text}<extra></extra>",
         "legendgroup": "Croatia",
         "marker": {
          "color": "#B6E880"
         },
         "name": "Croatia",
         "offsetgroup": "Croatia",
         "orientation": "v",
         "showlegend": true,
         "text": [
          1182
         ],
         "textposition": "auto",
         "type": "bar",
         "x": [
          "04/05/2020"
         ],
         "xaxis": "x",
         "y": [
          1182
         ],
         "yaxis": "y"
        },
        {
         "alignmentgroup": "True",
         "hovertemplate": "Country=Cuba<br>Date=%{x}<br>Confirmed=%{text}<extra></extra>",
         "legendgroup": "Cuba",
         "marker": {
          "color": "#FF97FF"
         },
         "name": "Cuba",
         "offsetgroup": "Cuba",
         "orientation": "v",
         "showlegend": true,
         "text": [
          320
         ],
         "textposition": "auto",
         "type": "bar",
         "x": [
          "04/05/2020"
         ],
         "xaxis": "x",
         "y": [
          320
         ],
         "yaxis": "y"
        },
        {
         "alignmentgroup": "True",
         "hovertemplate": "Country=Cyprus<br>Date=%{x}<br>Confirmed=%{text}<extra></extra>",
         "legendgroup": "Cyprus",
         "marker": {
          "color": "#FECB52"
         },
         "name": "Cyprus",
         "offsetgroup": "Cyprus",
         "orientation": "v",
         "showlegend": true,
         "text": [
          446
         ],
         "textposition": "auto",
         "type": "bar",
         "x": [
          "04/05/2020"
         ],
         "xaxis": "x",
         "y": [
          446
         ],
         "yaxis": "y"
        },
        {
         "alignmentgroup": "True",
         "hovertemplate": "Country=Czech Republic<br>Date=%{x}<br>Confirmed=%{text}<extra></extra>",
         "legendgroup": "Czech Republic",
         "marker": {
          "color": "#636efa"
         },
         "name": "Czech Republic",
         "offsetgroup": "Czech Republic",
         "orientation": "v",
         "showlegend": true,
         "text": [
          4587
         ],
         "textposition": "auto",
         "type": "bar",
         "x": [
          "04/05/2020"
         ],
         "xaxis": "x",
         "y": [
          4587
         ],
         "yaxis": "y"
        },
        {
         "alignmentgroup": "True",
         "hovertemplate": "Country=Denmark<br>Date=%{x}<br>Confirmed=%{text}<extra></extra>",
         "legendgroup": "Denmark",
         "marker": {
          "color": "#EF553B"
         },
         "name": "Denmark",
         "offsetgroup": "Denmark",
         "orientation": "v",
         "showlegend": true,
         "text": [
          4561
         ],
         "textposition": "auto",
         "type": "bar",
         "x": [
          "04/05/2020"
         ],
         "xaxis": "x",
         "y": [
          4561
         ],
         "yaxis": "y"
        },
        {
         "alignmentgroup": "True",
         "hovertemplate": "Country=Chile<br>Date=%{x}<br>Confirmed=%{text}<extra></extra>",
         "legendgroup": "Chile",
         "marker": {
          "color": "#00cc96"
         },
         "name": "Chile",
         "offsetgroup": "Chile",
         "orientation": "v",
         "showlegend": true,
         "text": [
          4471
         ],
         "textposition": "auto",
         "type": "bar",
         "x": [
          "04/05/2020"
         ],
         "xaxis": "x",
         "y": [
          4471
         ],
         "yaxis": "y"
        },
        {
         "alignmentgroup": "True",
         "hovertemplate": "Country=Brazil<br>Date=%{x}<br>Confirmed=%{text}<extra></extra>",
         "legendgroup": "Brazil",
         "marker": {
          "color": "#ab63fa"
         },
         "name": "Brazil",
         "offsetgroup": "Brazil",
         "orientation": "v",
         "showlegend": true,
         "text": [
          11130
         ],
         "textposition": "auto",
         "type": "bar",
         "x": [
          "04/05/2020"
         ],
         "xaxis": "x",
         "y": [
          11130
         ],
         "yaxis": "y"
        },
        {
         "alignmentgroup": "True",
         "hovertemplate": "Country=Botswana<br>Date=%{x}<br>Confirmed=%{text}<extra></extra>",
         "legendgroup": "Botswana",
         "marker": {
          "color": "#FFA15A"
         },
         "name": "Botswana",
         "offsetgroup": "Botswana",
         "orientation": "v",
         "showlegend": true,
         "text": [
          6
         ],
         "textposition": "auto",
         "type": "bar",
         "x": [
          "04/05/2020"
         ],
         "xaxis": "x",
         "y": [
          6
         ],
         "yaxis": "y"
        },
        {
         "alignmentgroup": "True",
         "hovertemplate": "Country=Bosnia and Herzegovina<br>Date=%{x}<br>Confirmed=%{text}<extra></extra>",
         "legendgroup": "Bosnia and Herzegovina",
         "marker": {
          "color": "#19d3f3"
         },
         "name": "Bosnia and Herzegovina",
         "offsetgroup": "Bosnia and Herzegovina",
         "orientation": "v",
         "showlegend": true,
         "text": [
          654
         ],
         "textposition": "auto",
         "type": "bar",
         "x": [
          "04/05/2020"
         ],
         "xaxis": "x",
         "y": [
          654
         ],
         "yaxis": "y"
        },
        {
         "alignmentgroup": "True",
         "hovertemplate": "Country=Afghanistan<br>Date=%{x}<br>Confirmed=%{text}<extra></extra>",
         "legendgroup": "Afghanistan",
         "marker": {
          "color": "#FF6692"
         },
         "name": "Afghanistan",
         "offsetgroup": "Afghanistan",
         "orientation": "v",
         "showlegend": true,
         "text": [
          349
         ],
         "textposition": "auto",
         "type": "bar",
         "x": [
          "04/05/2020"
         ],
         "xaxis": "x",
         "y": [
          349
         ],
         "yaxis": "y"
        },
        {
         "alignmentgroup": "True",
         "hovertemplate": "Country=Albania<br>Date=%{x}<br>Confirmed=%{text}<extra></extra>",
         "legendgroup": "Albania",
         "marker": {
          "color": "#B6E880"
         },
         "name": "Albania",
         "offsetgroup": "Albania",
         "orientation": "v",
         "showlegend": true,
         "text": [
          361
         ],
         "textposition": "auto",
         "type": "bar",
         "x": [
          "04/05/2020"
         ],
         "xaxis": "x",
         "y": [
          361
         ],
         "yaxis": "y"
        },
        {
         "alignmentgroup": "True",
         "hovertemplate": "Country=Algeria<br>Date=%{x}<br>Confirmed=%{text}<extra></extra>",
         "legendgroup": "Algeria",
         "marker": {
          "color": "#FF97FF"
         },
         "name": "Algeria",
         "offsetgroup": "Algeria",
         "orientation": "v",
         "showlegend": true,
         "text": [
          1320
         ],
         "textposition": "auto",
         "type": "bar",
         "x": [
          "04/05/2020"
         ],
         "xaxis": "x",
         "y": [
          1320
         ],
         "yaxis": "y"
        },
        {
         "alignmentgroup": "True",
         "hovertemplate": "Country=Andorra<br>Date=%{x}<br>Confirmed=%{text}<extra></extra>",
         "legendgroup": "Andorra",
         "marker": {
          "color": "#FECB52"
         },
         "name": "Andorra",
         "offsetgroup": "Andorra",
         "orientation": "v",
         "showlegend": true,
         "text": [
          501
         ],
         "textposition": "auto",
         "type": "bar",
         "x": [
          "04/05/2020"
         ],
         "xaxis": "x",
         "y": [
          501
         ],
         "yaxis": "y"
        },
        {
         "alignmentgroup": "True",
         "hovertemplate": "Country=Angola<br>Date=%{x}<br>Confirmed=%{text}<extra></extra>",
         "legendgroup": "Angola",
         "marker": {
          "color": "#636efa"
         },
         "name": "Angola",
         "offsetgroup": "Angola",
         "orientation": "v",
         "showlegend": true,
         "text": [
          14
         ],
         "textposition": "auto",
         "type": "bar",
         "x": [
          "04/05/2020"
         ],
         "xaxis": "x",
         "y": [
          14
         ],
         "yaxis": "y"
        },
        {
         "alignmentgroup": "True",
         "hovertemplate": "Country=Antigua and Barbuda<br>Date=%{x}<br>Confirmed=%{text}<extra></extra>",
         "legendgroup": "Antigua and Barbuda",
         "marker": {
          "color": "#EF553B"
         },
         "name": "Antigua and Barbuda",
         "offsetgroup": "Antigua and Barbuda",
         "orientation": "v",
         "showlegend": true,
         "text": [
          15
         ],
         "textposition": "auto",
         "type": "bar",
         "x": [
          "04/05/2020"
         ],
         "xaxis": "x",
         "y": [
          15
         ],
         "yaxis": "y"
        },
        {
         "alignmentgroup": "True",
         "hovertemplate": "Country=Argentina<br>Date=%{x}<br>Confirmed=%{text}<extra></extra>",
         "legendgroup": "Argentina",
         "marker": {
          "color": "#00cc96"
         },
         "name": "Argentina",
         "offsetgroup": "Argentina",
         "orientation": "v",
         "showlegend": true,
         "text": [
          1451
         ],
         "textposition": "auto",
         "type": "bar",
         "x": [
          "04/05/2020"
         ],
         "xaxis": "x",
         "y": [
          1451
         ],
         "yaxis": "y"
        },
        {
         "alignmentgroup": "True",
         "hovertemplate": "Country=Armenia<br>Date=%{x}<br>Confirmed=%{text}<extra></extra>",
         "legendgroup": "Armenia",
         "marker": {
          "color": "#ab63fa"
         },
         "name": "Armenia",
         "offsetgroup": "Armenia",
         "orientation": "v",
         "showlegend": true,
         "text": [
          822
         ],
         "textposition": "auto",
         "type": "bar",
         "x": [
          "04/05/2020"
         ],
         "xaxis": "x",
         "y": [
          822
         ],
         "yaxis": "y"
        },
        {
         "alignmentgroup": "True",
         "hovertemplate": "Country=Australia<br>Date=%{x}<br>Confirmed=%{text}<extra></extra>",
         "legendgroup": "Australia",
         "marker": {
          "color": "#FFA15A"
         },
         "name": "Australia",
         "offsetgroup": "Australia",
         "orientation": "v",
         "showlegend": true,
         "text": [
          5687
         ],
         "textposition": "auto",
         "type": "bar",
         "x": [
          "04/05/2020"
         ],
         "xaxis": "x",
         "y": [
          5687
         ],
         "yaxis": "y"
        },
        {
         "alignmentgroup": "True",
         "hovertemplate": "Country=Austria<br>Date=%{x}<br>Confirmed=%{text}<extra></extra>",
         "legendgroup": "Austria",
         "marker": {
          "color": "#19d3f3"
         },
         "name": "Austria",
         "offsetgroup": "Austria",
         "orientation": "v",
         "showlegend": true,
         "text": [
          12051
         ],
         "textposition": "auto",
         "type": "bar",
         "x": [
          "04/05/2020"
         ],
         "xaxis": "x",
         "y": [
          12051
         ],
         "yaxis": "y"
        },
        {
         "alignmentgroup": "True",
         "hovertemplate": "Country=Azerbaijan<br>Date=%{x}<br>Confirmed=%{text}<extra></extra>",
         "legendgroup": "Azerbaijan",
         "marker": {
          "color": "#FF6692"
         },
         "name": "Azerbaijan",
         "offsetgroup": "Azerbaijan",
         "orientation": "v",
         "showlegend": true,
         "text": [
          584
         ],
         "textposition": "auto",
         "type": "bar",
         "x": [
          "04/05/2020"
         ],
         "xaxis": "x",
         "y": [
          584
         ],
         "yaxis": "y"
        },
        {
         "alignmentgroup": "True",
         "hovertemplate": "Country=Bahamas<br>Date=%{x}<br>Confirmed=%{text}<extra></extra>",
         "legendgroup": "Bahamas",
         "marker": {
          "color": "#B6E880"
         },
         "name": "Bahamas",
         "offsetgroup": "Bahamas",
         "orientation": "v",
         "showlegend": true,
         "text": [
          28
         ],
         "textposition": "auto",
         "type": "bar",
         "x": [
          "04/05/2020"
         ],
         "xaxis": "x",
         "y": [
          28
         ],
         "yaxis": "y"
        },
        {
         "alignmentgroup": "True",
         "hovertemplate": "Country=Bahrain<br>Date=%{x}<br>Confirmed=%{text}<extra></extra>",
         "legendgroup": "Bahrain",
         "marker": {
          "color": "#FF97FF"
         },
         "name": "Bahrain",
         "offsetgroup": "Bahrain",
         "orientation": "v",
         "showlegend": true,
         "text": [
          700
         ],
         "textposition": "auto",
         "type": "bar",
         "x": [
          "04/05/2020"
         ],
         "xaxis": "x",
         "y": [
          700
         ],
         "yaxis": "y"
        },
        {
         "alignmentgroup": "True",
         "hovertemplate": "Country=Bangladesh<br>Date=%{x}<br>Confirmed=%{text}<extra></extra>",
         "legendgroup": "Bangladesh",
         "marker": {
          "color": "#FECB52"
         },
         "name": "Bangladesh",
         "offsetgroup": "Bangladesh",
         "orientation": "v",
         "showlegend": true,
         "text": [
          88
         ],
         "textposition": "auto",
         "type": "bar",
         "x": [
          "04/05/2020"
         ],
         "xaxis": "x",
         "y": [
          88
         ],
         "yaxis": "y"
        },
        {
         "alignmentgroup": "True",
         "hovertemplate": "Country=Barbados<br>Date=%{x}<br>Confirmed=%{text}<extra></extra>",
         "legendgroup": "Barbados",
         "marker": {
          "color": "#636efa"
         },
         "name": "Barbados",
         "offsetgroup": "Barbados",
         "orientation": "v",
         "showlegend": true,
         "text": [
          56
         ],
         "textposition": "auto",
         "type": "bar",
         "x": [
          "04/05/2020"
         ],
         "xaxis": "x",
         "y": [
          56
         ],
         "yaxis": "y"
        },
        {
         "alignmentgroup": "True",
         "hovertemplate": "Country=Belarus<br>Date=%{x}<br>Confirmed=%{text}<extra></extra>",
         "legendgroup": "Belarus",
         "marker": {
          "color": "#EF553B"
         },
         "name": "Belarus",
         "offsetgroup": "Belarus",
         "orientation": "v",
         "showlegend": true,
         "text": [
          562
         ],
         "textposition": "auto",
         "type": "bar",
         "x": [
          "04/05/2020"
         ],
         "xaxis": "x",
         "y": [
          562
         ],
         "yaxis": "y"
        },
        {
         "alignmentgroup": "True",
         "hovertemplate": "Country=Belgium<br>Date=%{x}<br>Confirmed=%{text}<extra></extra>",
         "legendgroup": "Belgium",
         "marker": {
          "color": "#00cc96"
         },
         "name": "Belgium",
         "offsetgroup": "Belgium",
         "orientation": "v",
         "showlegend": true,
         "text": [
          19691
         ],
         "textposition": "auto",
         "type": "bar",
         "x": [
          "04/05/2020"
         ],
         "xaxis": "x",
         "y": [
          19691
         ],
         "yaxis": "y"
        },
        {
         "alignmentgroup": "True",
         "hovertemplate": "Country=Belize<br>Date=%{x}<br>Confirmed=%{text}<extra></extra>",
         "legendgroup": "Belize",
         "marker": {
          "color": "#ab63fa"
         },
         "name": "Belize",
         "offsetgroup": "Belize",
         "orientation": "v",
         "showlegend": true,
         "text": [
          5
         ],
         "textposition": "auto",
         "type": "bar",
         "x": [
          "04/05/2020"
         ],
         "xaxis": "x",
         "y": [
          5
         ],
         "yaxis": "y"
        },
        {
         "alignmentgroup": "True",
         "hovertemplate": "Country=Benin<br>Date=%{x}<br>Confirmed=%{text}<extra></extra>",
         "legendgroup": "Benin",
         "marker": {
          "color": "#FFA15A"
         },
         "name": "Benin",
         "offsetgroup": "Benin",
         "orientation": "v",
         "showlegend": true,
         "text": [
          22
         ],
         "textposition": "auto",
         "type": "bar",
         "x": [
          "04/05/2020"
         ],
         "xaxis": "x",
         "y": [
          22
         ],
         "yaxis": "y"
        },
        {
         "alignmentgroup": "True",
         "hovertemplate": "Country=Bhutan<br>Date=%{x}<br>Confirmed=%{text}<extra></extra>",
         "legendgroup": "Bhutan",
         "marker": {
          "color": "#19d3f3"
         },
         "name": "Bhutan",
         "offsetgroup": "Bhutan",
         "orientation": "v",
         "showlegend": true,
         "text": [
          5
         ],
         "textposition": "auto",
         "type": "bar",
         "x": [
          "04/05/2020"
         ],
         "xaxis": "x",
         "y": [
          5
         ],
         "yaxis": "y"
        },
        {
         "alignmentgroup": "True",
         "hovertemplate": "Country=Bolivia<br>Date=%{x}<br>Confirmed=%{text}<extra></extra>",
         "legendgroup": "Bolivia",
         "marker": {
          "color": "#FF6692"
         },
         "name": "Bolivia",
         "offsetgroup": "Bolivia",
         "orientation": "v",
         "showlegend": true,
         "text": [
          157
         ],
         "textposition": "auto",
         "type": "bar",
         "x": [
          "04/05/2020"
         ],
         "xaxis": "x",
         "y": [
          157
         ],
         "yaxis": "y"
        },
        {
         "alignmentgroup": "True",
         "hovertemplate": "Country=Diamond Princess<br>Date=%{x}<br>Confirmed=%{text}<extra></extra>",
         "legendgroup": "Diamond Princess",
         "marker": {
          "color": "#B6E880"
         },
         "name": "Diamond Princess",
         "offsetgroup": "Diamond Princess",
         "orientation": "v",
         "showlegend": true,
         "text": [
          712
         ],
         "textposition": "auto",
         "type": "bar",
         "x": [
          "04/05/2020"
         ],
         "xaxis": "x",
         "y": [
          712
         ],
         "yaxis": "y"
        },
        {
         "alignmentgroup": "True",
         "hovertemplate": "Country=Lebanon<br>Date=%{x}<br>Confirmed=%{text}<extra></extra>",
         "legendgroup": "Lebanon",
         "marker": {
          "color": "#FF97FF"
         },
         "name": "Lebanon",
         "offsetgroup": "Lebanon",
         "orientation": "v",
         "showlegend": true,
         "text": [
          527
         ],
         "textposition": "auto",
         "type": "bar",
         "x": [
          "04/05/2020"
         ],
         "xaxis": "x",
         "y": [
          527
         ],
         "yaxis": "y"
        },
        {
         "alignmentgroup": "True",
         "hovertemplate": "Country=Djibouti<br>Date=%{x}<br>Confirmed=%{text}<extra></extra>",
         "legendgroup": "Djibouti",
         "marker": {
          "color": "#FECB52"
         },
         "name": "Djibouti",
         "offsetgroup": "Djibouti",
         "orientation": "v",
         "showlegend": true,
         "text": [
          59
         ],
         "textposition": "auto",
         "type": "bar",
         "x": [
          "04/05/2020"
         ],
         "xaxis": "x",
         "y": [
          59
         ],
         "yaxis": "y"
        },
        {
         "alignmentgroup": "True",
         "hovertemplate": "Country=Dominican Republic<br>Date=%{x}<br>Confirmed=%{text}<extra></extra>",
         "legendgroup": "Dominican Republic",
         "marker": {
          "color": "#636efa"
         },
         "name": "Dominican Republic",
         "offsetgroup": "Dominican Republic",
         "orientation": "v",
         "showlegend": true,
         "text": [
          1745
         ],
         "textposition": "auto",
         "type": "bar",
         "x": [
          "04/05/2020"
         ],
         "xaxis": "x",
         "y": [
          1745
         ],
         "yaxis": "y"
        },
        {
         "alignmentgroup": "True",
         "hovertemplate": "Country=Hong Kong<br>Date=%{x}<br>Confirmed=%{text}<extra></extra>",
         "legendgroup": "Hong Kong",
         "marker": {
          "color": "#EF553B"
         },
         "name": "Hong Kong",
         "offsetgroup": "Hong Kong",
         "orientation": "v",
         "showlegend": true,
         "text": [
          890
         ],
         "textposition": "auto",
         "type": "bar",
         "x": [
          "04/05/2020"
         ],
         "xaxis": "x",
         "y": [
          890
         ],
         "yaxis": "y"
        },
        {
         "alignmentgroup": "True",
         "hovertemplate": "Country=Hungary<br>Date=%{x}<br>Confirmed=%{text}<extra></extra>",
         "legendgroup": "Hungary",
         "marker": {
          "color": "#00cc96"
         },
         "name": "Hungary",
         "offsetgroup": "Hungary",
         "orientation": "v",
         "showlegend": true,
         "text": [
          733
         ],
         "textposition": "auto",
         "type": "bar",
         "x": [
          "04/05/2020"
         ],
         "xaxis": "x",
         "y": [
          733
         ],
         "yaxis": "y"
        },
        {
         "alignmentgroup": "True",
         "hovertemplate": "Country=Iceland<br>Date=%{x}<br>Confirmed=%{text}<extra></extra>",
         "legendgroup": "Iceland",
         "marker": {
          "color": "#ab63fa"
         },
         "name": "Iceland",
         "offsetgroup": "Iceland",
         "orientation": "v",
         "showlegend": true,
         "text": [
          1486
         ],
         "textposition": "auto",
         "type": "bar",
         "x": [
          "04/05/2020"
         ],
         "xaxis": "x",
         "y": [
          1486
         ],
         "yaxis": "y"
        },
        {
         "alignmentgroup": "True",
         "hovertemplate": "Country=India<br>Date=%{x}<br>Confirmed=%{text}<extra></extra>",
         "legendgroup": "India",
         "marker": {
          "color": "#FFA15A"
         },
         "name": "India",
         "offsetgroup": "India",
         "orientation": "v",
         "showlegend": true,
         "text": [
          3588
         ],
         "textposition": "auto",
         "type": "bar",
         "x": [
          "04/05/2020"
         ],
         "xaxis": "x",
         "y": [
          3588
         ],
         "yaxis": "y"
        },
        {
         "alignmentgroup": "True",
         "hovertemplate": "Country=Indonesia<br>Date=%{x}<br>Confirmed=%{text}<extra></extra>",
         "legendgroup": "Indonesia",
         "marker": {
          "color": "#19d3f3"
         },
         "name": "Indonesia",
         "offsetgroup": "Indonesia",
         "orientation": "v",
         "showlegend": true,
         "text": [
          2273
         ],
         "textposition": "auto",
         "type": "bar",
         "x": [
          "04/05/2020"
         ],
         "xaxis": "x",
         "y": [
          2273
         ],
         "yaxis": "y"
        },
        {
         "alignmentgroup": "True",
         "hovertemplate": "Country=Iran<br>Date=%{x}<br>Confirmed=%{text}<extra></extra>",
         "legendgroup": "Iran",
         "marker": {
          "color": "#FF6692"
         },
         "name": "Iran",
         "offsetgroup": "Iran",
         "orientation": "v",
         "showlegend": true,
         "text": [
          58226
         ],
         "textposition": "auto",
         "type": "bar",
         "x": [
          "04/05/2020"
         ],
         "xaxis": "x",
         "y": [
          58226
         ],
         "yaxis": "y"
        },
        {
         "alignmentgroup": "True",
         "hovertemplate": "Country=Iraq<br>Date=%{x}<br>Confirmed=%{text}<extra></extra>",
         "legendgroup": "Iraq",
         "marker": {
          "color": "#B6E880"
         },
         "name": "Iraq",
         "offsetgroup": "Iraq",
         "orientation": "v",
         "showlegend": true,
         "text": [
          961
         ],
         "textposition": "auto",
         "type": "bar",
         "x": [
          "04/05/2020"
         ],
         "xaxis": "x",
         "y": [
          961
         ],
         "yaxis": "y"
        },
        {
         "alignmentgroup": "True",
         "hovertemplate": "Country=Ireland<br>Date=%{x}<br>Confirmed=%{text}<extra></extra>",
         "legendgroup": "Ireland",
         "marker": {
          "color": "#FF97FF"
         },
         "name": "Ireland",
         "offsetgroup": "Ireland",
         "orientation": "v",
         "showlegend": true,
         "text": [
          4994
         ],
         "textposition": "auto",
         "type": "bar",
         "x": [
          "04/05/2020"
         ],
         "xaxis": "x",
         "y": [
          4994
         ],
         "yaxis": "y"
        },
        {
         "alignmentgroup": "True",
         "hovertemplate": "Country=Israel<br>Date=%{x}<br>Confirmed=%{text}<extra></extra>",
         "legendgroup": "Israel",
         "marker": {
          "color": "#FECB52"
         },
         "name": "Israel",
         "offsetgroup": "Israel",
         "orientation": "v",
         "showlegend": true,
         "text": [
          8430
         ],
         "textposition": "auto",
         "type": "bar",
         "x": [
          "04/05/2020"
         ],
         "xaxis": "x",
         "y": [
          8430
         ],
         "yaxis": "y"
        },
        {
         "alignmentgroup": "True",
         "hovertemplate": "Country=Honduras<br>Date=%{x}<br>Confirmed=%{text}<extra></extra>",
         "legendgroup": "Honduras",
         "marker": {
          "color": "#636efa"
         },
         "name": "Honduras",
         "offsetgroup": "Honduras",
         "orientation": "v",
         "showlegend": true,
         "text": [
          268
         ],
         "textposition": "auto",
         "type": "bar",
         "x": [
          "04/05/2020"
         ],
         "xaxis": "x",
         "y": [
          268
         ],
         "yaxis": "y"
        },
        {
         "alignmentgroup": "True",
         "hovertemplate": "Country=Italy<br>Date=%{x}<br>Confirmed=%{text}<extra></extra>",
         "legendgroup": "Italy",
         "marker": {
          "color": "#EF553B"
         },
         "name": "Italy",
         "offsetgroup": "Italy",
         "orientation": "v",
         "showlegend": true,
         "text": [
          128948
         ],
         "textposition": "auto",
         "type": "bar",
         "x": [
          "04/05/2020"
         ],
         "xaxis": "x",
         "y": [
          128948
         ],
         "yaxis": "y"
        },
        {
         "alignmentgroup": "True",
         "hovertemplate": "Country=Jamaica<br>Date=%{x}<br>Confirmed=%{text}<extra></extra>",
         "legendgroup": "Jamaica",
         "marker": {
          "color": "#00cc96"
         },
         "name": "Jamaica",
         "offsetgroup": "Jamaica",
         "orientation": "v",
         "showlegend": true,
         "text": [
          58
         ],
         "textposition": "auto",
         "type": "bar",
         "x": [
          "04/05/2020"
         ],
         "xaxis": "x",
         "y": [
          58
         ],
         "yaxis": "y"
        },
        {
         "alignmentgroup": "True",
         "hovertemplate": "Country=Japan<br>Date=%{x}<br>Confirmed=%{text}<extra></extra>",
         "legendgroup": "Japan",
         "marker": {
          "color": "#ab63fa"
         },
         "name": "Japan",
         "offsetgroup": "Japan",
         "orientation": "v",
         "showlegend": true,
         "text": [
          3139
         ],
         "textposition": "auto",
         "type": "bar",
         "x": [
          "04/05/2020"
         ],
         "xaxis": "x",
         "y": [
          3139
         ],
         "yaxis": "y"
        },
        {
         "alignmentgroup": "True",
         "hovertemplate": "Country=Jordan<br>Date=%{x}<br>Confirmed=%{text}<extra></extra>",
         "legendgroup": "Jordan",
         "marker": {
          "color": "#FFA15A"
         },
         "name": "Jordan",
         "offsetgroup": "Jordan",
         "orientation": "v",
         "showlegend": true,
         "text": [
          345
         ],
         "textposition": "auto",
         "type": "bar",
         "x": [
          "04/05/2020"
         ],
         "xaxis": "x",
         "y": [
          345
         ],
         "yaxis": "y"
        },
        {
         "alignmentgroup": "True",
         "hovertemplate": "Country=Kazakhstan<br>Date=%{x}<br>Confirmed=%{text}<extra></extra>",
         "legendgroup": "Kazakhstan",
         "marker": {
          "color": "#19d3f3"
         },
         "name": "Kazakhstan",
         "offsetgroup": "Kazakhstan",
         "orientation": "v",
         "showlegend": true,
         "text": [
          584
         ],
         "textposition": "auto",
         "type": "bar",
         "x": [
          "04/05/2020"
         ],
         "xaxis": "x",
         "y": [
          584
         ],
         "yaxis": "y"
        },
        {
         "alignmentgroup": "True",
         "hovertemplate": "Country=Zambia<br>Date=%{x}<br>Confirmed=%{text}<extra></extra>",
         "legendgroup": "Zambia",
         "marker": {
          "color": "#FF6692"
         },
         "name": "Zambia",
         "offsetgroup": "Zambia",
         "orientation": "v",
         "showlegend": true,
         "text": [
          39
         ],
         "textposition": "auto",
         "type": "bar",
         "x": [
          "04/05/2020"
         ],
         "xaxis": "x",
         "y": [
          39
         ],
         "yaxis": "y"
        },
        {
         "alignmentgroup": "True",
         "hovertemplate": "Country=Kosovo<br>Date=%{x}<br>Confirmed=%{text}<extra></extra>",
         "legendgroup": "Kosovo",
         "marker": {
          "color": "#B6E880"
         },
         "name": "Kosovo",
         "offsetgroup": "Kosovo",
         "orientation": "v",
         "showlegend": true,
         "text": [
          145
         ],
         "textposition": "auto",
         "type": "bar",
         "x": [
          "04/05/2020"
         ],
         "xaxis": "x",
         "y": [
          145
         ],
         "yaxis": "y"
        },
        {
         "alignmentgroup": "True",
         "hovertemplate": "Country=Kuwait<br>Date=%{x}<br>Confirmed=%{text}<extra></extra>",
         "legendgroup": "Kuwait",
         "marker": {
          "color": "#FF97FF"
         },
         "name": "Kuwait",
         "offsetgroup": "Kuwait",
         "orientation": "v",
         "showlegend": true,
         "text": [
          556
         ],
         "textposition": "auto",
         "type": "bar",
         "x": [
          "04/05/2020"
         ],
         "xaxis": "x",
         "y": [
          556
         ],
         "yaxis": "y"
        },
        {
         "alignmentgroup": "True",
         "hovertemplate": "Country=Kyrgyzstan<br>Date=%{x}<br>Confirmed=%{text}<extra></extra>",
         "legendgroup": "Kyrgyzstan",
         "marker": {
          "color": "#FECB52"
         },
         "name": "Kyrgyzstan",
         "offsetgroup": "Kyrgyzstan",
         "orientation": "v",
         "showlegend": true,
         "text": [
          147
         ],
         "textposition": "auto",
         "type": "bar",
         "x": [
          "04/05/2020"
         ],
         "xaxis": "x",
         "y": [
          147
         ],
         "yaxis": "y"
        },
        {
         "alignmentgroup": "True",
         "hovertemplate": "Country=Laos<br>Date=%{x}<br>Confirmed=%{text}<extra></extra>",
         "legendgroup": "Laos",
         "marker": {
          "color": "#636efa"
         },
         "name": "Laos",
         "offsetgroup": "Laos",
         "orientation": "v",
         "showlegend": true,
         "text": [
          11
         ],
         "textposition": "auto",
         "type": "bar",
         "x": [
          "04/05/2020"
         ],
         "xaxis": "x",
         "y": [
          11
         ],
         "yaxis": "y"
        },
        {
         "alignmentgroup": "True",
         "hovertemplate": "Country=Ivory Coast<br>Date=%{x}<br>Confirmed=%{text}<extra></extra>",
         "legendgroup": "Ivory Coast",
         "marker": {
          "color": "#EF553B"
         },
         "name": "Ivory Coast",
         "offsetgroup": "Ivory Coast",
         "orientation": "v",
         "showlegend": true,
         "text": [
          261
         ],
         "textposition": "auto",
         "type": "bar",
         "x": [
          "04/05/2020"
         ],
         "xaxis": "x",
         "y": [
          261
         ],
         "yaxis": "y"
        },
        {
         "alignmentgroup": "True",
         "hovertemplate": "Country=Holy See<br>Date=%{x}<br>Confirmed=%{text}<extra></extra>",
         "legendgroup": "Holy See",
         "marker": {
          "color": "#00cc96"
         },
         "name": "Holy See",
         "offsetgroup": "Holy See",
         "orientation": "v",
         "showlegend": true,
         "text": [
          7
         ],
         "textposition": "auto",
         "type": "bar",
         "x": [
          "04/05/2020"
         ],
         "xaxis": "x",
         "y": [
          7
         ],
         "yaxis": "y"
        },
        {
         "alignmentgroup": "True",
         "hovertemplate": "Country=Haiti<br>Date=%{x}<br>Confirmed=%{text}<extra></extra>",
         "legendgroup": "Haiti",
         "marker": {
          "color": "#ab63fa"
         },
         "name": "Haiti",
         "offsetgroup": "Haiti",
         "orientation": "v",
         "showlegend": true,
         "text": [
          21
         ],
         "textposition": "auto",
         "type": "bar",
         "x": [
          "04/05/2020"
         ],
         "xaxis": "x",
         "y": [
          21
         ],
         "yaxis": "y"
        },
        {
         "alignmentgroup": "True",
         "hovertemplate": "Country=Guyana<br>Date=%{x}<br>Confirmed=%{text}<extra></extra>",
         "legendgroup": "Guyana",
         "marker": {
          "color": "#FFA15A"
         },
         "name": "Guyana",
         "offsetgroup": "Guyana",
         "orientation": "v",
         "showlegend": true,
         "text": [
          24
         ],
         "textposition": "auto",
         "type": "bar",
         "x": [
          "04/05/2020"
         ],
         "xaxis": "x",
         "y": [
          24
         ],
         "yaxis": "y"
        },
        {
         "alignmentgroup": "True",
         "hovertemplate": "Country=Ecuador<br>Date=%{x}<br>Confirmed=%{text}<extra></extra>",
         "legendgroup": "Ecuador",
         "marker": {
          "color": "#19d3f3"
         },
         "name": "Ecuador",
         "offsetgroup": "Ecuador",
         "orientation": "v",
         "showlegend": true,
         "text": [
          3646
         ],
         "textposition": "auto",
         "type": "bar",
         "x": [
          "04/05/2020"
         ],
         "xaxis": "x",
         "y": [
          3646
         ],
         "yaxis": "y"
        },
        {
         "alignmentgroup": "True",
         "hovertemplate": "Country=Egypt<br>Date=%{x}<br>Confirmed=%{text}<extra></extra>",
         "legendgroup": "Egypt",
         "marker": {
          "color": "#FF6692"
         },
         "name": "Egypt",
         "offsetgroup": "Egypt",
         "orientation": "v",
         "showlegend": true,
         "text": [
          1173
         ],
         "textposition": "auto",
         "type": "bar",
         "x": [
          "04/05/2020"
         ],
         "xaxis": "x",
         "y": [
          1173
         ],
         "yaxis": "y"
        },
        {
         "alignmentgroup": "True",
         "hovertemplate": "Country=El Salvador<br>Date=%{x}<br>Confirmed=%{text}<extra></extra>",
         "legendgroup": "El Salvador",
         "marker": {
          "color": "#B6E880"
         },
         "name": "El Salvador",
         "offsetgroup": "El Salvador",
         "orientation": "v",
         "showlegend": true,
         "text": [
          62
         ],
         "textposition": "auto",
         "type": "bar",
         "x": [
          "04/05/2020"
         ],
         "xaxis": "x",
         "y": [
          62
         ],
         "yaxis": "y"
        },
        {
         "alignmentgroup": "True",
         "hovertemplate": "Country=Equatorial Guinea<br>Date=%{x}<br>Confirmed=%{text}<extra></extra>",
         "legendgroup": "Equatorial Guinea",
         "marker": {
          "color": "#FF97FF"
         },
         "name": "Equatorial Guinea",
         "offsetgroup": "Equatorial Guinea",
         "orientation": "v",
         "showlegend": true,
         "text": [
          16
         ],
         "textposition": "auto",
         "type": "bar",
         "x": [
          "04/05/2020"
         ],
         "xaxis": "x",
         "y": [
          16
         ],
         "yaxis": "y"
        },
        {
         "alignmentgroup": "True",
         "hovertemplate": "Country=Eritrea<br>Date=%{x}<br>Confirmed=%{text}<extra></extra>",
         "legendgroup": "Eritrea",
         "marker": {
          "color": "#FECB52"
         },
         "name": "Eritrea",
         "offsetgroup": "Eritrea",
         "orientation": "v",
         "showlegend": true,
         "text": [
          29
         ],
         "textposition": "auto",
         "type": "bar",
         "x": [
          "04/05/2020"
         ],
         "xaxis": "x",
         "y": [
          29
         ],
         "yaxis": "y"
        },
        {
         "alignmentgroup": "True",
         "hovertemplate": "Country=Estonia<br>Date=%{x}<br>Confirmed=%{text}<extra></extra>",
         "legendgroup": "Estonia",
         "marker": {
          "color": "#636efa"
         },
         "name": "Estonia",
         "offsetgroup": "Estonia",
         "orientation": "v",
         "showlegend": true,
         "text": [
          1097
         ],
         "textposition": "auto",
         "type": "bar",
         "x": [
          "04/05/2020"
         ],
         "xaxis": "x",
         "y": [
          1097
         ],
         "yaxis": "y"
        },
        {
         "alignmentgroup": "True",
         "hovertemplate": "Country=Eswatini<br>Date=%{x}<br>Confirmed=%{text}<extra></extra>",
         "legendgroup": "Eswatini",
         "marker": {
          "color": "#EF553B"
         },
         "name": "Eswatini",
         "offsetgroup": "Eswatini",
         "orientation": "v",
         "showlegend": true,
         "text": [
          9
         ],
         "textposition": "auto",
         "type": "bar",
         "x": [
          "04/05/2020"
         ],
         "xaxis": "x",
         "y": [
          9
         ],
         "yaxis": "y"
        },
        {
         "alignmentgroup": "True",
         "hovertemplate": "Country=Ethiopia<br>Date=%{x}<br>Confirmed=%{text}<extra></extra>",
         "legendgroup": "Ethiopia",
         "marker": {
          "color": "#00cc96"
         },
         "name": "Ethiopia",
         "offsetgroup": "Ethiopia",
         "orientation": "v",
         "showlegend": true,
         "text": [
          43
         ],
         "textposition": "auto",
         "type": "bar",
         "x": [
          "04/05/2020"
         ],
         "xaxis": "x",
         "y": [
          43
         ],
         "yaxis": "y"
        },
        {
         "alignmentgroup": "True",
         "hovertemplate": "Country=Fiji<br>Date=%{x}<br>Confirmed=%{text}<extra></extra>",
         "legendgroup": "Fiji",
         "marker": {
          "color": "#ab63fa"
         },
         "name": "Fiji",
         "offsetgroup": "Fiji",
         "orientation": "v",
         "showlegend": true,
         "text": [
          12
         ],
         "textposition": "auto",
         "type": "bar",
         "x": [
          "04/05/2020"
         ],
         "xaxis": "x",
         "y": [
          12
         ],
         "yaxis": "y"
        },
        {
         "alignmentgroup": "True",
         "hovertemplate": "Country=Finland<br>Date=%{x}<br>Confirmed=%{text}<extra></extra>",
         "legendgroup": "Finland",
         "marker": {
          "color": "#FFA15A"
         },
         "name": "Finland",
         "offsetgroup": "Finland",
         "orientation": "v",
         "showlegend": true,
         "text": [
          1927
         ],
         "textposition": "auto",
         "type": "bar",
         "x": [
          "04/05/2020"
         ],
         "xaxis": "x",
         "y": [
          1927
         ],
         "yaxis": "y"
        },
        {
         "alignmentgroup": "True",
         "hovertemplate": "Country=France<br>Date=%{x}<br>Confirmed=%{text}<extra></extra>",
         "legendgroup": "France",
         "marker": {
          "color": "#19d3f3"
         },
         "name": "France",
         "offsetgroup": "France",
         "orientation": "v",
         "showlegend": true,
         "text": [
          93773
         ],
         "textposition": "auto",
         "type": "bar",
         "x": [
          "04/05/2020"
         ],
         "xaxis": "x",
         "y": [
          93773
         ],
         "yaxis": "y"
        },
        {
         "alignmentgroup": "True",
         "hovertemplate": "Country=Gabon<br>Date=%{x}<br>Confirmed=%{text}<extra></extra>",
         "legendgroup": "Gabon",
         "marker": {
          "color": "#FF6692"
         },
         "name": "Gabon",
         "offsetgroup": "Gabon",
         "orientation": "v",
         "showlegend": true,
         "text": [
          21
         ],
         "textposition": "auto",
         "type": "bar",
         "x": [
          "04/05/2020"
         ],
         "xaxis": "x",
         "y": [
          21
         ],
         "yaxis": "y"
        },
        {
         "alignmentgroup": "True",
         "hovertemplate": "Country=Gambia<br>Date=%{x}<br>Confirmed=%{text}<extra></extra>",
         "legendgroup": "Gambia",
         "marker": {
          "color": "#B6E880"
         },
         "name": "Gambia",
         "offsetgroup": "Gambia",
         "orientation": "v",
         "showlegend": true,
         "text": [
          4
         ],
         "textposition": "auto",
         "type": "bar",
         "x": [
          "04/05/2020"
         ],
         "xaxis": "x",
         "y": [
          4
         ],
         "yaxis": "y"
        },
        {
         "alignmentgroup": "True",
         "hovertemplate": "Country=Georgia<br>Date=%{x}<br>Confirmed=%{text}<extra></extra>",
         "legendgroup": "Georgia",
         "marker": {
          "color": "#FF97FF"
         },
         "name": "Georgia",
         "offsetgroup": "Georgia",
         "orientation": "v",
         "showlegend": true,
         "text": [
          174
         ],
         "textposition": "auto",
         "type": "bar",
         "x": [
          "04/05/2020"
         ],
         "xaxis": "x",
         "y": [
          174
         ],
         "yaxis": "y"
        },
        {
         "alignmentgroup": "True",
         "hovertemplate": "Country=Germany<br>Date=%{x}<br>Confirmed=%{text}<extra></extra>",
         "legendgroup": "Germany",
         "marker": {
          "color": "#FECB52"
         },
         "name": "Germany",
         "offsetgroup": "Germany",
         "orientation": "v",
         "showlegend": true,
         "text": [
          100123
         ],
         "textposition": "auto",
         "type": "bar",
         "x": [
          "04/05/2020"
         ],
         "xaxis": "x",
         "y": [
          100123
         ],
         "yaxis": "y"
        },
        {
         "alignmentgroup": "True",
         "hovertemplate": "Country=Ghana<br>Date=%{x}<br>Confirmed=%{text}<extra></extra>",
         "legendgroup": "Ghana",
         "marker": {
          "color": "#636efa"
         },
         "name": "Ghana",
         "offsetgroup": "Ghana",
         "orientation": "v",
         "showlegend": true,
         "text": [
          214
         ],
         "textposition": "auto",
         "type": "bar",
         "x": [
          "04/05/2020"
         ],
         "xaxis": "x",
         "y": [
          214
         ],
         "yaxis": "y"
        },
        {
         "alignmentgroup": "True",
         "hovertemplate": "Country=Greece<br>Date=%{x}<br>Confirmed=%{text}<extra></extra>",
         "legendgroup": "Greece",
         "marker": {
          "color": "#EF553B"
         },
         "name": "Greece",
         "offsetgroup": "Greece",
         "orientation": "v",
         "showlegend": true,
         "text": [
          1735
         ],
         "textposition": "auto",
         "type": "bar",
         "x": [
          "04/05/2020"
         ],
         "xaxis": "x",
         "y": [
          1735
         ],
         "yaxis": "y"
        },
        {
         "alignmentgroup": "True",
         "hovertemplate": "Country=Grenada<br>Date=%{x}<br>Confirmed=%{text}<extra></extra>",
         "legendgroup": "Grenada",
         "marker": {
          "color": "#00cc96"
         },
         "name": "Grenada",
         "offsetgroup": "Grenada",
         "orientation": "v",
         "showlegend": true,
         "text": [
          12
         ],
         "textposition": "auto",
         "type": "bar",
         "x": [
          "04/05/2020"
         ],
         "xaxis": "x",
         "y": [
          12
         ],
         "yaxis": "y"
        },
        {
         "alignmentgroup": "True",
         "hovertemplate": "Country=Guatemala<br>Date=%{x}<br>Confirmed=%{text}<extra></extra>",
         "legendgroup": "Guatemala",
         "marker": {
          "color": "#ab63fa"
         },
         "name": "Guatemala",
         "offsetgroup": "Guatemala",
         "orientation": "v",
         "showlegend": true,
         "text": [
          61
         ],
         "textposition": "auto",
         "type": "bar",
         "x": [
          "04/05/2020"
         ],
         "xaxis": "x",
         "y": [
          61
         ],
         "yaxis": "y"
        },
        {
         "alignmentgroup": "True",
         "hovertemplate": "Country=Guinea<br>Date=%{x}<br>Confirmed=%{text}<extra></extra>",
         "legendgroup": "Guinea",
         "marker": {
          "color": "#FFA15A"
         },
         "name": "Guinea",
         "offsetgroup": "Guinea",
         "orientation": "v",
         "showlegend": true,
         "text": [
          121
         ],
         "textposition": "auto",
         "type": "bar",
         "x": [
          "04/05/2020"
         ],
         "xaxis": "x",
         "y": [
          121
         ],
         "yaxis": "y"
        },
        {
         "alignmentgroup": "True",
         "hovertemplate": "Country=Guinea-Bissau<br>Date=%{x}<br>Confirmed=%{text}<extra></extra>",
         "legendgroup": "Guinea-Bissau",
         "marker": {
          "color": "#19d3f3"
         },
         "name": "Guinea-Bissau",
         "offsetgroup": "Guinea-Bissau",
         "orientation": "v",
         "showlegend": true,
         "text": [
          18
         ],
         "textposition": "auto",
         "type": "bar",
         "x": [
          "04/05/2020"
         ],
         "xaxis": "x",
         "y": [
          18
         ],
         "yaxis": "y"
        },
        {
         "alignmentgroup": "True",
         "hovertemplate": "Country=Dominica<br>Date=%{x}<br>Confirmed=%{text}<extra></extra>",
         "legendgroup": "Dominica",
         "marker": {
          "color": "#FF6692"
         },
         "name": "Dominica",
         "offsetgroup": "Dominica",
         "orientation": "v",
         "showlegend": true,
         "text": [
          14
         ],
         "textposition": "auto",
         "type": "bar",
         "x": [
          "04/05/2020"
         ],
         "xaxis": "x",
         "y": [
          14
         ],
         "yaxis": "y"
        },
        {
         "alignmentgroup": "True",
         "hovertemplate": "Country=Zimbabwe<br>Date=%{x}<br>Confirmed=%{text}<extra></extra>",
         "legendgroup": "Zimbabwe",
         "marker": {
          "color": "#B6E880"
         },
         "name": "Zimbabwe",
         "offsetgroup": "Zimbabwe",
         "orientation": "v",
         "showlegend": true,
         "text": [
          9
         ],
         "textposition": "auto",
         "type": "bar",
         "x": [
          "04/05/2020"
         ],
         "xaxis": "x",
         "y": [
          9
         ],
         "yaxis": "y"
        }
       ],
       "layout": {
        "barmode": "relative",
        "height": 600,
        "legend": {
         "title": {
          "text": "Country"
         },
         "tracegroupgap": 0
        },
        "template": {
         "data": {
          "bar": [
           {
            "error_x": {
             "color": "#2a3f5f"
            },
            "error_y": {
             "color": "#2a3f5f"
            },
            "marker": {
             "line": {
              "color": "#E5ECF6",
              "width": 0.5
             }
            },
            "type": "bar"
           }
          ],
          "barpolar": [
           {
            "marker": {
             "line": {
              "color": "#E5ECF6",
              "width": 0.5
             }
            },
            "type": "barpolar"
           }
          ],
          "carpet": [
           {
            "aaxis": {
             "endlinecolor": "#2a3f5f",
             "gridcolor": "white",
             "linecolor": "white",
             "minorgridcolor": "white",
             "startlinecolor": "#2a3f5f"
            },
            "baxis": {
             "endlinecolor": "#2a3f5f",
             "gridcolor": "white",
             "linecolor": "white",
             "minorgridcolor": "white",
             "startlinecolor": "#2a3f5f"
            },
            "type": "carpet"
           }
          ],
          "choropleth": [
           {
            "colorbar": {
             "outlinewidth": 0,
             "ticks": ""
            },
            "type": "choropleth"
           }
          ],
          "contour": [
           {
            "colorbar": {
             "outlinewidth": 0,
             "ticks": ""
            },
            "colorscale": [
             [
              0,
              "#0d0887"
             ],
             [
              0.1111111111111111,
              "#46039f"
             ],
             [
              0.2222222222222222,
              "#7201a8"
             ],
             [
              0.3333333333333333,
              "#9c179e"
             ],
             [
              0.4444444444444444,
              "#bd3786"
             ],
             [
              0.5555555555555556,
              "#d8576b"
             ],
             [
              0.6666666666666666,
              "#ed7953"
             ],
             [
              0.7777777777777778,
              "#fb9f3a"
             ],
             [
              0.8888888888888888,
              "#fdca26"
             ],
             [
              1,
              "#f0f921"
             ]
            ],
            "type": "contour"
           }
          ],
          "contourcarpet": [
           {
            "colorbar": {
             "outlinewidth": 0,
             "ticks": ""
            },
            "type": "contourcarpet"
           }
          ],
          "heatmap": [
           {
            "colorbar": {
             "outlinewidth": 0,
             "ticks": ""
            },
            "colorscale": [
             [
              0,
              "#0d0887"
             ],
             [
              0.1111111111111111,
              "#46039f"
             ],
             [
              0.2222222222222222,
              "#7201a8"
             ],
             [
              0.3333333333333333,
              "#9c179e"
             ],
             [
              0.4444444444444444,
              "#bd3786"
             ],
             [
              0.5555555555555556,
              "#d8576b"
             ],
             [
              0.6666666666666666,
              "#ed7953"
             ],
             [
              0.7777777777777778,
              "#fb9f3a"
             ],
             [
              0.8888888888888888,
              "#fdca26"
             ],
             [
              1,
              "#f0f921"
             ]
            ],
            "type": "heatmap"
           }
          ],
          "heatmapgl": [
           {
            "colorbar": {
             "outlinewidth": 0,
             "ticks": ""
            },
            "colorscale": [
             [
              0,
              "#0d0887"
             ],
             [
              0.1111111111111111,
              "#46039f"
             ],
             [
              0.2222222222222222,
              "#7201a8"
             ],
             [
              0.3333333333333333,
              "#9c179e"
             ],
             [
              0.4444444444444444,
              "#bd3786"
             ],
             [
              0.5555555555555556,
              "#d8576b"
             ],
             [
              0.6666666666666666,
              "#ed7953"
             ],
             [
              0.7777777777777778,
              "#fb9f3a"
             ],
             [
              0.8888888888888888,
              "#fdca26"
             ],
             [
              1,
              "#f0f921"
             ]
            ],
            "type": "heatmapgl"
           }
          ],
          "histogram": [
           {
            "marker": {
             "colorbar": {
              "outlinewidth": 0,
              "ticks": ""
             }
            },
            "type": "histogram"
           }
          ],
          "histogram2d": [
           {
            "colorbar": {
             "outlinewidth": 0,
             "ticks": ""
            },
            "colorscale": [
             [
              0,
              "#0d0887"
             ],
             [
              0.1111111111111111,
              "#46039f"
             ],
             [
              0.2222222222222222,
              "#7201a8"
             ],
             [
              0.3333333333333333,
              "#9c179e"
             ],
             [
              0.4444444444444444,
              "#bd3786"
             ],
             [
              0.5555555555555556,
              "#d8576b"
             ],
             [
              0.6666666666666666,
              "#ed7953"
             ],
             [
              0.7777777777777778,
              "#fb9f3a"
             ],
             [
              0.8888888888888888,
              "#fdca26"
             ],
             [
              1,
              "#f0f921"
             ]
            ],
            "type": "histogram2d"
           }
          ],
          "histogram2dcontour": [
           {
            "colorbar": {
             "outlinewidth": 0,
             "ticks": ""
            },
            "colorscale": [
             [
              0,
              "#0d0887"
             ],
             [
              0.1111111111111111,
              "#46039f"
             ],
             [
              0.2222222222222222,
              "#7201a8"
             ],
             [
              0.3333333333333333,
              "#9c179e"
             ],
             [
              0.4444444444444444,
              "#bd3786"
             ],
             [
              0.5555555555555556,
              "#d8576b"
             ],
             [
              0.6666666666666666,
              "#ed7953"
             ],
             [
              0.7777777777777778,
              "#fb9f3a"
             ],
             [
              0.8888888888888888,
              "#fdca26"
             ],
             [
              1,
              "#f0f921"
             ]
            ],
            "type": "histogram2dcontour"
           }
          ],
          "mesh3d": [
           {
            "colorbar": {
             "outlinewidth": 0,
             "ticks": ""
            },
            "type": "mesh3d"
           }
          ],
          "parcoords": [
           {
            "line": {
             "colorbar": {
              "outlinewidth": 0,
              "ticks": ""
             }
            },
            "type": "parcoords"
           }
          ],
          "pie": [
           {
            "automargin": true,
            "type": "pie"
           }
          ],
          "scatter": [
           {
            "marker": {
             "colorbar": {
              "outlinewidth": 0,
              "ticks": ""
             }
            },
            "type": "scatter"
           }
          ],
          "scatter3d": [
           {
            "line": {
             "colorbar": {
              "outlinewidth": 0,
              "ticks": ""
             }
            },
            "marker": {
             "colorbar": {
              "outlinewidth": 0,
              "ticks": ""
             }
            },
            "type": "scatter3d"
           }
          ],
          "scattercarpet": [
           {
            "marker": {
             "colorbar": {
              "outlinewidth": 0,
              "ticks": ""
             }
            },
            "type": "scattercarpet"
           }
          ],
          "scattergeo": [
           {
            "marker": {
             "colorbar": {
              "outlinewidth": 0,
              "ticks": ""
             }
            },
            "type": "scattergeo"
           }
          ],
          "scattergl": [
           {
            "marker": {
             "colorbar": {
              "outlinewidth": 0,
              "ticks": ""
             }
            },
            "type": "scattergl"
           }
          ],
          "scattermapbox": [
           {
            "marker": {
             "colorbar": {
              "outlinewidth": 0,
              "ticks": ""
             }
            },
            "type": "scattermapbox"
           }
          ],
          "scatterpolar": [
           {
            "marker": {
             "colorbar": {
              "outlinewidth": 0,
              "ticks": ""
             }
            },
            "type": "scatterpolar"
           }
          ],
          "scatterpolargl": [
           {
            "marker": {
             "colorbar": {
              "outlinewidth": 0,
              "ticks": ""
             }
            },
            "type": "scatterpolargl"
           }
          ],
          "scatterternary": [
           {
            "marker": {
             "colorbar": {
              "outlinewidth": 0,
              "ticks": ""
             }
            },
            "type": "scatterternary"
           }
          ],
          "surface": [
           {
            "colorbar": {
             "outlinewidth": 0,
             "ticks": ""
            },
            "colorscale": [
             [
              0,
              "#0d0887"
             ],
             [
              0.1111111111111111,
              "#46039f"
             ],
             [
              0.2222222222222222,
              "#7201a8"
             ],
             [
              0.3333333333333333,
              "#9c179e"
             ],
             [
              0.4444444444444444,
              "#bd3786"
             ],
             [
              0.5555555555555556,
              "#d8576b"
             ],
             [
              0.6666666666666666,
              "#ed7953"
             ],
             [
              0.7777777777777778,
              "#fb9f3a"
             ],
             [
              0.8888888888888888,
              "#fdca26"
             ],
             [
              1,
              "#f0f921"
             ]
            ],
            "type": "surface"
           }
          ],
          "table": [
           {
            "cells": {
             "fill": {
              "color": "#EBF0F8"
             },
             "line": {
              "color": "white"
             }
            },
            "header": {
             "fill": {
              "color": "#C8D4E3"
             },
             "line": {
              "color": "white"
             }
            },
            "type": "table"
           }
          ]
         },
         "layout": {
          "annotationdefaults": {
           "arrowcolor": "#2a3f5f",
           "arrowhead": 0,
           "arrowwidth": 1
          },
          "coloraxis": {
           "colorbar": {
            "outlinewidth": 0,
            "ticks": ""
           }
          },
          "colorscale": {
           "diverging": [
            [
             0,
             "#8e0152"
            ],
            [
             0.1,
             "#c51b7d"
            ],
            [
             0.2,
             "#de77ae"
            ],
            [
             0.3,
             "#f1b6da"
            ],
            [
             0.4,
             "#fde0ef"
            ],
            [
             0.5,
             "#f7f7f7"
            ],
            [
             0.6,
             "#e6f5d0"
            ],
            [
             0.7,
             "#b8e186"
            ],
            [
             0.8,
             "#7fbc41"
            ],
            [
             0.9,
             "#4d9221"
            ],
            [
             1,
             "#276419"
            ]
           ],
           "sequential": [
            [
             0,
             "#0d0887"
            ],
            [
             0.1111111111111111,
             "#46039f"
            ],
            [
             0.2222222222222222,
             "#7201a8"
            ],
            [
             0.3333333333333333,
             "#9c179e"
            ],
            [
             0.4444444444444444,
             "#bd3786"
            ],
            [
             0.5555555555555556,
             "#d8576b"
            ],
            [
             0.6666666666666666,
             "#ed7953"
            ],
            [
             0.7777777777777778,
             "#fb9f3a"
            ],
            [
             0.8888888888888888,
             "#fdca26"
            ],
            [
             1,
             "#f0f921"
            ]
           ],
           "sequentialminus": [
            [
             0,
             "#0d0887"
            ],
            [
             0.1111111111111111,
             "#46039f"
            ],
            [
             0.2222222222222222,
             "#7201a8"
            ],
            [
             0.3333333333333333,
             "#9c179e"
            ],
            [
             0.4444444444444444,
             "#bd3786"
            ],
            [
             0.5555555555555556,
             "#d8576b"
            ],
            [
             0.6666666666666666,
             "#ed7953"
            ],
            [
             0.7777777777777778,
             "#fb9f3a"
            ],
            [
             0.8888888888888888,
             "#fdca26"
            ],
            [
             1,
             "#f0f921"
            ]
           ]
          },
          "colorway": [
           "#636efa",
           "#EF553B",
           "#00cc96",
           "#ab63fa",
           "#FFA15A",
           "#19d3f3",
           "#FF6692",
           "#B6E880",
           "#FF97FF",
           "#FECB52"
          ],
          "font": {
           "color": "#2a3f5f"
          },
          "geo": {
           "bgcolor": "white",
           "lakecolor": "white",
           "landcolor": "#E5ECF6",
           "showlakes": true,
           "showland": true,
           "subunitcolor": "white"
          },
          "hoverlabel": {
           "align": "left"
          },
          "hovermode": "closest",
          "mapbox": {
           "style": "light"
          },
          "paper_bgcolor": "white",
          "plot_bgcolor": "#E5ECF6",
          "polar": {
           "angularaxis": {
            "gridcolor": "white",
            "linecolor": "white",
            "ticks": ""
           },
           "bgcolor": "#E5ECF6",
           "radialaxis": {
            "gridcolor": "white",
            "linecolor": "white",
            "ticks": ""
           }
          },
          "scene": {
           "xaxis": {
            "backgroundcolor": "#E5ECF6",
            "gridcolor": "white",
            "gridwidth": 2,
            "linecolor": "white",
            "showbackground": true,
            "ticks": "",
            "zerolinecolor": "white"
           },
           "yaxis": {
            "backgroundcolor": "#E5ECF6",
            "gridcolor": "white",
            "gridwidth": 2,
            "linecolor": "white",
            "showbackground": true,
            "ticks": "",
            "zerolinecolor": "white"
           },
           "zaxis": {
            "backgroundcolor": "#E5ECF6",
            "gridcolor": "white",
            "gridwidth": 2,
            "linecolor": "white",
            "showbackground": true,
            "ticks": "",
            "zerolinecolor": "white"
           }
          },
          "shapedefaults": {
           "line": {
            "color": "#2a3f5f"
           }
          },
          "ternary": {
           "aaxis": {
            "gridcolor": "white",
            "linecolor": "white",
            "ticks": ""
           },
           "baxis": {
            "gridcolor": "white",
            "linecolor": "white",
            "ticks": ""
           },
           "bgcolor": "#E5ECF6",
           "caxis": {
            "gridcolor": "white",
            "linecolor": "white",
            "ticks": ""
           }
          },
          "title": {
           "x": 0.05
          },
          "xaxis": {
           "automargin": true,
           "gridcolor": "white",
           "linecolor": "white",
           "ticks": "",
           "title": {
            "standoff": 15
           },
           "zerolinecolor": "white",
           "zerolinewidth": 2
          },
          "yaxis": {
           "automargin": true,
           "gridcolor": "white",
           "linecolor": "white",
           "ticks": "",
           "title": {
            "standoff": 15
           },
           "zerolinecolor": "white",
           "zerolinewidth": 2
          }
         }
        },
        "title": {
         "text": "Cases"
        },
        "xaxis": {
         "anchor": "y",
         "domain": [
          0,
          1
         ],
         "title": {
          "text": "Date"
         }
        },
        "yaxis": {
         "anchor": "x",
         "domain": [
          0,
          1
         ],
         "title": {
          "text": "Confirmed"
         }
        }
       }
      },
      "text/html": [
       "<div>\n",
       "        \n",
       "        \n",
       "            <div id=\"31464247-c529-4eef-9ec4-1125cadeea05\" class=\"plotly-graph-div\" style=\"height:600px; width:100%;\"></div>\n",
       "            <script type=\"text/javascript\">\n",
       "                require([\"plotly\"], function(Plotly) {\n",
       "                    window.PLOTLYENV=window.PLOTLYENV || {};\n",
       "                    \n",
       "                if (document.getElementById(\"31464247-c529-4eef-9ec4-1125cadeea05\")) {\n",
       "                    Plotly.newPlot(\n",
       "                        '31464247-c529-4eef-9ec4-1125cadeea05',\n",
       "                        [{\"alignmentgroup\": \"True\", \"hovertemplate\": \"Country= Azerbaijan<br>Date=%{x}<br>Confirmed=%{text}<extra></extra>\", \"legendgroup\": \" Azerbaijan\", \"marker\": {\"color\": \"#636efa\"}, \"name\": \" Azerbaijan\", \"offsetgroup\": \" Azerbaijan\", \"orientation\": \"v\", \"showlegend\": true, \"text\": [1.0], \"textposition\": \"auto\", \"type\": \"bar\", \"x\": [\"02/28/2020\"], \"xaxis\": \"x\", \"y\": [1.0], \"yaxis\": \"y\"}, {\"alignmentgroup\": \"True\", \"hovertemplate\": \"Country=North Ireland<br>Date=%{x}<br>Confirmed=%{text}<extra></extra>\", \"legendgroup\": \"North Ireland\", \"marker\": {\"color\": \"#EF553B\"}, \"name\": \"North Ireland\", \"offsetgroup\": \"North Ireland\", \"orientation\": \"v\", \"showlegend\": true, \"text\": [1.0], \"textposition\": \"auto\", \"type\": \"bar\", \"x\": [\"02/28/2020\"], \"xaxis\": \"x\", \"y\": [1.0], \"yaxis\": \"y\"}, {\"alignmentgroup\": \"True\", \"hovertemplate\": \"Country=Republic of Ireland<br>Date=%{x}<br>Confirmed=%{text}<extra></extra>\", \"legendgroup\": \"Republic of Ireland\", \"marker\": {\"color\": \"#00cc96\"}, \"name\": \"Republic of Ireland\", \"offsetgroup\": \"Republic of Ireland\", \"orientation\": \"v\", \"showlegend\": true, \"text\": [21.0], \"textposition\": \"auto\", \"type\": \"bar\", \"x\": [\"03/08/2020\"], \"xaxis\": \"x\", \"y\": [21.0], \"yaxis\": \"y\"}, {\"alignmentgroup\": \"True\", \"hovertemplate\": \"Country=St. Martin<br>Date=%{x}<br>Confirmed=%{text}<extra></extra>\", \"legendgroup\": \"St. Martin\", \"marker\": {\"color\": \"#ab63fa\"}, \"name\": \"St. Martin\", \"offsetgroup\": \"St. Martin\", \"orientation\": \"v\", \"showlegend\": true, \"text\": [2.0], \"textposition\": \"auto\", \"type\": \"bar\", \"x\": [\"03/09/2020\"], \"xaxis\": \"x\", \"y\": [2.0], \"yaxis\": \"y\"}, {\"alignmentgroup\": \"True\", \"hovertemplate\": \"Country=Vatican City<br>Date=%{x}<br>Confirmed=%{text}<extra></extra>\", \"legendgroup\": \"Vatican City\", \"marker\": {\"color\": \"#FFA15A\"}, \"name\": \"Vatican City\", \"offsetgroup\": \"Vatican City\", \"orientation\": \"v\", \"showlegend\": true, \"text\": [1.0], \"textposition\": \"auto\", \"type\": \"bar\", \"x\": [\"03/09/2020\"], \"xaxis\": \"x\", \"y\": [1.0], \"yaxis\": \"y\"}, {\"alignmentgroup\": \"True\", \"hovertemplate\": \"Country=Palestine<br>Date=%{x}<br>Confirmed=%{text}<extra></extra>\", \"legendgroup\": \"Palestine\", \"marker\": {\"color\": \"#19d3f3\"}, \"name\": \"Palestine\", \"offsetgroup\": \"Palestine\", \"orientation\": \"v\", \"showlegend\": true, \"text\": [22.0], \"textposition\": \"auto\", \"type\": \"bar\", \"x\": [\"03/09/2020\"], \"xaxis\": \"x\", \"y\": [22.0], \"yaxis\": \"y\"}, {\"alignmentgroup\": \"True\", \"hovertemplate\": \"Country=Gibraltar<br>Date=%{x}<br>Confirmed=%{text}<extra></extra>\", \"legendgroup\": \"Gibraltar\", \"marker\": {\"color\": \"#FF6692\"}, \"name\": \"Gibraltar\", \"offsetgroup\": \"Gibraltar\", \"orientation\": \"v\", \"showlegend\": true, \"text\": [1.0], \"textposition\": \"auto\", \"type\": \"bar\", \"x\": [\"03/10/2020\"], \"xaxis\": \"x\", \"y\": [1.0], \"yaxis\": \"y\"}, {\"alignmentgroup\": \"True\", \"hovertemplate\": \"Country=Saint Barthelemy<br>Date=%{x}<br>Confirmed=%{text}<extra></extra>\", \"legendgroup\": \"Saint Barthelemy\", \"marker\": {\"color\": \"#B6E880\"}, \"name\": \"Saint Barthelemy\", \"offsetgroup\": \"Saint Barthelemy\", \"orientation\": \"v\", \"showlegend\": true, \"text\": [1.0], \"textposition\": \"auto\", \"type\": \"bar\", \"x\": [\"03/10/2020\"], \"xaxis\": \"x\", \"y\": [1.0], \"yaxis\": \"y\"}, {\"alignmentgroup\": \"True\", \"hovertemplate\": \"Country=Faroe Islands<br>Date=%{x}<br>Confirmed=%{text}<extra></extra>\", \"legendgroup\": \"Faroe Islands\", \"marker\": {\"color\": \"#FF97FF\"}, \"name\": \"Faroe Islands\", \"offsetgroup\": \"Faroe Islands\", \"orientation\": \"v\", \"showlegend\": true, \"text\": [2.0], \"textposition\": \"auto\", \"type\": \"bar\", \"x\": [\"03/10/2020\"], \"xaxis\": \"x\", \"y\": [2.0], \"yaxis\": \"y\"}, {\"alignmentgroup\": \"True\", \"hovertemplate\": \"Country=Channel Islands<br>Date=%{x}<br>Confirmed=%{text}<extra></extra>\", \"legendgroup\": \"Channel Islands\", \"marker\": {\"color\": \"#FECB52\"}, \"name\": \"Channel Islands\", \"offsetgroup\": \"Channel Islands\", \"orientation\": \"v\", \"showlegend\": true, \"text\": [1.0], \"textposition\": \"auto\", \"type\": \"bar\", \"x\": [\"03/10/2020\"], \"xaxis\": \"x\", \"y\": [1.0], \"yaxis\": \"y\"}, {\"alignmentgroup\": \"True\", \"hovertemplate\": \"Country=('St. Martin',)<br>Date=%{x}<br>Confirmed=%{text}<extra></extra>\", \"legendgroup\": \"('St. Martin',)\", \"marker\": {\"color\": \"#636efa\"}, \"name\": \"('St. Martin',)\", \"offsetgroup\": \"('St. Martin',)\", \"orientation\": \"v\", \"showlegend\": true, \"text\": [2.0], \"textposition\": \"auto\", \"type\": \"bar\", \"x\": [\"03/10/2020\"], \"xaxis\": \"x\", \"y\": [2.0], \"yaxis\": \"y\"}, {\"alignmentgroup\": \"True\", \"hovertemplate\": \"Country=Cayman Islands<br>Date=%{x}<br>Confirmed=%{text}<extra></extra>\", \"legendgroup\": \"Cayman Islands\", \"marker\": {\"color\": \"#EF553B\"}, \"name\": \"Cayman Islands\", \"offsetgroup\": \"Cayman Islands\", \"orientation\": \"v\", \"showlegend\": true, \"text\": [1.0], \"textposition\": \"auto\", \"type\": \"bar\", \"x\": [\"03/15/2020\"], \"xaxis\": \"x\", \"y\": [1.0], \"yaxis\": \"y\"}, {\"alignmentgroup\": \"True\", \"hovertemplate\": \"Country=Curacao<br>Date=%{x}<br>Confirmed=%{text}<extra></extra>\", \"legendgroup\": \"Curacao\", \"marker\": {\"color\": \"#00cc96\"}, \"name\": \"Curacao\", \"offsetgroup\": \"Curacao\", \"orientation\": \"v\", \"showlegend\": true, \"text\": [1.0], \"textposition\": \"auto\", \"type\": \"bar\", \"x\": [\"03/15/2020\"], \"xaxis\": \"x\", \"y\": [1.0], \"yaxis\": \"y\"}, {\"alignmentgroup\": \"True\", \"hovertemplate\": \"Country=Aruba<br>Date=%{x}<br>Confirmed=%{text}<extra></extra>\", \"legendgroup\": \"Aruba\", \"marker\": {\"color\": \"#ab63fa\"}, \"name\": \"Aruba\", \"offsetgroup\": \"Aruba\", \"orientation\": \"v\", \"showlegend\": true, \"text\": [4.0], \"textposition\": \"auto\", \"type\": \"bar\", \"x\": [\"03/19/2020\"], \"xaxis\": \"x\", \"y\": [4.0], \"yaxis\": \"y\"}, {\"alignmentgroup\": \"True\", \"hovertemplate\": \"Country=Cape Verde<br>Date=%{x}<br>Confirmed=%{text}<extra></extra>\", \"legendgroup\": \"Cape Verde\", \"marker\": {\"color\": \"#FFA15A\"}, \"name\": \"Cape Verde\", \"offsetgroup\": \"Cape Verde\", \"orientation\": \"v\", \"showlegend\": true, \"text\": [1.0], \"textposition\": \"auto\", \"type\": \"bar\", \"x\": [\"03/21/2020\"], \"xaxis\": \"x\", \"y\": [1.0], \"yaxis\": \"y\"}, {\"alignmentgroup\": \"True\", \"hovertemplate\": \"Country=Mayotte<br>Date=%{x}<br>Confirmed=%{text}<extra></extra>\", \"legendgroup\": \"Mayotte\", \"marker\": {\"color\": \"#19d3f3\"}, \"name\": \"Mayotte\", \"offsetgroup\": \"Mayotte\", \"orientation\": \"v\", \"showlegend\": true, \"text\": [7.0], \"textposition\": \"auto\", \"type\": \"bar\", \"x\": [\"03/21/2020\"], \"xaxis\": \"x\", \"y\": [7.0], \"yaxis\": \"y\"}, {\"alignmentgroup\": \"True\", \"hovertemplate\": \"Country=Gambia, The<br>Date=%{x}<br>Confirmed=%{text}<extra></extra>\", \"legendgroup\": \"Gambia, The\", \"marker\": {\"color\": \"#FF6692\"}, \"name\": \"Gambia, The\", \"offsetgroup\": \"Gambia, The\", \"orientation\": \"v\", \"showlegend\": true, \"text\": [1.0], \"textposition\": \"auto\", \"type\": \"bar\", \"x\": [\"03/21/2020\"], \"xaxis\": \"x\", \"y\": [1.0], \"yaxis\": \"y\"}, {\"alignmentgroup\": \"True\", \"hovertemplate\": \"Country=French Guiana<br>Date=%{x}<br>Confirmed=%{text}<extra></extra>\", \"legendgroup\": \"French Guiana\", \"marker\": {\"color\": \"#B6E880\"}, \"name\": \"French Guiana\", \"offsetgroup\": \"French Guiana\", \"orientation\": \"v\", \"showlegend\": true, \"text\": [18.0], \"textposition\": \"auto\", \"type\": \"bar\", \"x\": [\"03/21/2020\"], \"xaxis\": \"x\", \"y\": [18.0], \"yaxis\": \"y\"}, {\"alignmentgroup\": \"True\", \"hovertemplate\": \"Country=Martinique<br>Date=%{x}<br>Confirmed=%{text}<extra></extra>\", \"legendgroup\": \"Martinique\", \"marker\": {\"color\": \"#FF97FF\"}, \"name\": \"Martinique\", \"offsetgroup\": \"Martinique\", \"orientation\": \"v\", \"showlegend\": true, \"text\": [32.0], \"textposition\": \"auto\", \"type\": \"bar\", \"x\": [\"03/21/2020\"], \"xaxis\": \"x\", \"y\": [32.0], \"yaxis\": \"y\"}, {\"alignmentgroup\": \"True\", \"hovertemplate\": \"Country=Bahamas, The<br>Date=%{x}<br>Confirmed=%{text}<extra></extra>\", \"legendgroup\": \"Bahamas, The\", \"marker\": {\"color\": \"#FECB52\"}, \"name\": \"Bahamas, The\", \"offsetgroup\": \"Bahamas, The\", \"orientation\": \"v\", \"showlegend\": true, \"text\": [4.0], \"textposition\": \"auto\", \"type\": \"bar\", \"x\": [\"03/21/2020\"], \"xaxis\": \"x\", \"y\": [4.0], \"yaxis\": \"y\"}, {\"alignmentgroup\": \"True\", \"hovertemplate\": \"Country=Reunion<br>Date=%{x}<br>Confirmed=%{text}<extra></extra>\", \"legendgroup\": \"Reunion\", \"marker\": {\"color\": \"#636efa\"}, \"name\": \"Reunion\", \"offsetgroup\": \"Reunion\", \"orientation\": \"v\", \"showlegend\": true, \"text\": [45.0], \"textposition\": \"auto\", \"type\": \"bar\", \"x\": [\"03/21/2020\"], \"xaxis\": \"x\", \"y\": [45.0], \"yaxis\": \"y\"}, {\"alignmentgroup\": \"True\", \"hovertemplate\": \"Country=East Timor<br>Date=%{x}<br>Confirmed=%{text}<extra></extra>\", \"legendgroup\": \"East Timor\", \"marker\": {\"color\": \"#EF553B\"}, \"name\": \"East Timor\", \"offsetgroup\": \"East Timor\", \"orientation\": \"v\", \"showlegend\": true, \"text\": [1.0], \"textposition\": \"auto\", \"type\": \"bar\", \"x\": [\"03/21/2020\"], \"xaxis\": \"x\", \"y\": [1.0], \"yaxis\": \"y\"}, {\"alignmentgroup\": \"True\", \"hovertemplate\": \"Country=Guadeloupe<br>Date=%{x}<br>Confirmed=%{text}<extra></extra>\", \"legendgroup\": \"Guadeloupe\", \"marker\": {\"color\": \"#00cc96\"}, \"name\": \"Guadeloupe\", \"offsetgroup\": \"Guadeloupe\", \"orientation\": \"v\", \"showlegend\": true, \"text\": [53.0], \"textposition\": \"auto\", \"type\": \"bar\", \"x\": [\"03/21/2020\"], \"xaxis\": \"x\", \"y\": [53.0], \"yaxis\": \"y\"}, {\"alignmentgroup\": \"True\", \"hovertemplate\": \"Country=Others<br>Date=%{x}<br>Confirmed=%{text}<extra></extra>\", \"legendgroup\": \"Others\", \"marker\": {\"color\": \"#ab63fa\"}, \"name\": \"Others\", \"offsetgroup\": \"Others\", \"orientation\": \"v\", \"showlegend\": true, \"text\": [712.0], \"textposition\": \"auto\", \"type\": \"bar\", \"x\": [\"03/23/2020\"], \"xaxis\": \"x\", \"y\": [712.0], \"yaxis\": \"y\"}, {\"alignmentgroup\": \"True\", \"hovertemplate\": \"Country=Niger<br>Date=%{x}<br>Confirmed=%{text}<extra></extra>\", \"legendgroup\": \"Niger\", \"marker\": {\"color\": \"#FFA15A\"}, \"name\": \"Niger\", \"offsetgroup\": \"Niger\", \"orientation\": \"v\", \"showlegend\": true, \"text\": [184.0], \"textposition\": \"auto\", \"type\": \"bar\", \"x\": [\"04/05/2020\"], \"xaxis\": \"x\", \"y\": [184.0], \"yaxis\": \"y\"}, {\"alignmentgroup\": \"True\", \"hovertemplate\": \"Country=Oman<br>Date=%{x}<br>Confirmed=%{text}<extra></extra>\", \"legendgroup\": \"Oman\", \"marker\": {\"color\": \"#19d3f3\"}, \"name\": \"Oman\", \"offsetgroup\": \"Oman\", \"orientation\": \"v\", \"showlegend\": true, \"text\": [298.0], \"textposition\": \"auto\", \"type\": \"bar\", \"x\": [\"04/05/2020\"], \"xaxis\": \"x\", \"y\": [298.0], \"yaxis\": \"y\"}, {\"alignmentgroup\": \"True\", \"hovertemplate\": \"Country=Norway<br>Date=%{x}<br>Confirmed=%{text}<extra></extra>\", \"legendgroup\": \"Norway\", \"marker\": {\"color\": \"#FF6692\"}, \"name\": \"Norway\", \"offsetgroup\": \"Norway\", \"orientation\": \"v\", \"showlegend\": true, \"text\": [5687.0], \"textposition\": \"auto\", \"type\": \"bar\", \"x\": [\"04/05/2020\"], \"xaxis\": \"x\", \"y\": [5687.0], \"yaxis\": \"y\"}, {\"alignmentgroup\": \"True\", \"hovertemplate\": \"Country=Panama<br>Date=%{x}<br>Confirmed=%{text}<extra></extra>\", \"legendgroup\": \"Panama\", \"marker\": {\"color\": \"#B6E880\"}, \"name\": \"Panama\", \"offsetgroup\": \"Panama\", \"orientation\": \"v\", \"showlegend\": true, \"text\": [1801.0], \"textposition\": \"auto\", \"type\": \"bar\", \"x\": [\"04/05/2020\"], \"xaxis\": \"x\", \"y\": [1801.0], \"yaxis\": \"y\"}, {\"alignmentgroup\": \"True\", \"hovertemplate\": \"Country=North Macedonia<br>Date=%{x}<br>Confirmed=%{text}<extra></extra>\", \"legendgroup\": \"North Macedonia\", \"marker\": {\"color\": \"#FF97FF\"}, \"name\": \"North Macedonia\", \"offsetgroup\": \"North Macedonia\", \"orientation\": \"v\", \"showlegend\": true, \"text\": [555.0], \"textposition\": \"auto\", \"type\": \"bar\", \"x\": [\"04/05/2020\"], \"xaxis\": \"x\", \"y\": [555.0], \"yaxis\": \"y\"}, {\"alignmentgroup\": \"True\", \"hovertemplate\": \"Country=Papua New Guinea<br>Date=%{x}<br>Confirmed=%{text}<extra></extra>\", \"legendgroup\": \"Papua New Guinea\", \"marker\": {\"color\": \"#FECB52\"}, \"name\": \"Papua New Guinea\", \"offsetgroup\": \"Papua New Guinea\", \"orientation\": \"v\", \"showlegend\": true, \"text\": [1.0], \"textposition\": \"auto\", \"type\": \"bar\", \"x\": [\"04/05/2020\"], \"xaxis\": \"x\", \"y\": [1.0], \"yaxis\": \"y\"}, {\"alignmentgroup\": \"True\", \"hovertemplate\": \"Country=Paraguay<br>Date=%{x}<br>Confirmed=%{text}<extra></extra>\", \"legendgroup\": \"Paraguay\", \"marker\": {\"color\": \"#636efa\"}, \"name\": \"Paraguay\", \"offsetgroup\": \"Paraguay\", \"orientation\": \"v\", \"showlegend\": true, \"text\": [104.0], \"textposition\": \"auto\", \"type\": \"bar\", \"x\": [\"04/05/2020\"], \"xaxis\": \"x\", \"y\": [104.0], \"yaxis\": \"y\"}, {\"alignmentgroup\": \"True\", \"hovertemplate\": \"Country=Peru<br>Date=%{x}<br>Confirmed=%{text}<extra></extra>\", \"legendgroup\": \"Peru\", \"marker\": {\"color\": \"#EF553B\"}, \"name\": \"Peru\", \"offsetgroup\": \"Peru\", \"orientation\": \"v\", \"showlegend\": true, \"text\": [2281.0], \"textposition\": \"auto\", \"type\": \"bar\", \"x\": [\"04/05/2020\"], \"xaxis\": \"x\", \"y\": [2281.0], \"yaxis\": \"y\"}, {\"alignmentgroup\": \"True\", \"hovertemplate\": \"Country=Nigeria<br>Date=%{x}<br>Confirmed=%{text}<extra></extra>\", \"legendgroup\": \"Nigeria\", \"marker\": {\"color\": \"#00cc96\"}, \"name\": \"Nigeria\", \"offsetgroup\": \"Nigeria\", \"orientation\": \"v\", \"showlegend\": true, \"text\": [232.0], \"textposition\": \"auto\", \"type\": \"bar\", \"x\": [\"04/05/2020\"], \"xaxis\": \"x\", \"y\": [232.0], \"yaxis\": \"y\"}, {\"alignmentgroup\": \"True\", \"hovertemplate\": \"Country=Pakistan<br>Date=%{x}<br>Confirmed=%{text}<extra></extra>\", \"legendgroup\": \"Pakistan\", \"marker\": {\"color\": \"#ab63fa\"}, \"name\": \"Pakistan\", \"offsetgroup\": \"Pakistan\", \"orientation\": \"v\", \"showlegend\": true, \"text\": [3157.0], \"textposition\": \"auto\", \"type\": \"bar\", \"x\": [\"04/05/2020\"], \"xaxis\": \"x\", \"y\": [3157.0], \"yaxis\": \"y\"}, {\"alignmentgroup\": \"True\", \"hovertemplate\": \"Country=Netherlands<br>Date=%{x}<br>Confirmed=%{text}<extra></extra>\", \"legendgroup\": \"Netherlands\", \"marker\": {\"color\": \"#FFA15A\"}, \"name\": \"Netherlands\", \"offsetgroup\": \"Netherlands\", \"orientation\": \"v\", \"showlegend\": true, \"text\": [17953.0], \"textposition\": \"auto\", \"type\": \"bar\", \"x\": [\"04/05/2020\"], \"xaxis\": \"x\", \"y\": [17953.0], \"yaxis\": \"y\"}, {\"alignmentgroup\": \"True\", \"hovertemplate\": \"Country=New Zealand<br>Date=%{x}<br>Confirmed=%{text}<extra></extra>\", \"legendgroup\": \"New Zealand\", \"marker\": {\"color\": \"#19d3f3\"}, \"name\": \"New Zealand\", \"offsetgroup\": \"New Zealand\", \"orientation\": \"v\", \"showlegend\": true, \"text\": [1039.0], \"textposition\": \"auto\", \"type\": \"bar\", \"x\": [\"04/05/2020\"], \"xaxis\": \"x\", \"y\": [1039.0], \"yaxis\": \"y\"}, {\"alignmentgroup\": \"True\", \"hovertemplate\": \"Country=Liechtenstein<br>Date=%{x}<br>Confirmed=%{text}<extra></extra>\", \"legendgroup\": \"Liechtenstein\", \"marker\": {\"color\": \"#FF6692\"}, \"name\": \"Liechtenstein\", \"offsetgroup\": \"Liechtenstein\", \"orientation\": \"v\", \"showlegend\": true, \"text\": [77.0], \"textposition\": \"auto\", \"type\": \"bar\", \"x\": [\"04/05/2020\"], \"xaxis\": \"x\", \"y\": [77.0], \"yaxis\": \"y\"}, {\"alignmentgroup\": \"True\", \"hovertemplate\": \"Country=Lithuania<br>Date=%{x}<br>Confirmed=%{text}<extra></extra>\", \"legendgroup\": \"Lithuania\", \"marker\": {\"color\": \"#B6E880\"}, \"name\": \"Lithuania\", \"offsetgroup\": \"Lithuania\", \"orientation\": \"v\", \"showlegend\": true, \"text\": [811.0], \"textposition\": \"auto\", \"type\": \"bar\", \"x\": [\"04/05/2020\"], \"xaxis\": \"x\", \"y\": [811.0], \"yaxis\": \"y\"}, {\"alignmentgroup\": \"True\", \"hovertemplate\": \"Country=Luxembourg<br>Date=%{x}<br>Confirmed=%{text}<extra></extra>\", \"legendgroup\": \"Luxembourg\", \"marker\": {\"color\": \"#FF97FF\"}, \"name\": \"Luxembourg\", \"offsetgroup\": \"Luxembourg\", \"orientation\": \"v\", \"showlegend\": true, \"text\": [2804.0], \"textposition\": \"auto\", \"type\": \"bar\", \"x\": [\"04/05/2020\"], \"xaxis\": \"x\", \"y\": [2804.0], \"yaxis\": \"y\"}, {\"alignmentgroup\": \"True\", \"hovertemplate\": \"Country=MS Zaandam<br>Date=%{x}<br>Confirmed=%{text}<extra></extra>\", \"legendgroup\": \"MS Zaandam\", \"marker\": {\"color\": \"#FECB52\"}, \"name\": \"MS Zaandam\", \"offsetgroup\": \"MS Zaandam\", \"orientation\": \"v\", \"showlegend\": true, \"text\": [9.0], \"textposition\": \"auto\", \"type\": \"bar\", \"x\": [\"04/05/2020\"], \"xaxis\": \"x\", \"y\": [9.0], \"yaxis\": \"y\"}, {\"alignmentgroup\": \"True\", \"hovertemplate\": \"Country=Macau<br>Date=%{x}<br>Confirmed=%{text}<extra></extra>\", \"legendgroup\": \"Macau\", \"marker\": {\"color\": \"#636efa\"}, \"name\": \"Macau\", \"offsetgroup\": \"Macau\", \"orientation\": \"v\", \"showlegend\": true, \"text\": [44.0], \"textposition\": \"auto\", \"type\": \"bar\", \"x\": [\"04/05/2020\"], \"xaxis\": \"x\", \"y\": [44.0], \"yaxis\": \"y\"}, {\"alignmentgroup\": \"True\", \"hovertemplate\": \"Country=Madagascar<br>Date=%{x}<br>Confirmed=%{text}<extra></extra>\", \"legendgroup\": \"Madagascar\", \"marker\": {\"color\": \"#EF553B\"}, \"name\": \"Madagascar\", \"offsetgroup\": \"Madagascar\", \"orientation\": \"v\", \"showlegend\": true, \"text\": [72.0], \"textposition\": \"auto\", \"type\": \"bar\", \"x\": [\"04/05/2020\"], \"xaxis\": \"x\", \"y\": [72.0], \"yaxis\": \"y\"}, {\"alignmentgroup\": \"True\", \"hovertemplate\": \"Country=Malawi<br>Date=%{x}<br>Confirmed=%{text}<extra></extra>\", \"legendgroup\": \"Malawi\", \"marker\": {\"color\": \"#00cc96\"}, \"name\": \"Malawi\", \"offsetgroup\": \"Malawi\", \"orientation\": \"v\", \"showlegend\": true, \"text\": [4.0], \"textposition\": \"auto\", \"type\": \"bar\", \"x\": [\"04/05/2020\"], \"xaxis\": \"x\", \"y\": [4.0], \"yaxis\": \"y\"}, {\"alignmentgroup\": \"True\", \"hovertemplate\": \"Country=Malaysia<br>Date=%{x}<br>Confirmed=%{text}<extra></extra>\", \"legendgroup\": \"Malaysia\", \"marker\": {\"color\": \"#ab63fa\"}, \"name\": \"Malaysia\", \"offsetgroup\": \"Malaysia\", \"orientation\": \"v\", \"showlegend\": true, \"text\": [3662.0], \"textposition\": \"auto\", \"type\": \"bar\", \"x\": [\"04/05/2020\"], \"xaxis\": \"x\", \"y\": [3662.0], \"yaxis\": \"y\"}, {\"alignmentgroup\": \"True\", \"hovertemplate\": \"Country=Maldives<br>Date=%{x}<br>Confirmed=%{text}<extra></extra>\", \"legendgroup\": \"Maldives\", \"marker\": {\"color\": \"#FFA15A\"}, \"name\": \"Maldives\", \"offsetgroup\": \"Maldives\", \"orientation\": \"v\", \"showlegend\": true, \"text\": [19.0], \"textposition\": \"auto\", \"type\": \"bar\", \"x\": [\"04/05/2020\"], \"xaxis\": \"x\", \"y\": [19.0], \"yaxis\": \"y\"}, {\"alignmentgroup\": \"True\", \"hovertemplate\": \"Country=Mali<br>Date=%{x}<br>Confirmed=%{text}<extra></extra>\", \"legendgroup\": \"Mali\", \"marker\": {\"color\": \"#19d3f3\"}, \"name\": \"Mali\", \"offsetgroup\": \"Mali\", \"orientation\": \"v\", \"showlegend\": true, \"text\": [45.0], \"textposition\": \"auto\", \"type\": \"bar\", \"x\": [\"04/05/2020\"], \"xaxis\": \"x\", \"y\": [45.0], \"yaxis\": \"y\"}, {\"alignmentgroup\": \"True\", \"hovertemplate\": \"Country=Malta<br>Date=%{x}<br>Confirmed=%{text}<extra></extra>\", \"legendgroup\": \"Malta\", \"marker\": {\"color\": \"#FF6692\"}, \"name\": \"Malta\", \"offsetgroup\": \"Malta\", \"orientation\": \"v\", \"showlegend\": true, \"text\": [227.0], \"textposition\": \"auto\", \"type\": \"bar\", \"x\": [\"04/05/2020\"], \"xaxis\": \"x\", \"y\": [227.0], \"yaxis\": \"y\"}, {\"alignmentgroup\": \"True\", \"hovertemplate\": \"Country=Mauritania<br>Date=%{x}<br>Confirmed=%{text}<extra></extra>\", \"legendgroup\": \"Mauritania\", \"marker\": {\"color\": \"#B6E880\"}, \"name\": \"Mauritania\", \"offsetgroup\": \"Mauritania\", \"orientation\": \"v\", \"showlegend\": true, \"text\": [6.0], \"textposition\": \"auto\", \"type\": \"bar\", \"x\": [\"04/05/2020\"], \"xaxis\": \"x\", \"y\": [6.0], \"yaxis\": \"y\"}, {\"alignmentgroup\": \"True\", \"hovertemplate\": \"Country=Mauritius<br>Date=%{x}<br>Confirmed=%{text}<extra></extra>\", \"legendgroup\": \"Mauritius\", \"marker\": {\"color\": \"#FF97FF\"}, \"name\": \"Mauritius\", \"offsetgroup\": \"Mauritius\", \"orientation\": \"v\", \"showlegend\": true, \"text\": [227.0], \"textposition\": \"auto\", \"type\": \"bar\", \"x\": [\"04/05/2020\"], \"xaxis\": \"x\", \"y\": [227.0], \"yaxis\": \"y\"}, {\"alignmentgroup\": \"True\", \"hovertemplate\": \"Country=Mexico<br>Date=%{x}<br>Confirmed=%{text}<extra></extra>\", \"legendgroup\": \"Mexico\", \"marker\": {\"color\": \"#FECB52\"}, \"name\": \"Mexico\", \"offsetgroup\": \"Mexico\", \"orientation\": \"v\", \"showlegend\": true, \"text\": [1890.0], \"textposition\": \"auto\", \"type\": \"bar\", \"x\": [\"04/05/2020\"], \"xaxis\": \"x\", \"y\": [1890.0], \"yaxis\": \"y\"}, {\"alignmentgroup\": \"True\", \"hovertemplate\": \"Country=Moldova<br>Date=%{x}<br>Confirmed=%{text}<extra></extra>\", \"legendgroup\": \"Moldova\", \"marker\": {\"color\": \"#636efa\"}, \"name\": \"Moldova\", \"offsetgroup\": \"Moldova\", \"orientation\": \"v\", \"showlegend\": true, \"text\": [864.0], \"textposition\": \"auto\", \"type\": \"bar\", \"x\": [\"04/05/2020\"], \"xaxis\": \"x\", \"y\": [864.0], \"yaxis\": \"y\"}, {\"alignmentgroup\": \"True\", \"hovertemplate\": \"Country=Monaco<br>Date=%{x}<br>Confirmed=%{text}<extra></extra>\", \"legendgroup\": \"Monaco\", \"marker\": {\"color\": \"#EF553B\"}, \"name\": \"Monaco\", \"offsetgroup\": \"Monaco\", \"orientation\": \"v\", \"showlegend\": true, \"text\": [73.0], \"textposition\": \"auto\", \"type\": \"bar\", \"x\": [\"04/05/2020\"], \"xaxis\": \"x\", \"y\": [73.0], \"yaxis\": \"y\"}, {\"alignmentgroup\": \"True\", \"hovertemplate\": \"Country=Mongolia<br>Date=%{x}<br>Confirmed=%{text}<extra></extra>\", \"legendgroup\": \"Mongolia\", \"marker\": {\"color\": \"#00cc96\"}, \"name\": \"Mongolia\", \"offsetgroup\": \"Mongolia\", \"orientation\": \"v\", \"showlegend\": true, \"text\": [14.0], \"textposition\": \"auto\", \"type\": \"bar\", \"x\": [\"04/05/2020\"], \"xaxis\": \"x\", \"y\": [14.0], \"yaxis\": \"y\"}, {\"alignmentgroup\": \"True\", \"hovertemplate\": \"Country=Montenegro<br>Date=%{x}<br>Confirmed=%{text}<extra></extra>\", \"legendgroup\": \"Montenegro\", \"marker\": {\"color\": \"#ab63fa\"}, \"name\": \"Montenegro\", \"offsetgroup\": \"Montenegro\", \"orientation\": \"v\", \"showlegend\": true, \"text\": [214.0], \"textposition\": \"auto\", \"type\": \"bar\", \"x\": [\"04/05/2020\"], \"xaxis\": \"x\", \"y\": [214.0], \"yaxis\": \"y\"}, {\"alignmentgroup\": \"True\", \"hovertemplate\": \"Country=Morocco<br>Date=%{x}<br>Confirmed=%{text}<extra></extra>\", \"legendgroup\": \"Morocco\", \"marker\": {\"color\": \"#FFA15A\"}, \"name\": \"Morocco\", \"offsetgroup\": \"Morocco\", \"orientation\": \"v\", \"showlegend\": true, \"text\": [1021.0], \"textposition\": \"auto\", \"type\": \"bar\", \"x\": [\"04/05/2020\"], \"xaxis\": \"x\", \"y\": [1021.0], \"yaxis\": \"y\"}, {\"alignmentgroup\": \"True\", \"hovertemplate\": \"Country=Mozambique<br>Date=%{x}<br>Confirmed=%{text}<extra></extra>\", \"legendgroup\": \"Mozambique\", \"marker\": {\"color\": \"#19d3f3\"}, \"name\": \"Mozambique\", \"offsetgroup\": \"Mozambique\", \"orientation\": \"v\", \"showlegend\": true, \"text\": [10.0], \"textposition\": \"auto\", \"type\": \"bar\", \"x\": [\"04/05/2020\"], \"xaxis\": \"x\", \"y\": [10.0], \"yaxis\": \"y\"}, {\"alignmentgroup\": \"True\", \"hovertemplate\": \"Country=Namibia<br>Date=%{x}<br>Confirmed=%{text}<extra></extra>\", \"legendgroup\": \"Namibia\", \"marker\": {\"color\": \"#FF6692\"}, \"name\": \"Namibia\", \"offsetgroup\": \"Namibia\", \"orientation\": \"v\", \"showlegend\": true, \"text\": [16.0], \"textposition\": \"auto\", \"type\": \"bar\", \"x\": [\"04/05/2020\"], \"xaxis\": \"x\", \"y\": [16.0], \"yaxis\": \"y\"}, {\"alignmentgroup\": \"True\", \"hovertemplate\": \"Country=Nepal<br>Date=%{x}<br>Confirmed=%{text}<extra></extra>\", \"legendgroup\": \"Nepal\", \"marker\": {\"color\": \"#B6E880\"}, \"name\": \"Nepal\", \"offsetgroup\": \"Nepal\", \"orientation\": \"v\", \"showlegend\": true, \"text\": [9.0], \"textposition\": \"auto\", \"type\": \"bar\", \"x\": [\"04/05/2020\"], \"xaxis\": \"x\", \"y\": [9.0], \"yaxis\": \"y\"}, {\"alignmentgroup\": \"True\", \"hovertemplate\": \"Country=Philippines<br>Date=%{x}<br>Confirmed=%{text}<extra></extra>\", \"legendgroup\": \"Philippines\", \"marker\": {\"color\": \"#FF97FF\"}, \"name\": \"Philippines\", \"offsetgroup\": \"Philippines\", \"orientation\": \"v\", \"showlegend\": true, \"text\": [3246.0], \"textposition\": \"auto\", \"type\": \"bar\", \"x\": [\"04/05/2020\"], \"xaxis\": \"x\", \"y\": [3246.0], \"yaxis\": \"y\"}, {\"alignmentgroup\": \"True\", \"hovertemplate\": \"Country=Nicaragua<br>Date=%{x}<br>Confirmed=%{text}<extra></extra>\", \"legendgroup\": \"Nicaragua\", \"marker\": {\"color\": \"#FECB52\"}, \"name\": \"Nicaragua\", \"offsetgroup\": \"Nicaragua\", \"orientation\": \"v\", \"showlegend\": true, \"text\": [6.0], \"textposition\": \"auto\", \"type\": \"bar\", \"x\": [\"04/05/2020\"], \"xaxis\": \"x\", \"y\": [6.0], \"yaxis\": \"y\"}, {\"alignmentgroup\": \"True\", \"hovertemplate\": \"Country=Poland<br>Date=%{x}<br>Confirmed=%{text}<extra></extra>\", \"legendgroup\": \"Poland\", \"marker\": {\"color\": \"#636efa\"}, \"name\": \"Poland\", \"offsetgroup\": \"Poland\", \"orientation\": \"v\", \"showlegend\": true, \"text\": [4102.0], \"textposition\": \"auto\", \"type\": \"bar\", \"x\": [\"04/05/2020\"], \"xaxis\": \"x\", \"y\": [4102.0], \"yaxis\": \"y\"}, {\"alignmentgroup\": \"True\", \"hovertemplate\": \"Country=Russia<br>Date=%{x}<br>Confirmed=%{text}<extra></extra>\", \"legendgroup\": \"Russia\", \"marker\": {\"color\": \"#EF553B\"}, \"name\": \"Russia\", \"offsetgroup\": \"Russia\", \"orientation\": \"v\", \"showlegend\": true, \"text\": [5389.0], \"textposition\": \"auto\", \"type\": \"bar\", \"x\": [\"04/05/2020\"], \"xaxis\": \"x\", \"y\": [5389.0], \"yaxis\": \"y\"}, {\"alignmentgroup\": \"True\", \"hovertemplate\": \"Country=Qatar<br>Date=%{x}<br>Confirmed=%{text}<extra></extra>\", \"legendgroup\": \"Qatar\", \"marker\": {\"color\": \"#00cc96\"}, \"name\": \"Qatar\", \"offsetgroup\": \"Qatar\", \"orientation\": \"v\", \"showlegend\": true, \"text\": [1604.0], \"textposition\": \"auto\", \"type\": \"bar\", \"x\": [\"04/05/2020\"], \"xaxis\": \"x\", \"y\": [1604.0], \"yaxis\": \"y\"}, {\"alignmentgroup\": \"True\", \"hovertemplate\": \"Country=Syria<br>Date=%{x}<br>Confirmed=%{text}<extra></extra>\", \"legendgroup\": \"Syria\", \"marker\": {\"color\": \"#ab63fa\"}, \"name\": \"Syria\", \"offsetgroup\": \"Syria\", \"orientation\": \"v\", \"showlegend\": true, \"text\": [19.0], \"textposition\": \"auto\", \"type\": \"bar\", \"x\": [\"04/05/2020\"], \"xaxis\": \"x\", \"y\": [19.0], \"yaxis\": \"y\"}, {\"alignmentgroup\": \"True\", \"hovertemplate\": \"Country=Taiwan<br>Date=%{x}<br>Confirmed=%{text}<extra></extra>\", \"legendgroup\": \"Taiwan\", \"marker\": {\"color\": \"#FFA15A\"}, \"name\": \"Taiwan\", \"offsetgroup\": \"Taiwan\", \"orientation\": \"v\", \"showlegend\": true, \"text\": [363.0], \"textposition\": \"auto\", \"type\": \"bar\", \"x\": [\"04/05/2020\"], \"xaxis\": \"x\", \"y\": [363.0], \"yaxis\": \"y\"}, {\"alignmentgroup\": \"True\", \"hovertemplate\": \"Country=Tanzania<br>Date=%{x}<br>Confirmed=%{text}<extra></extra>\", \"legendgroup\": \"Tanzania\", \"marker\": {\"color\": \"#19d3f3\"}, \"name\": \"Tanzania\", \"offsetgroup\": \"Tanzania\", \"orientation\": \"v\", \"showlegend\": true, \"text\": [22.0], \"textposition\": \"auto\", \"type\": \"bar\", \"x\": [\"04/05/2020\"], \"xaxis\": \"x\", \"y\": [22.0], \"yaxis\": \"y\"}, {\"alignmentgroup\": \"True\", \"hovertemplate\": \"Country=Thailand<br>Date=%{x}<br>Confirmed=%{text}<extra></extra>\", \"legendgroup\": \"Thailand\", \"marker\": {\"color\": \"#FF6692\"}, \"name\": \"Thailand\", \"offsetgroup\": \"Thailand\", \"orientation\": \"v\", \"showlegend\": true, \"text\": [2169.0], \"textposition\": \"auto\", \"type\": \"bar\", \"x\": [\"04/05/2020\"], \"xaxis\": \"x\", \"y\": [2169.0], \"yaxis\": \"y\"}, {\"alignmentgroup\": \"True\", \"hovertemplate\": \"Country=Timor-Leste<br>Date=%{x}<br>Confirmed=%{text}<extra></extra>\", \"legendgroup\": \"Timor-Leste\", \"marker\": {\"color\": \"#B6E880\"}, \"name\": \"Timor-Leste\", \"offsetgroup\": \"Timor-Leste\", \"orientation\": \"v\", \"showlegend\": true, \"text\": [1.0], \"textposition\": \"auto\", \"type\": \"bar\", \"x\": [\"04/05/2020\"], \"xaxis\": \"x\", \"y\": [1.0], \"yaxis\": \"y\"}, {\"alignmentgroup\": \"True\", \"hovertemplate\": \"Country=Togo<br>Date=%{x}<br>Confirmed=%{text}<extra></extra>\", \"legendgroup\": \"Togo\", \"marker\": {\"color\": \"#FF97FF\"}, \"name\": \"Togo\", \"offsetgroup\": \"Togo\", \"orientation\": \"v\", \"showlegend\": true, \"text\": [44.0], \"textposition\": \"auto\", \"type\": \"bar\", \"x\": [\"04/05/2020\"], \"xaxis\": \"x\", \"y\": [44.0], \"yaxis\": \"y\"}, {\"alignmentgroup\": \"True\", \"hovertemplate\": \"Country=Trinidad and Tobago<br>Date=%{x}<br>Confirmed=%{text}<extra></extra>\", \"legendgroup\": \"Trinidad and Tobago\", \"marker\": {\"color\": \"#FECB52\"}, \"name\": \"Trinidad and Tobago\", \"offsetgroup\": \"Trinidad and Tobago\", \"orientation\": \"v\", \"showlegend\": true, \"text\": [104.0], \"textposition\": \"auto\", \"type\": \"bar\", \"x\": [\"04/05/2020\"], \"xaxis\": \"x\", \"y\": [104.0], \"yaxis\": \"y\"}, {\"alignmentgroup\": \"True\", \"hovertemplate\": \"Country=Tunisia<br>Date=%{x}<br>Confirmed=%{text}<extra></extra>\", \"legendgroup\": \"Tunisia\", \"marker\": {\"color\": \"#636efa\"}, \"name\": \"Tunisia\", \"offsetgroup\": \"Tunisia\", \"orientation\": \"v\", \"showlegend\": true, \"text\": [574.0], \"textposition\": \"auto\", \"type\": \"bar\", \"x\": [\"04/05/2020\"], \"xaxis\": \"x\", \"y\": [574.0], \"yaxis\": \"y\"}, {\"alignmentgroup\": \"True\", \"hovertemplate\": \"Country=Turkey<br>Date=%{x}<br>Confirmed=%{text}<extra></extra>\", \"legendgroup\": \"Turkey\", \"marker\": {\"color\": \"#EF553B\"}, \"name\": \"Turkey\", \"offsetgroup\": \"Turkey\", \"orientation\": \"v\", \"showlegend\": true, \"text\": [27069.0], \"textposition\": \"auto\", \"type\": \"bar\", \"x\": [\"04/05/2020\"], \"xaxis\": \"x\", \"y\": [27069.0], \"yaxis\": \"y\"}, {\"alignmentgroup\": \"True\", \"hovertemplate\": \"Country=Switzerland<br>Date=%{x}<br>Confirmed=%{text}<extra></extra>\", \"legendgroup\": \"Switzerland\", \"marker\": {\"color\": \"#00cc96\"}, \"name\": \"Switzerland\", \"offsetgroup\": \"Switzerland\", \"orientation\": \"v\", \"showlegend\": true, \"text\": [21100.0], \"textposition\": \"auto\", \"type\": \"bar\", \"x\": [\"04/05/2020\"], \"xaxis\": \"x\", \"y\": [21100.0], \"yaxis\": \"y\"}, {\"alignmentgroup\": \"True\", \"hovertemplate\": \"Country=UK<br>Date=%{x}<br>Confirmed=%{text}<extra></extra>\", \"legendgroup\": \"UK\", \"marker\": {\"color\": \"#ab63fa\"}, \"name\": \"UK\", \"offsetgroup\": \"UK\", \"orientation\": \"v\", \"showlegend\": true, \"text\": [48436.0], \"textposition\": \"auto\", \"type\": \"bar\", \"x\": [\"04/05/2020\"], \"xaxis\": \"x\", \"y\": [48436.0], \"yaxis\": \"y\"}, {\"alignmentgroup\": \"True\", \"hovertemplate\": \"Country=Uganda<br>Date=%{x}<br>Confirmed=%{text}<extra></extra>\", \"legendgroup\": \"Uganda\", \"marker\": {\"color\": \"#FFA15A\"}, \"name\": \"Uganda\", \"offsetgroup\": \"Uganda\", \"orientation\": \"v\", \"showlegend\": true, \"text\": [52.0], \"textposition\": \"auto\", \"type\": \"bar\", \"x\": [\"04/05/2020\"], \"xaxis\": \"x\", \"y\": [52.0], \"yaxis\": \"y\"}, {\"alignmentgroup\": \"True\", \"hovertemplate\": \"Country=Ukraine<br>Date=%{x}<br>Confirmed=%{text}<extra></extra>\", \"legendgroup\": \"Ukraine\", \"marker\": {\"color\": \"#19d3f3\"}, \"name\": \"Ukraine\", \"offsetgroup\": \"Ukraine\", \"orientation\": \"v\", \"showlegend\": true, \"text\": [1308.0], \"textposition\": \"auto\", \"type\": \"bar\", \"x\": [\"04/05/2020\"], \"xaxis\": \"x\", \"y\": [1308.0], \"yaxis\": \"y\"}, {\"alignmentgroup\": \"True\", \"hovertemplate\": \"Country=United Arab Emirates<br>Date=%{x}<br>Confirmed=%{text}<extra></extra>\", \"legendgroup\": \"United Arab Emirates\", \"marker\": {\"color\": \"#FF6692\"}, \"name\": \"United Arab Emirates\", \"offsetgroup\": \"United Arab Emirates\", \"orientation\": \"v\", \"showlegend\": true, \"text\": [1799.0], \"textposition\": \"auto\", \"type\": \"bar\", \"x\": [\"04/05/2020\"], \"xaxis\": \"x\", \"y\": [1799.0], \"yaxis\": \"y\"}, {\"alignmentgroup\": \"True\", \"hovertemplate\": \"Country=Uruguay<br>Date=%{x}<br>Confirmed=%{text}<extra></extra>\", \"legendgroup\": \"Uruguay\", \"marker\": {\"color\": \"#B6E880\"}, \"name\": \"Uruguay\", \"offsetgroup\": \"Uruguay\", \"orientation\": \"v\", \"showlegend\": true, \"text\": [400.0], \"textposition\": \"auto\", \"type\": \"bar\", \"x\": [\"04/05/2020\"], \"xaxis\": \"x\", \"y\": [400.0], \"yaxis\": \"y\"}, {\"alignmentgroup\": \"True\", \"hovertemplate\": \"Country=Uzbekistan<br>Date=%{x}<br>Confirmed=%{text}<extra></extra>\", \"legendgroup\": \"Uzbekistan\", \"marker\": {\"color\": \"#FF97FF\"}, \"name\": \"Uzbekistan\", \"offsetgroup\": \"Uzbekistan\", \"orientation\": \"v\", \"showlegend\": true, \"text\": [342.0], \"textposition\": \"auto\", \"type\": \"bar\", \"x\": [\"04/05/2020\"], \"xaxis\": \"x\", \"y\": [342.0], \"yaxis\": \"y\"}, {\"alignmentgroup\": \"True\", \"hovertemplate\": \"Country=Venezuela<br>Date=%{x}<br>Confirmed=%{text}<extra></extra>\", \"legendgroup\": \"Venezuela\", \"marker\": {\"color\": \"#FECB52\"}, \"name\": \"Venezuela\", \"offsetgroup\": \"Venezuela\", \"orientation\": \"v\", \"showlegend\": true, \"text\": [159.0], \"textposition\": \"auto\", \"type\": \"bar\", \"x\": [\"04/05/2020\"], \"xaxis\": \"x\", \"y\": [159.0], \"yaxis\": \"y\"}, {\"alignmentgroup\": \"True\", \"hovertemplate\": \"Country=Vietnam<br>Date=%{x}<br>Confirmed=%{text}<extra></extra>\", \"legendgroup\": \"Vietnam\", \"marker\": {\"color\": \"#636efa\"}, \"name\": \"Vietnam\", \"offsetgroup\": \"Vietnam\", \"orientation\": \"v\", \"showlegend\": true, \"text\": [241.0], \"textposition\": \"auto\", \"type\": \"bar\", \"x\": [\"04/05/2020\"], \"xaxis\": \"x\", \"y\": [241.0], \"yaxis\": \"y\"}, {\"alignmentgroup\": \"True\", \"hovertemplate\": \"Country=West Bank and Gaza<br>Date=%{x}<br>Confirmed=%{text}<extra></extra>\", \"legendgroup\": \"West Bank and Gaza\", \"marker\": {\"color\": \"#EF553B\"}, \"name\": \"West Bank and Gaza\", \"offsetgroup\": \"West Bank and Gaza\", \"orientation\": \"v\", \"showlegend\": true, \"text\": [237.0], \"textposition\": \"auto\", \"type\": \"bar\", \"x\": [\"04/05/2020\"], \"xaxis\": \"x\", \"y\": [237.0], \"yaxis\": \"y\"}, {\"alignmentgroup\": \"True\", \"hovertemplate\": \"Country=Western Sahara<br>Date=%{x}<br>Confirmed=%{text}<extra></extra>\", \"legendgroup\": \"Western Sahara\", \"marker\": {\"color\": \"#00cc96\"}, \"name\": \"Western Sahara\", \"offsetgroup\": \"Western Sahara\", \"orientation\": \"v\", \"showlegend\": true, \"text\": [4.0], \"textposition\": \"auto\", \"type\": \"bar\", \"x\": [\"04/05/2020\"], \"xaxis\": \"x\", \"y\": [4.0], \"yaxis\": \"y\"}, {\"alignmentgroup\": \"True\", \"hovertemplate\": \"Country=US<br>Date=%{x}<br>Confirmed=%{text}<extra></extra>\", \"legendgroup\": \"US\", \"marker\": {\"color\": \"#ab63fa\"}, \"name\": \"US\", \"offsetgroup\": \"US\", \"orientation\": \"v\", \"showlegend\": true, \"text\": [337072.0], \"textposition\": \"auto\", \"type\": \"bar\", \"x\": [\"04/05/2020\"], \"xaxis\": \"x\", \"y\": [337072.0], \"yaxis\": \"y\"}, {\"alignmentgroup\": \"True\", \"hovertemplate\": \"Country=Sweden<br>Date=%{x}<br>Confirmed=%{text}<extra></extra>\", \"legendgroup\": \"Sweden\", \"marker\": {\"color\": \"#FFA15A\"}, \"name\": \"Sweden\", \"offsetgroup\": \"Sweden\", \"orientation\": \"v\", \"showlegend\": true, \"text\": [6830.0], \"textposition\": \"auto\", \"type\": \"bar\", \"x\": [\"04/05/2020\"], \"xaxis\": \"x\", \"y\": [6830.0], \"yaxis\": \"y\"}, {\"alignmentgroup\": \"True\", \"hovertemplate\": \"Country=Suriname<br>Date=%{x}<br>Confirmed=%{text}<extra></extra>\", \"legendgroup\": \"Suriname\", \"marker\": {\"color\": \"#19d3f3\"}, \"name\": \"Suriname\", \"offsetgroup\": \"Suriname\", \"orientation\": \"v\", \"showlegend\": true, \"text\": [10.0], \"textposition\": \"auto\", \"type\": \"bar\", \"x\": [\"04/05/2020\"], \"xaxis\": \"x\", \"y\": [10.0], \"yaxis\": \"y\"}, {\"alignmentgroup\": \"True\", \"hovertemplate\": \"Country=Sudan<br>Date=%{x}<br>Confirmed=%{text}<extra></extra>\", \"legendgroup\": \"Sudan\", \"marker\": {\"color\": \"#FF6692\"}, \"name\": \"Sudan\", \"offsetgroup\": \"Sudan\", \"orientation\": \"v\", \"showlegend\": true, \"text\": [12.0], \"textposition\": \"auto\", \"type\": \"bar\", \"x\": [\"04/05/2020\"], \"xaxis\": \"x\", \"y\": [12.0], \"yaxis\": \"y\"}, {\"alignmentgroup\": \"True\", \"hovertemplate\": \"Country=Romania<br>Date=%{x}<br>Confirmed=%{text}<extra></extra>\", \"legendgroup\": \"Romania\", \"marker\": {\"color\": \"#B6E880\"}, \"name\": \"Romania\", \"offsetgroup\": \"Romania\", \"orientation\": \"v\", \"showlegend\": true, \"text\": [3864.0], \"textposition\": \"auto\", \"type\": \"bar\", \"x\": [\"04/05/2020\"], \"xaxis\": \"x\", \"y\": [3864.0], \"yaxis\": \"y\"}, {\"alignmentgroup\": \"True\", \"hovertemplate\": \"Country=Libya<br>Date=%{x}<br>Confirmed=%{text}<extra></extra>\", \"legendgroup\": \"Libya\", \"marker\": {\"color\": \"#FF97FF\"}, \"name\": \"Libya\", \"offsetgroup\": \"Libya\", \"orientation\": \"v\", \"showlegend\": true, \"text\": [18.0], \"textposition\": \"auto\", \"type\": \"bar\", \"x\": [\"04/05/2020\"], \"xaxis\": \"x\", \"y\": [18.0], \"yaxis\": \"y\"}, {\"alignmentgroup\": \"True\", \"hovertemplate\": \"Country=Rwanda<br>Date=%{x}<br>Confirmed=%{text}<extra></extra>\", \"legendgroup\": \"Rwanda\", \"marker\": {\"color\": \"#FECB52\"}, \"name\": \"Rwanda\", \"offsetgroup\": \"Rwanda\", \"orientation\": \"v\", \"showlegend\": true, \"text\": [104.0], \"textposition\": \"auto\", \"type\": \"bar\", \"x\": [\"04/05/2020\"], \"xaxis\": \"x\", \"y\": [104.0], \"yaxis\": \"y\"}, {\"alignmentgroup\": \"True\", \"hovertemplate\": \"Country=Saint Kitts and Nevis<br>Date=%{x}<br>Confirmed=%{text}<extra></extra>\", \"legendgroup\": \"Saint Kitts and Nevis\", \"marker\": {\"color\": \"#636efa\"}, \"name\": \"Saint Kitts and Nevis\", \"offsetgroup\": \"Saint Kitts and Nevis\", \"orientation\": \"v\", \"showlegend\": true, \"text\": [10.0], \"textposition\": \"auto\", \"type\": \"bar\", \"x\": [\"04/05/2020\"], \"xaxis\": \"x\", \"y\": [10.0], \"yaxis\": \"y\"}, {\"alignmentgroup\": \"True\", \"hovertemplate\": \"Country=Saint Lucia<br>Date=%{x}<br>Confirmed=%{text}<extra></extra>\", \"legendgroup\": \"Saint Lucia\", \"marker\": {\"color\": \"#EF553B\"}, \"name\": \"Saint Lucia\", \"offsetgroup\": \"Saint Lucia\", \"orientation\": \"v\", \"showlegend\": true, \"text\": [14.0], \"textposition\": \"auto\", \"type\": \"bar\", \"x\": [\"04/05/2020\"], \"xaxis\": \"x\", \"y\": [14.0], \"yaxis\": \"y\"}, {\"alignmentgroup\": \"True\", \"hovertemplate\": \"Country=Saint Vincent and the Grenadines<br>Date=%{x}<br>Confirmed=%{text}<extra></extra>\", \"legendgroup\": \"Saint Vincent and the Grenadines\", \"marker\": {\"color\": \"#00cc96\"}, \"name\": \"Saint Vincent and the Grenadines\", \"offsetgroup\": \"Saint Vincent and the Grenadines\", \"orientation\": \"v\", \"showlegend\": true, \"text\": [7.0], \"textposition\": \"auto\", \"type\": \"bar\", \"x\": [\"04/05/2020\"], \"xaxis\": \"x\", \"y\": [7.0], \"yaxis\": \"y\"}, {\"alignmentgroup\": \"True\", \"hovertemplate\": \"Country=San Marino<br>Date=%{x}<br>Confirmed=%{text}<extra></extra>\", \"legendgroup\": \"San Marino\", \"marker\": {\"color\": \"#ab63fa\"}, \"name\": \"San Marino\", \"offsetgroup\": \"San Marino\", \"orientation\": \"v\", \"showlegend\": true, \"text\": [266.0], \"textposition\": \"auto\", \"type\": \"bar\", \"x\": [\"04/05/2020\"], \"xaxis\": \"x\", \"y\": [266.0], \"yaxis\": \"y\"}, {\"alignmentgroup\": \"True\", \"hovertemplate\": \"Country=Saudi Arabia<br>Date=%{x}<br>Confirmed=%{text}<extra></extra>\", \"legendgroup\": \"Saudi Arabia\", \"marker\": {\"color\": \"#FFA15A\"}, \"name\": \"Saudi Arabia\", \"offsetgroup\": \"Saudi Arabia\", \"orientation\": \"v\", \"showlegend\": true, \"text\": [2402.0], \"textposition\": \"auto\", \"type\": \"bar\", \"x\": [\"04/05/2020\"], \"xaxis\": \"x\", \"y\": [2402.0], \"yaxis\": \"y\"}, {\"alignmentgroup\": \"True\", \"hovertemplate\": \"Country=Senegal<br>Date=%{x}<br>Confirmed=%{text}<extra></extra>\", \"legendgroup\": \"Senegal\", \"marker\": {\"color\": \"#19d3f3\"}, \"name\": \"Senegal\", \"offsetgroup\": \"Senegal\", \"orientation\": \"v\", \"showlegend\": true, \"text\": [222.0], \"textposition\": \"auto\", \"type\": \"bar\", \"x\": [\"04/05/2020\"], \"xaxis\": \"x\", \"y\": [222.0], \"yaxis\": \"y\"}, {\"alignmentgroup\": \"True\", \"hovertemplate\": \"Country=Serbia<br>Date=%{x}<br>Confirmed=%{text}<extra></extra>\", \"legendgroup\": \"Serbia\", \"marker\": {\"color\": \"#FF6692\"}, \"name\": \"Serbia\", \"offsetgroup\": \"Serbia\", \"orientation\": \"v\", \"showlegend\": true, \"text\": [1908.0], \"textposition\": \"auto\", \"type\": \"bar\", \"x\": [\"04/05/2020\"], \"xaxis\": \"x\", \"y\": [1908.0], \"yaxis\": \"y\"}, {\"alignmentgroup\": \"True\", \"hovertemplate\": \"Country=Seychelles<br>Date=%{x}<br>Confirmed=%{text}<extra></extra>\", \"legendgroup\": \"Seychelles\", \"marker\": {\"color\": \"#B6E880\"}, \"name\": \"Seychelles\", \"offsetgroup\": \"Seychelles\", \"orientation\": \"v\", \"showlegend\": true, \"text\": [10.0], \"textposition\": \"auto\", \"type\": \"bar\", \"x\": [\"04/05/2020\"], \"xaxis\": \"x\", \"y\": [10.0], \"yaxis\": \"y\"}, {\"alignmentgroup\": \"True\", \"hovertemplate\": \"Country=Sierra Leone<br>Date=%{x}<br>Confirmed=%{text}<extra></extra>\", \"legendgroup\": \"Sierra Leone\", \"marker\": {\"color\": \"#FF97FF\"}, \"name\": \"Sierra Leone\", \"offsetgroup\": \"Sierra Leone\", \"orientation\": \"v\", \"showlegend\": true, \"text\": [6.0], \"textposition\": \"auto\", \"type\": \"bar\", \"x\": [\"04/05/2020\"], \"xaxis\": \"x\", \"y\": [6.0], \"yaxis\": \"y\"}, {\"alignmentgroup\": \"True\", \"hovertemplate\": \"Country=Singapore<br>Date=%{x}<br>Confirmed=%{text}<extra></extra>\", \"legendgroup\": \"Singapore\", \"marker\": {\"color\": \"#FECB52\"}, \"name\": \"Singapore\", \"offsetgroup\": \"Singapore\", \"orientation\": \"v\", \"showlegend\": true, \"text\": [1309.0], \"textposition\": \"auto\", \"type\": \"bar\", \"x\": [\"04/05/2020\"], \"xaxis\": \"x\", \"y\": [1309.0], \"yaxis\": \"y\"}, {\"alignmentgroup\": \"True\", \"hovertemplate\": \"Country=Slovakia<br>Date=%{x}<br>Confirmed=%{text}<extra></extra>\", \"legendgroup\": \"Slovakia\", \"marker\": {\"color\": \"#636efa\"}, \"name\": \"Slovakia\", \"offsetgroup\": \"Slovakia\", \"orientation\": \"v\", \"showlegend\": true, \"text\": [485.0], \"textposition\": \"auto\", \"type\": \"bar\", \"x\": [\"04/05/2020\"], \"xaxis\": \"x\", \"y\": [485.0], \"yaxis\": \"y\"}, {\"alignmentgroup\": \"True\", \"hovertemplate\": \"Country=Slovenia<br>Date=%{x}<br>Confirmed=%{text}<extra></extra>\", \"legendgroup\": \"Slovenia\", \"marker\": {\"color\": \"#EF553B\"}, \"name\": \"Slovenia\", \"offsetgroup\": \"Slovenia\", \"orientation\": \"v\", \"showlegend\": true, \"text\": [997.0], \"textposition\": \"auto\", \"type\": \"bar\", \"x\": [\"04/05/2020\"], \"xaxis\": \"x\", \"y\": [997.0], \"yaxis\": \"y\"}, {\"alignmentgroup\": \"True\", \"hovertemplate\": \"Country=Somalia<br>Date=%{x}<br>Confirmed=%{text}<extra></extra>\", \"legendgroup\": \"Somalia\", \"marker\": {\"color\": \"#00cc96\"}, \"name\": \"Somalia\", \"offsetgroup\": \"Somalia\", \"orientation\": \"v\", \"showlegend\": true, \"text\": [7.0], \"textposition\": \"auto\", \"type\": \"bar\", \"x\": [\"04/05/2020\"], \"xaxis\": \"x\", \"y\": [7.0], \"yaxis\": \"y\"}, {\"alignmentgroup\": \"True\", \"hovertemplate\": \"Country=South Africa<br>Date=%{x}<br>Confirmed=%{text}<extra></extra>\", \"legendgroup\": \"South Africa\", \"marker\": {\"color\": \"#ab63fa\"}, \"name\": \"South Africa\", \"offsetgroup\": \"South Africa\", \"orientation\": \"v\", \"showlegend\": true, \"text\": [1655.0], \"textposition\": \"auto\", \"type\": \"bar\", \"x\": [\"04/05/2020\"], \"xaxis\": \"x\", \"y\": [1655.0], \"yaxis\": \"y\"}, {\"alignmentgroup\": \"True\", \"hovertemplate\": \"Country=South Korea<br>Date=%{x}<br>Confirmed=%{text}<extra></extra>\", \"legendgroup\": \"South Korea\", \"marker\": {\"color\": \"#FFA15A\"}, \"name\": \"South Korea\", \"offsetgroup\": \"South Korea\", \"orientation\": \"v\", \"showlegend\": true, \"text\": [10237.0], \"textposition\": \"auto\", \"type\": \"bar\", \"x\": [\"04/05/2020\"], \"xaxis\": \"x\", \"y\": [10237.0], \"yaxis\": \"y\"}, {\"alignmentgroup\": \"True\", \"hovertemplate\": \"Country=South Sudan<br>Date=%{x}<br>Confirmed=%{text}<extra></extra>\", \"legendgroup\": \"South Sudan\", \"marker\": {\"color\": \"#19d3f3\"}, \"name\": \"South Sudan\", \"offsetgroup\": \"South Sudan\", \"orientation\": \"v\", \"showlegend\": true, \"text\": [1.0], \"textposition\": \"auto\", \"type\": \"bar\", \"x\": [\"04/05/2020\"], \"xaxis\": \"x\", \"y\": [1.0], \"yaxis\": \"y\"}, {\"alignmentgroup\": \"True\", \"hovertemplate\": \"Country=Spain<br>Date=%{x}<br>Confirmed=%{text}<extra></extra>\", \"legendgroup\": \"Spain\", \"marker\": {\"color\": \"#FF6692\"}, \"name\": \"Spain\", \"offsetgroup\": \"Spain\", \"orientation\": \"v\", \"showlegend\": true, \"text\": [131646.0], \"textposition\": \"auto\", \"type\": \"bar\", \"x\": [\"04/05/2020\"], \"xaxis\": \"x\", \"y\": [131646.0], \"yaxis\": \"y\"}, {\"alignmentgroup\": \"True\", \"hovertemplate\": \"Country=Sri Lanka<br>Date=%{x}<br>Confirmed=%{text}<extra></extra>\", \"legendgroup\": \"Sri Lanka\", \"marker\": {\"color\": \"#B6E880\"}, \"name\": \"Sri Lanka\", \"offsetgroup\": \"Sri Lanka\", \"orientation\": \"v\", \"showlegend\": true, \"text\": [176.0], \"textposition\": \"auto\", \"type\": \"bar\", \"x\": [\"04/05/2020\"], \"xaxis\": \"x\", \"y\": [176.0], \"yaxis\": \"y\"}, {\"alignmentgroup\": \"True\", \"hovertemplate\": \"Country=Portugal<br>Date=%{x}<br>Confirmed=%{text}<extra></extra>\", \"legendgroup\": \"Portugal\", \"marker\": {\"color\": \"#FF97FF\"}, \"name\": \"Portugal\", \"offsetgroup\": \"Portugal\", \"orientation\": \"v\", \"showlegend\": true, \"text\": [11278.0], \"textposition\": \"auto\", \"type\": \"bar\", \"x\": [\"04/05/2020\"], \"xaxis\": \"x\", \"y\": [11278.0], \"yaxis\": \"y\"}, {\"alignmentgroup\": \"True\", \"hovertemplate\": \"Country=Liberia<br>Date=%{x}<br>Confirmed=%{text}<extra></extra>\", \"legendgroup\": \"Liberia\", \"marker\": {\"color\": \"#FECB52\"}, \"name\": \"Liberia\", \"offsetgroup\": \"Liberia\", \"orientation\": \"v\", \"showlegend\": true, \"text\": [13.0], \"textposition\": \"auto\", \"type\": \"bar\", \"x\": [\"04/05/2020\"], \"xaxis\": \"x\", \"y\": [13.0], \"yaxis\": \"y\"}, {\"alignmentgroup\": \"True\", \"hovertemplate\": \"Country=Kenya<br>Date=%{x}<br>Confirmed=%{text}<extra></extra>\", \"legendgroup\": \"Kenya\", \"marker\": {\"color\": \"#636efa\"}, \"name\": \"Kenya\", \"offsetgroup\": \"Kenya\", \"orientation\": \"v\", \"showlegend\": true, \"text\": [142.0], \"textposition\": \"auto\", \"type\": \"bar\", \"x\": [\"04/05/2020\"], \"xaxis\": \"x\", \"y\": [142.0], \"yaxis\": \"y\"}, {\"alignmentgroup\": \"True\", \"hovertemplate\": \"Country=Latvia<br>Date=%{x}<br>Confirmed=%{text}<extra></extra>\", \"legendgroup\": \"Latvia\", \"marker\": {\"color\": \"#EF553B\"}, \"name\": \"Latvia\", \"offsetgroup\": \"Latvia\", \"orientation\": \"v\", \"showlegend\": true, \"text\": [533.0], \"textposition\": \"auto\", \"type\": \"bar\", \"x\": [\"04/05/2020\"], \"xaxis\": \"x\", \"y\": [533.0], \"yaxis\": \"y\"}, {\"alignmentgroup\": \"True\", \"hovertemplate\": \"Country=Bulgaria<br>Date=%{x}<br>Confirmed=%{text}<extra></extra>\", \"legendgroup\": \"Bulgaria\", \"marker\": {\"color\": \"#00cc96\"}, \"name\": \"Bulgaria\", \"offsetgroup\": \"Bulgaria\", \"orientation\": \"v\", \"showlegend\": true, \"text\": [531.0], \"textposition\": \"auto\", \"type\": \"bar\", \"x\": [\"04/05/2020\"], \"xaxis\": \"x\", \"y\": [531.0], \"yaxis\": \"y\"}, {\"alignmentgroup\": \"True\", \"hovertemplate\": \"Country=Burkina Faso<br>Date=%{x}<br>Confirmed=%{text}<extra></extra>\", \"legendgroup\": \"Burkina Faso\", \"marker\": {\"color\": \"#ab63fa\"}, \"name\": \"Burkina Faso\", \"offsetgroup\": \"Burkina Faso\", \"orientation\": \"v\", \"showlegend\": true, \"text\": [345.0], \"textposition\": \"auto\", \"type\": \"bar\", \"x\": [\"04/05/2020\"], \"xaxis\": \"x\", \"y\": [345.0], \"yaxis\": \"y\"}, {\"alignmentgroup\": \"True\", \"hovertemplate\": \"Country=Burma<br>Date=%{x}<br>Confirmed=%{text}<extra></extra>\", \"legendgroup\": \"Burma\", \"marker\": {\"color\": \"#FFA15A\"}, \"name\": \"Burma\", \"offsetgroup\": \"Burma\", \"orientation\": \"v\", \"showlegend\": true, \"text\": [21.0], \"textposition\": \"auto\", \"type\": \"bar\", \"x\": [\"04/05/2020\"], \"xaxis\": \"x\", \"y\": [21.0], \"yaxis\": \"y\"}, {\"alignmentgroup\": \"True\", \"hovertemplate\": \"Country=Burundi<br>Date=%{x}<br>Confirmed=%{text}<extra></extra>\", \"legendgroup\": \"Burundi\", \"marker\": {\"color\": \"#19d3f3\"}, \"name\": \"Burundi\", \"offsetgroup\": \"Burundi\", \"orientation\": \"v\", \"showlegend\": true, \"text\": [3.0], \"textposition\": \"auto\", \"type\": \"bar\", \"x\": [\"04/05/2020\"], \"xaxis\": \"x\", \"y\": [3.0], \"yaxis\": \"y\"}, {\"alignmentgroup\": \"True\", \"hovertemplate\": \"Country=Cabo Verde<br>Date=%{x}<br>Confirmed=%{text}<extra></extra>\", \"legendgroup\": \"Cabo Verde\", \"marker\": {\"color\": \"#FF6692\"}, \"name\": \"Cabo Verde\", \"offsetgroup\": \"Cabo Verde\", \"orientation\": \"v\", \"showlegend\": true, \"text\": [7.0], \"textposition\": \"auto\", \"type\": \"bar\", \"x\": [\"04/05/2020\"], \"xaxis\": \"x\", \"y\": [7.0], \"yaxis\": \"y\"}, {\"alignmentgroup\": \"True\", \"hovertemplate\": \"Country=Cambodia<br>Date=%{x}<br>Confirmed=%{text}<extra></extra>\", \"legendgroup\": \"Cambodia\", \"marker\": {\"color\": \"#B6E880\"}, \"name\": \"Cambodia\", \"offsetgroup\": \"Cambodia\", \"orientation\": \"v\", \"showlegend\": true, \"text\": [114.0], \"textposition\": \"auto\", \"type\": \"bar\", \"x\": [\"04/05/2020\"], \"xaxis\": \"x\", \"y\": [114.0], \"yaxis\": \"y\"}, {\"alignmentgroup\": \"True\", \"hovertemplate\": \"Country=Cameroon<br>Date=%{x}<br>Confirmed=%{text}<extra></extra>\", \"legendgroup\": \"Cameroon\", \"marker\": {\"color\": \"#FF97FF\"}, \"name\": \"Cameroon\", \"offsetgroup\": \"Cameroon\", \"orientation\": \"v\", \"showlegend\": true, \"text\": [650.0], \"textposition\": \"auto\", \"type\": \"bar\", \"x\": [\"04/05/2020\"], \"xaxis\": \"x\", \"y\": [650.0], \"yaxis\": \"y\"}, {\"alignmentgroup\": \"True\", \"hovertemplate\": \"Country=Canada<br>Date=%{x}<br>Confirmed=%{text}<extra></extra>\", \"legendgroup\": \"Canada\", \"marker\": {\"color\": \"#FECB52\"}, \"name\": \"Canada\", \"offsetgroup\": \"Canada\", \"orientation\": \"v\", \"showlegend\": true, \"text\": [15756.0], \"textposition\": \"auto\", \"type\": \"bar\", \"x\": [\"04/05/2020\"], \"xaxis\": \"x\", \"y\": [15756.0], \"yaxis\": \"y\"}, {\"alignmentgroup\": \"True\", \"hovertemplate\": \"Country=Central African Republic<br>Date=%{x}<br>Confirmed=%{text}<extra></extra>\", \"legendgroup\": \"Central African Republic\", \"marker\": {\"color\": \"#636efa\"}, \"name\": \"Central African Republic\", \"offsetgroup\": \"Central African Republic\", \"orientation\": \"v\", \"showlegend\": true, \"text\": [8.0], \"textposition\": \"auto\", \"type\": \"bar\", \"x\": [\"04/05/2020\"], \"xaxis\": \"x\", \"y\": [8.0], \"yaxis\": \"y\"}, {\"alignmentgroup\": \"True\", \"hovertemplate\": \"Country=Brunei<br>Date=%{x}<br>Confirmed=%{text}<extra></extra>\", \"legendgroup\": \"Brunei\", \"marker\": {\"color\": \"#EF553B\"}, \"name\": \"Brunei\", \"offsetgroup\": \"Brunei\", \"orientation\": \"v\", \"showlegend\": true, \"text\": [135.0], \"textposition\": \"auto\", \"type\": \"bar\", \"x\": [\"04/05/2020\"], \"xaxis\": \"x\", \"y\": [135.0], \"yaxis\": \"y\"}, {\"alignmentgroup\": \"True\", \"hovertemplate\": \"Country=Chad<br>Date=%{x}<br>Confirmed=%{text}<extra></extra>\", \"legendgroup\": \"Chad\", \"marker\": {\"color\": \"#00cc96\"}, \"name\": \"Chad\", \"offsetgroup\": \"Chad\", \"orientation\": \"v\", \"showlegend\": true, \"text\": [9.0], \"textposition\": \"auto\", \"type\": \"bar\", \"x\": [\"04/05/2020\"], \"xaxis\": \"x\", \"y\": [9.0], \"yaxis\": \"y\"}, {\"alignmentgroup\": \"True\", \"hovertemplate\": \"Country=Colombia<br>Date=%{x}<br>Confirmed=%{text}<extra></extra>\", \"legendgroup\": \"Colombia\", \"marker\": {\"color\": \"#ab63fa\"}, \"name\": \"Colombia\", \"offsetgroup\": \"Colombia\", \"orientation\": \"v\", \"showlegend\": true, \"text\": [1485.0], \"textposition\": \"auto\", \"type\": \"bar\", \"x\": [\"04/05/2020\"], \"xaxis\": \"x\", \"y\": [1485.0], \"yaxis\": \"y\"}, {\"alignmentgroup\": \"True\", \"hovertemplate\": \"Country=Congo (Brazzaville)<br>Date=%{x}<br>Confirmed=%{text}<extra></extra>\", \"legendgroup\": \"Congo (Brazzaville)\", \"marker\": {\"color\": \"#FFA15A\"}, \"name\": \"Congo (Brazzaville)\", \"offsetgroup\": \"Congo (Brazzaville)\", \"orientation\": \"v\", \"showlegend\": true, \"text\": [45.0], \"textposition\": \"auto\", \"type\": \"bar\", \"x\": [\"04/05/2020\"], \"xaxis\": \"x\", \"y\": [45.0], \"yaxis\": \"y\"}, {\"alignmentgroup\": \"True\", \"hovertemplate\": \"Country=Congo (Kinshasa)<br>Date=%{x}<br>Confirmed=%{text}<extra></extra>\", \"legendgroup\": \"Congo (Kinshasa)\", \"marker\": {\"color\": \"#19d3f3\"}, \"name\": \"Congo (Kinshasa)\", \"offsetgroup\": \"Congo (Kinshasa)\", \"orientation\": \"v\", \"showlegend\": true, \"text\": [154.0], \"textposition\": \"auto\", \"type\": \"bar\", \"x\": [\"04/05/2020\"], \"xaxis\": \"x\", \"y\": [154.0], \"yaxis\": \"y\"}, {\"alignmentgroup\": \"True\", \"hovertemplate\": \"Country=Costa Rica<br>Date=%{x}<br>Confirmed=%{text}<extra></extra>\", \"legendgroup\": \"Costa Rica\", \"marker\": {\"color\": \"#FF6692\"}, \"name\": \"Costa Rica\", \"offsetgroup\": \"Costa Rica\", \"orientation\": \"v\", \"showlegend\": true, \"text\": [454.0], \"textposition\": \"auto\", \"type\": \"bar\", \"x\": [\"04/05/2020\"], \"xaxis\": \"x\", \"y\": [454.0], \"yaxis\": \"y\"}, {\"alignmentgroup\": \"True\", \"hovertemplate\": \"Country=Croatia<br>Date=%{x}<br>Confirmed=%{text}<extra></extra>\", \"legendgroup\": \"Croatia\", \"marker\": {\"color\": \"#B6E880\"}, \"name\": \"Croatia\", \"offsetgroup\": \"Croatia\", \"orientation\": \"v\", \"showlegend\": true, \"text\": [1182.0], \"textposition\": \"auto\", \"type\": \"bar\", \"x\": [\"04/05/2020\"], \"xaxis\": \"x\", \"y\": [1182.0], \"yaxis\": \"y\"}, {\"alignmentgroup\": \"True\", \"hovertemplate\": \"Country=Cuba<br>Date=%{x}<br>Confirmed=%{text}<extra></extra>\", \"legendgroup\": \"Cuba\", \"marker\": {\"color\": \"#FF97FF\"}, \"name\": \"Cuba\", \"offsetgroup\": \"Cuba\", \"orientation\": \"v\", \"showlegend\": true, \"text\": [320.0], \"textposition\": \"auto\", \"type\": \"bar\", \"x\": [\"04/05/2020\"], \"xaxis\": \"x\", \"y\": [320.0], \"yaxis\": \"y\"}, {\"alignmentgroup\": \"True\", \"hovertemplate\": \"Country=Cyprus<br>Date=%{x}<br>Confirmed=%{text}<extra></extra>\", \"legendgroup\": \"Cyprus\", \"marker\": {\"color\": \"#FECB52\"}, \"name\": \"Cyprus\", \"offsetgroup\": \"Cyprus\", \"orientation\": \"v\", \"showlegend\": true, \"text\": [446.0], \"textposition\": \"auto\", \"type\": \"bar\", \"x\": [\"04/05/2020\"], \"xaxis\": \"x\", \"y\": [446.0], \"yaxis\": \"y\"}, {\"alignmentgroup\": \"True\", \"hovertemplate\": \"Country=Czech Republic<br>Date=%{x}<br>Confirmed=%{text}<extra></extra>\", \"legendgroup\": \"Czech Republic\", \"marker\": {\"color\": \"#636efa\"}, \"name\": \"Czech Republic\", \"offsetgroup\": \"Czech Republic\", \"orientation\": \"v\", \"showlegend\": true, \"text\": [4587.0], \"textposition\": \"auto\", \"type\": \"bar\", \"x\": [\"04/05/2020\"], \"xaxis\": \"x\", \"y\": [4587.0], \"yaxis\": \"y\"}, {\"alignmentgroup\": \"True\", \"hovertemplate\": \"Country=Denmark<br>Date=%{x}<br>Confirmed=%{text}<extra></extra>\", \"legendgroup\": \"Denmark\", \"marker\": {\"color\": \"#EF553B\"}, \"name\": \"Denmark\", \"offsetgroup\": \"Denmark\", \"orientation\": \"v\", \"showlegend\": true, \"text\": [4561.0], \"textposition\": \"auto\", \"type\": \"bar\", \"x\": [\"04/05/2020\"], \"xaxis\": \"x\", \"y\": [4561.0], \"yaxis\": \"y\"}, {\"alignmentgroup\": \"True\", \"hovertemplate\": \"Country=Chile<br>Date=%{x}<br>Confirmed=%{text}<extra></extra>\", \"legendgroup\": \"Chile\", \"marker\": {\"color\": \"#00cc96\"}, \"name\": \"Chile\", \"offsetgroup\": \"Chile\", \"orientation\": \"v\", \"showlegend\": true, \"text\": [4471.0], \"textposition\": \"auto\", \"type\": \"bar\", \"x\": [\"04/05/2020\"], \"xaxis\": \"x\", \"y\": [4471.0], \"yaxis\": \"y\"}, {\"alignmentgroup\": \"True\", \"hovertemplate\": \"Country=Brazil<br>Date=%{x}<br>Confirmed=%{text}<extra></extra>\", \"legendgroup\": \"Brazil\", \"marker\": {\"color\": \"#ab63fa\"}, \"name\": \"Brazil\", \"offsetgroup\": \"Brazil\", \"orientation\": \"v\", \"showlegend\": true, \"text\": [11130.0], \"textposition\": \"auto\", \"type\": \"bar\", \"x\": [\"04/05/2020\"], \"xaxis\": \"x\", \"y\": [11130.0], \"yaxis\": \"y\"}, {\"alignmentgroup\": \"True\", \"hovertemplate\": \"Country=Botswana<br>Date=%{x}<br>Confirmed=%{text}<extra></extra>\", \"legendgroup\": \"Botswana\", \"marker\": {\"color\": \"#FFA15A\"}, \"name\": \"Botswana\", \"offsetgroup\": \"Botswana\", \"orientation\": \"v\", \"showlegend\": true, \"text\": [6.0], \"textposition\": \"auto\", \"type\": \"bar\", \"x\": [\"04/05/2020\"], \"xaxis\": \"x\", \"y\": [6.0], \"yaxis\": \"y\"}, {\"alignmentgroup\": \"True\", \"hovertemplate\": \"Country=Bosnia and Herzegovina<br>Date=%{x}<br>Confirmed=%{text}<extra></extra>\", \"legendgroup\": \"Bosnia and Herzegovina\", \"marker\": {\"color\": \"#19d3f3\"}, \"name\": \"Bosnia and Herzegovina\", \"offsetgroup\": \"Bosnia and Herzegovina\", \"orientation\": \"v\", \"showlegend\": true, \"text\": [654.0], \"textposition\": \"auto\", \"type\": \"bar\", \"x\": [\"04/05/2020\"], \"xaxis\": \"x\", \"y\": [654.0], \"yaxis\": \"y\"}, {\"alignmentgroup\": \"True\", \"hovertemplate\": \"Country=Afghanistan<br>Date=%{x}<br>Confirmed=%{text}<extra></extra>\", \"legendgroup\": \"Afghanistan\", \"marker\": {\"color\": \"#FF6692\"}, \"name\": \"Afghanistan\", \"offsetgroup\": \"Afghanistan\", \"orientation\": \"v\", \"showlegend\": true, \"text\": [349.0], \"textposition\": \"auto\", \"type\": \"bar\", \"x\": [\"04/05/2020\"], \"xaxis\": \"x\", \"y\": [349.0], \"yaxis\": \"y\"}, {\"alignmentgroup\": \"True\", \"hovertemplate\": \"Country=Albania<br>Date=%{x}<br>Confirmed=%{text}<extra></extra>\", \"legendgroup\": \"Albania\", \"marker\": {\"color\": \"#B6E880\"}, \"name\": \"Albania\", \"offsetgroup\": \"Albania\", \"orientation\": \"v\", \"showlegend\": true, \"text\": [361.0], \"textposition\": \"auto\", \"type\": \"bar\", \"x\": [\"04/05/2020\"], \"xaxis\": \"x\", \"y\": [361.0], \"yaxis\": \"y\"}, {\"alignmentgroup\": \"True\", \"hovertemplate\": \"Country=Algeria<br>Date=%{x}<br>Confirmed=%{text}<extra></extra>\", \"legendgroup\": \"Algeria\", \"marker\": {\"color\": \"#FF97FF\"}, \"name\": \"Algeria\", \"offsetgroup\": \"Algeria\", \"orientation\": \"v\", \"showlegend\": true, \"text\": [1320.0], \"textposition\": \"auto\", \"type\": \"bar\", \"x\": [\"04/05/2020\"], \"xaxis\": \"x\", \"y\": [1320.0], \"yaxis\": \"y\"}, {\"alignmentgroup\": \"True\", \"hovertemplate\": \"Country=Andorra<br>Date=%{x}<br>Confirmed=%{text}<extra></extra>\", \"legendgroup\": \"Andorra\", \"marker\": {\"color\": \"#FECB52\"}, \"name\": \"Andorra\", \"offsetgroup\": \"Andorra\", \"orientation\": \"v\", \"showlegend\": true, \"text\": [501.0], \"textposition\": \"auto\", \"type\": \"bar\", \"x\": [\"04/05/2020\"], \"xaxis\": \"x\", \"y\": [501.0], \"yaxis\": \"y\"}, {\"alignmentgroup\": \"True\", \"hovertemplate\": \"Country=Angola<br>Date=%{x}<br>Confirmed=%{text}<extra></extra>\", \"legendgroup\": \"Angola\", \"marker\": {\"color\": \"#636efa\"}, \"name\": \"Angola\", \"offsetgroup\": \"Angola\", \"orientation\": \"v\", \"showlegend\": true, \"text\": [14.0], \"textposition\": \"auto\", \"type\": \"bar\", \"x\": [\"04/05/2020\"], \"xaxis\": \"x\", \"y\": [14.0], \"yaxis\": \"y\"}, {\"alignmentgroup\": \"True\", \"hovertemplate\": \"Country=Antigua and Barbuda<br>Date=%{x}<br>Confirmed=%{text}<extra></extra>\", \"legendgroup\": \"Antigua and Barbuda\", \"marker\": {\"color\": \"#EF553B\"}, \"name\": \"Antigua and Barbuda\", \"offsetgroup\": \"Antigua and Barbuda\", \"orientation\": \"v\", \"showlegend\": true, \"text\": [15.0], \"textposition\": \"auto\", \"type\": \"bar\", \"x\": [\"04/05/2020\"], \"xaxis\": \"x\", \"y\": [15.0], \"yaxis\": \"y\"}, {\"alignmentgroup\": \"True\", \"hovertemplate\": \"Country=Argentina<br>Date=%{x}<br>Confirmed=%{text}<extra></extra>\", \"legendgroup\": \"Argentina\", \"marker\": {\"color\": \"#00cc96\"}, \"name\": \"Argentina\", \"offsetgroup\": \"Argentina\", \"orientation\": \"v\", \"showlegend\": true, \"text\": [1451.0], \"textposition\": \"auto\", \"type\": \"bar\", \"x\": [\"04/05/2020\"], \"xaxis\": \"x\", \"y\": [1451.0], \"yaxis\": \"y\"}, {\"alignmentgroup\": \"True\", \"hovertemplate\": \"Country=Armenia<br>Date=%{x}<br>Confirmed=%{text}<extra></extra>\", \"legendgroup\": \"Armenia\", \"marker\": {\"color\": \"#ab63fa\"}, \"name\": \"Armenia\", \"offsetgroup\": \"Armenia\", \"orientation\": \"v\", \"showlegend\": true, \"text\": [822.0], \"textposition\": \"auto\", \"type\": \"bar\", \"x\": [\"04/05/2020\"], \"xaxis\": \"x\", \"y\": [822.0], \"yaxis\": \"y\"}, {\"alignmentgroup\": \"True\", \"hovertemplate\": \"Country=Australia<br>Date=%{x}<br>Confirmed=%{text}<extra></extra>\", \"legendgroup\": \"Australia\", \"marker\": {\"color\": \"#FFA15A\"}, \"name\": \"Australia\", \"offsetgroup\": \"Australia\", \"orientation\": \"v\", \"showlegend\": true, \"text\": [5687.0], \"textposition\": \"auto\", \"type\": \"bar\", \"x\": [\"04/05/2020\"], \"xaxis\": \"x\", \"y\": [5687.0], \"yaxis\": \"y\"}, {\"alignmentgroup\": \"True\", \"hovertemplate\": \"Country=Austria<br>Date=%{x}<br>Confirmed=%{text}<extra></extra>\", \"legendgroup\": \"Austria\", \"marker\": {\"color\": \"#19d3f3\"}, \"name\": \"Austria\", \"offsetgroup\": \"Austria\", \"orientation\": \"v\", \"showlegend\": true, \"text\": [12051.0], \"textposition\": \"auto\", \"type\": \"bar\", \"x\": [\"04/05/2020\"], \"xaxis\": \"x\", \"y\": [12051.0], \"yaxis\": \"y\"}, {\"alignmentgroup\": \"True\", \"hovertemplate\": \"Country=Azerbaijan<br>Date=%{x}<br>Confirmed=%{text}<extra></extra>\", \"legendgroup\": \"Azerbaijan\", \"marker\": {\"color\": \"#FF6692\"}, \"name\": \"Azerbaijan\", \"offsetgroup\": \"Azerbaijan\", \"orientation\": \"v\", \"showlegend\": true, \"text\": [584.0], \"textposition\": \"auto\", \"type\": \"bar\", \"x\": [\"04/05/2020\"], \"xaxis\": \"x\", \"y\": [584.0], \"yaxis\": \"y\"}, {\"alignmentgroup\": \"True\", \"hovertemplate\": \"Country=Bahamas<br>Date=%{x}<br>Confirmed=%{text}<extra></extra>\", \"legendgroup\": \"Bahamas\", \"marker\": {\"color\": \"#B6E880\"}, \"name\": \"Bahamas\", \"offsetgroup\": \"Bahamas\", \"orientation\": \"v\", \"showlegend\": true, \"text\": [28.0], \"textposition\": \"auto\", \"type\": \"bar\", \"x\": [\"04/05/2020\"], \"xaxis\": \"x\", \"y\": [28.0], \"yaxis\": \"y\"}, {\"alignmentgroup\": \"True\", \"hovertemplate\": \"Country=Bahrain<br>Date=%{x}<br>Confirmed=%{text}<extra></extra>\", \"legendgroup\": \"Bahrain\", \"marker\": {\"color\": \"#FF97FF\"}, \"name\": \"Bahrain\", \"offsetgroup\": \"Bahrain\", \"orientation\": \"v\", \"showlegend\": true, \"text\": [700.0], \"textposition\": \"auto\", \"type\": \"bar\", \"x\": [\"04/05/2020\"], \"xaxis\": \"x\", \"y\": [700.0], \"yaxis\": \"y\"}, {\"alignmentgroup\": \"True\", \"hovertemplate\": \"Country=Bangladesh<br>Date=%{x}<br>Confirmed=%{text}<extra></extra>\", \"legendgroup\": \"Bangladesh\", \"marker\": {\"color\": \"#FECB52\"}, \"name\": \"Bangladesh\", \"offsetgroup\": \"Bangladesh\", \"orientation\": \"v\", \"showlegend\": true, \"text\": [88.0], \"textposition\": \"auto\", \"type\": \"bar\", \"x\": [\"04/05/2020\"], \"xaxis\": \"x\", \"y\": [88.0], \"yaxis\": \"y\"}, {\"alignmentgroup\": \"True\", \"hovertemplate\": \"Country=Barbados<br>Date=%{x}<br>Confirmed=%{text}<extra></extra>\", \"legendgroup\": \"Barbados\", \"marker\": {\"color\": \"#636efa\"}, \"name\": \"Barbados\", \"offsetgroup\": \"Barbados\", \"orientation\": \"v\", \"showlegend\": true, \"text\": [56.0], \"textposition\": \"auto\", \"type\": \"bar\", \"x\": [\"04/05/2020\"], \"xaxis\": \"x\", \"y\": [56.0], \"yaxis\": \"y\"}, {\"alignmentgroup\": \"True\", \"hovertemplate\": \"Country=Belarus<br>Date=%{x}<br>Confirmed=%{text}<extra></extra>\", \"legendgroup\": \"Belarus\", \"marker\": {\"color\": \"#EF553B\"}, \"name\": \"Belarus\", \"offsetgroup\": \"Belarus\", \"orientation\": \"v\", \"showlegend\": true, \"text\": [562.0], \"textposition\": \"auto\", \"type\": \"bar\", \"x\": [\"04/05/2020\"], \"xaxis\": \"x\", \"y\": [562.0], \"yaxis\": \"y\"}, {\"alignmentgroup\": \"True\", \"hovertemplate\": \"Country=Belgium<br>Date=%{x}<br>Confirmed=%{text}<extra></extra>\", \"legendgroup\": \"Belgium\", \"marker\": {\"color\": \"#00cc96\"}, \"name\": \"Belgium\", \"offsetgroup\": \"Belgium\", \"orientation\": \"v\", \"showlegend\": true, \"text\": [19691.0], \"textposition\": \"auto\", \"type\": \"bar\", \"x\": [\"04/05/2020\"], \"xaxis\": \"x\", \"y\": [19691.0], \"yaxis\": \"y\"}, {\"alignmentgroup\": \"True\", \"hovertemplate\": \"Country=Belize<br>Date=%{x}<br>Confirmed=%{text}<extra></extra>\", \"legendgroup\": \"Belize\", \"marker\": {\"color\": \"#ab63fa\"}, \"name\": \"Belize\", \"offsetgroup\": \"Belize\", \"orientation\": \"v\", \"showlegend\": true, \"text\": [5.0], \"textposition\": \"auto\", \"type\": \"bar\", \"x\": [\"04/05/2020\"], \"xaxis\": \"x\", \"y\": [5.0], \"yaxis\": \"y\"}, {\"alignmentgroup\": \"True\", \"hovertemplate\": \"Country=Benin<br>Date=%{x}<br>Confirmed=%{text}<extra></extra>\", \"legendgroup\": \"Benin\", \"marker\": {\"color\": \"#FFA15A\"}, \"name\": \"Benin\", \"offsetgroup\": \"Benin\", \"orientation\": \"v\", \"showlegend\": true, \"text\": [22.0], \"textposition\": \"auto\", \"type\": \"bar\", \"x\": [\"04/05/2020\"], \"xaxis\": \"x\", \"y\": [22.0], \"yaxis\": \"y\"}, {\"alignmentgroup\": \"True\", \"hovertemplate\": \"Country=Bhutan<br>Date=%{x}<br>Confirmed=%{text}<extra></extra>\", \"legendgroup\": \"Bhutan\", \"marker\": {\"color\": \"#19d3f3\"}, \"name\": \"Bhutan\", \"offsetgroup\": \"Bhutan\", \"orientation\": \"v\", \"showlegend\": true, \"text\": [5.0], \"textposition\": \"auto\", \"type\": \"bar\", \"x\": [\"04/05/2020\"], \"xaxis\": \"x\", \"y\": [5.0], \"yaxis\": \"y\"}, {\"alignmentgroup\": \"True\", \"hovertemplate\": \"Country=Bolivia<br>Date=%{x}<br>Confirmed=%{text}<extra></extra>\", \"legendgroup\": \"Bolivia\", \"marker\": {\"color\": \"#FF6692\"}, \"name\": \"Bolivia\", \"offsetgroup\": \"Bolivia\", \"orientation\": \"v\", \"showlegend\": true, \"text\": [157.0], \"textposition\": \"auto\", \"type\": \"bar\", \"x\": [\"04/05/2020\"], \"xaxis\": \"x\", \"y\": [157.0], \"yaxis\": \"y\"}, {\"alignmentgroup\": \"True\", \"hovertemplate\": \"Country=Diamond Princess<br>Date=%{x}<br>Confirmed=%{text}<extra></extra>\", \"legendgroup\": \"Diamond Princess\", \"marker\": {\"color\": \"#B6E880\"}, \"name\": \"Diamond Princess\", \"offsetgroup\": \"Diamond Princess\", \"orientation\": \"v\", \"showlegend\": true, \"text\": [712.0], \"textposition\": \"auto\", \"type\": \"bar\", \"x\": [\"04/05/2020\"], \"xaxis\": \"x\", \"y\": [712.0], \"yaxis\": \"y\"}, {\"alignmentgroup\": \"True\", \"hovertemplate\": \"Country=Lebanon<br>Date=%{x}<br>Confirmed=%{text}<extra></extra>\", \"legendgroup\": \"Lebanon\", \"marker\": {\"color\": \"#FF97FF\"}, \"name\": \"Lebanon\", \"offsetgroup\": \"Lebanon\", \"orientation\": \"v\", \"showlegend\": true, \"text\": [527.0], \"textposition\": \"auto\", \"type\": \"bar\", \"x\": [\"04/05/2020\"], \"xaxis\": \"x\", \"y\": [527.0], \"yaxis\": \"y\"}, {\"alignmentgroup\": \"True\", \"hovertemplate\": \"Country=Djibouti<br>Date=%{x}<br>Confirmed=%{text}<extra></extra>\", \"legendgroup\": \"Djibouti\", \"marker\": {\"color\": \"#FECB52\"}, \"name\": \"Djibouti\", \"offsetgroup\": \"Djibouti\", \"orientation\": \"v\", \"showlegend\": true, \"text\": [59.0], \"textposition\": \"auto\", \"type\": \"bar\", \"x\": [\"04/05/2020\"], \"xaxis\": \"x\", \"y\": [59.0], \"yaxis\": \"y\"}, {\"alignmentgroup\": \"True\", \"hovertemplate\": \"Country=Dominican Republic<br>Date=%{x}<br>Confirmed=%{text}<extra></extra>\", \"legendgroup\": \"Dominican Republic\", \"marker\": {\"color\": \"#636efa\"}, \"name\": \"Dominican Republic\", \"offsetgroup\": \"Dominican Republic\", \"orientation\": \"v\", \"showlegend\": true, \"text\": [1745.0], \"textposition\": \"auto\", \"type\": \"bar\", \"x\": [\"04/05/2020\"], \"xaxis\": \"x\", \"y\": [1745.0], \"yaxis\": \"y\"}, {\"alignmentgroup\": \"True\", \"hovertemplate\": \"Country=Hong Kong<br>Date=%{x}<br>Confirmed=%{text}<extra></extra>\", \"legendgroup\": \"Hong Kong\", \"marker\": {\"color\": \"#EF553B\"}, \"name\": \"Hong Kong\", \"offsetgroup\": \"Hong Kong\", \"orientation\": \"v\", \"showlegend\": true, \"text\": [890.0], \"textposition\": \"auto\", \"type\": \"bar\", \"x\": [\"04/05/2020\"], \"xaxis\": \"x\", \"y\": [890.0], \"yaxis\": \"y\"}, {\"alignmentgroup\": \"True\", \"hovertemplate\": \"Country=Hungary<br>Date=%{x}<br>Confirmed=%{text}<extra></extra>\", \"legendgroup\": \"Hungary\", \"marker\": {\"color\": \"#00cc96\"}, \"name\": \"Hungary\", \"offsetgroup\": \"Hungary\", \"orientation\": \"v\", \"showlegend\": true, \"text\": [733.0], \"textposition\": \"auto\", \"type\": \"bar\", \"x\": [\"04/05/2020\"], \"xaxis\": \"x\", \"y\": [733.0], \"yaxis\": \"y\"}, {\"alignmentgroup\": \"True\", \"hovertemplate\": \"Country=Iceland<br>Date=%{x}<br>Confirmed=%{text}<extra></extra>\", \"legendgroup\": \"Iceland\", \"marker\": {\"color\": \"#ab63fa\"}, \"name\": \"Iceland\", \"offsetgroup\": \"Iceland\", \"orientation\": \"v\", \"showlegend\": true, \"text\": [1486.0], \"textposition\": \"auto\", \"type\": \"bar\", \"x\": [\"04/05/2020\"], \"xaxis\": \"x\", \"y\": [1486.0], \"yaxis\": \"y\"}, {\"alignmentgroup\": \"True\", \"hovertemplate\": \"Country=India<br>Date=%{x}<br>Confirmed=%{text}<extra></extra>\", \"legendgroup\": \"India\", \"marker\": {\"color\": \"#FFA15A\"}, \"name\": \"India\", \"offsetgroup\": \"India\", \"orientation\": \"v\", \"showlegend\": true, \"text\": [3588.0], \"textposition\": \"auto\", \"type\": \"bar\", \"x\": [\"04/05/2020\"], \"xaxis\": \"x\", \"y\": [3588.0], \"yaxis\": \"y\"}, {\"alignmentgroup\": \"True\", \"hovertemplate\": \"Country=Indonesia<br>Date=%{x}<br>Confirmed=%{text}<extra></extra>\", \"legendgroup\": \"Indonesia\", \"marker\": {\"color\": \"#19d3f3\"}, \"name\": \"Indonesia\", \"offsetgroup\": \"Indonesia\", \"orientation\": \"v\", \"showlegend\": true, \"text\": [2273.0], \"textposition\": \"auto\", \"type\": \"bar\", \"x\": [\"04/05/2020\"], \"xaxis\": \"x\", \"y\": [2273.0], \"yaxis\": \"y\"}, {\"alignmentgroup\": \"True\", \"hovertemplate\": \"Country=Iran<br>Date=%{x}<br>Confirmed=%{text}<extra></extra>\", \"legendgroup\": \"Iran\", \"marker\": {\"color\": \"#FF6692\"}, \"name\": \"Iran\", \"offsetgroup\": \"Iran\", \"orientation\": \"v\", \"showlegend\": true, \"text\": [58226.0], \"textposition\": \"auto\", \"type\": \"bar\", \"x\": [\"04/05/2020\"], \"xaxis\": \"x\", \"y\": [58226.0], \"yaxis\": \"y\"}, {\"alignmentgroup\": \"True\", \"hovertemplate\": \"Country=Iraq<br>Date=%{x}<br>Confirmed=%{text}<extra></extra>\", \"legendgroup\": \"Iraq\", \"marker\": {\"color\": \"#B6E880\"}, \"name\": \"Iraq\", \"offsetgroup\": \"Iraq\", \"orientation\": \"v\", \"showlegend\": true, \"text\": [961.0], \"textposition\": \"auto\", \"type\": \"bar\", \"x\": [\"04/05/2020\"], \"xaxis\": \"x\", \"y\": [961.0], \"yaxis\": \"y\"}, {\"alignmentgroup\": \"True\", \"hovertemplate\": \"Country=Ireland<br>Date=%{x}<br>Confirmed=%{text}<extra></extra>\", \"legendgroup\": \"Ireland\", \"marker\": {\"color\": \"#FF97FF\"}, \"name\": \"Ireland\", \"offsetgroup\": \"Ireland\", \"orientation\": \"v\", \"showlegend\": true, \"text\": [4994.0], \"textposition\": \"auto\", \"type\": \"bar\", \"x\": [\"04/05/2020\"], \"xaxis\": \"x\", \"y\": [4994.0], \"yaxis\": \"y\"}, {\"alignmentgroup\": \"True\", \"hovertemplate\": \"Country=Israel<br>Date=%{x}<br>Confirmed=%{text}<extra></extra>\", \"legendgroup\": \"Israel\", \"marker\": {\"color\": \"#FECB52\"}, \"name\": \"Israel\", \"offsetgroup\": \"Israel\", \"orientation\": \"v\", \"showlegend\": true, \"text\": [8430.0], \"textposition\": \"auto\", \"type\": \"bar\", \"x\": [\"04/05/2020\"], \"xaxis\": \"x\", \"y\": [8430.0], \"yaxis\": \"y\"}, {\"alignmentgroup\": \"True\", \"hovertemplate\": \"Country=Honduras<br>Date=%{x}<br>Confirmed=%{text}<extra></extra>\", \"legendgroup\": \"Honduras\", \"marker\": {\"color\": \"#636efa\"}, \"name\": \"Honduras\", \"offsetgroup\": \"Honduras\", \"orientation\": \"v\", \"showlegend\": true, \"text\": [268.0], \"textposition\": \"auto\", \"type\": \"bar\", \"x\": [\"04/05/2020\"], \"xaxis\": \"x\", \"y\": [268.0], \"yaxis\": \"y\"}, {\"alignmentgroup\": \"True\", \"hovertemplate\": \"Country=Italy<br>Date=%{x}<br>Confirmed=%{text}<extra></extra>\", \"legendgroup\": \"Italy\", \"marker\": {\"color\": \"#EF553B\"}, \"name\": \"Italy\", \"offsetgroup\": \"Italy\", \"orientation\": \"v\", \"showlegend\": true, \"text\": [128948.0], \"textposition\": \"auto\", \"type\": \"bar\", \"x\": [\"04/05/2020\"], \"xaxis\": \"x\", \"y\": [128948.0], \"yaxis\": \"y\"}, {\"alignmentgroup\": \"True\", \"hovertemplate\": \"Country=Jamaica<br>Date=%{x}<br>Confirmed=%{text}<extra></extra>\", \"legendgroup\": \"Jamaica\", \"marker\": {\"color\": \"#00cc96\"}, \"name\": \"Jamaica\", \"offsetgroup\": \"Jamaica\", \"orientation\": \"v\", \"showlegend\": true, \"text\": [58.0], \"textposition\": \"auto\", \"type\": \"bar\", \"x\": [\"04/05/2020\"], \"xaxis\": \"x\", \"y\": [58.0], \"yaxis\": \"y\"}, {\"alignmentgroup\": \"True\", \"hovertemplate\": \"Country=Japan<br>Date=%{x}<br>Confirmed=%{text}<extra></extra>\", \"legendgroup\": \"Japan\", \"marker\": {\"color\": \"#ab63fa\"}, \"name\": \"Japan\", \"offsetgroup\": \"Japan\", \"orientation\": \"v\", \"showlegend\": true, \"text\": [3139.0], \"textposition\": \"auto\", \"type\": \"bar\", \"x\": [\"04/05/2020\"], \"xaxis\": \"x\", \"y\": [3139.0], \"yaxis\": \"y\"}, {\"alignmentgroup\": \"True\", \"hovertemplate\": \"Country=Jordan<br>Date=%{x}<br>Confirmed=%{text}<extra></extra>\", \"legendgroup\": \"Jordan\", \"marker\": {\"color\": \"#FFA15A\"}, \"name\": \"Jordan\", \"offsetgroup\": \"Jordan\", \"orientation\": \"v\", \"showlegend\": true, \"text\": [345.0], \"textposition\": \"auto\", \"type\": \"bar\", \"x\": [\"04/05/2020\"], \"xaxis\": \"x\", \"y\": [345.0], \"yaxis\": \"y\"}, {\"alignmentgroup\": \"True\", \"hovertemplate\": \"Country=Kazakhstan<br>Date=%{x}<br>Confirmed=%{text}<extra></extra>\", \"legendgroup\": \"Kazakhstan\", \"marker\": {\"color\": \"#19d3f3\"}, \"name\": \"Kazakhstan\", \"offsetgroup\": \"Kazakhstan\", \"orientation\": \"v\", \"showlegend\": true, \"text\": [584.0], \"textposition\": \"auto\", \"type\": \"bar\", \"x\": [\"04/05/2020\"], \"xaxis\": \"x\", \"y\": [584.0], \"yaxis\": \"y\"}, {\"alignmentgroup\": \"True\", \"hovertemplate\": \"Country=Zambia<br>Date=%{x}<br>Confirmed=%{text}<extra></extra>\", \"legendgroup\": \"Zambia\", \"marker\": {\"color\": \"#FF6692\"}, \"name\": \"Zambia\", \"offsetgroup\": \"Zambia\", \"orientation\": \"v\", \"showlegend\": true, \"text\": [39.0], \"textposition\": \"auto\", \"type\": \"bar\", \"x\": [\"04/05/2020\"], \"xaxis\": \"x\", \"y\": [39.0], \"yaxis\": \"y\"}, {\"alignmentgroup\": \"True\", \"hovertemplate\": \"Country=Kosovo<br>Date=%{x}<br>Confirmed=%{text}<extra></extra>\", \"legendgroup\": \"Kosovo\", \"marker\": {\"color\": \"#B6E880\"}, \"name\": \"Kosovo\", \"offsetgroup\": \"Kosovo\", \"orientation\": \"v\", \"showlegend\": true, \"text\": [145.0], \"textposition\": \"auto\", \"type\": \"bar\", \"x\": [\"04/05/2020\"], \"xaxis\": \"x\", \"y\": [145.0], \"yaxis\": \"y\"}, {\"alignmentgroup\": \"True\", \"hovertemplate\": \"Country=Kuwait<br>Date=%{x}<br>Confirmed=%{text}<extra></extra>\", \"legendgroup\": \"Kuwait\", \"marker\": {\"color\": \"#FF97FF\"}, \"name\": \"Kuwait\", \"offsetgroup\": \"Kuwait\", \"orientation\": \"v\", \"showlegend\": true, \"text\": [556.0], \"textposition\": \"auto\", \"type\": \"bar\", \"x\": [\"04/05/2020\"], \"xaxis\": \"x\", \"y\": [556.0], \"yaxis\": \"y\"}, {\"alignmentgroup\": \"True\", \"hovertemplate\": \"Country=Kyrgyzstan<br>Date=%{x}<br>Confirmed=%{text}<extra></extra>\", \"legendgroup\": \"Kyrgyzstan\", \"marker\": {\"color\": \"#FECB52\"}, \"name\": \"Kyrgyzstan\", \"offsetgroup\": \"Kyrgyzstan\", \"orientation\": \"v\", \"showlegend\": true, \"text\": [147.0], \"textposition\": \"auto\", \"type\": \"bar\", \"x\": [\"04/05/2020\"], \"xaxis\": \"x\", \"y\": [147.0], \"yaxis\": \"y\"}, {\"alignmentgroup\": \"True\", \"hovertemplate\": \"Country=Laos<br>Date=%{x}<br>Confirmed=%{text}<extra></extra>\", \"legendgroup\": \"Laos\", \"marker\": {\"color\": \"#636efa\"}, \"name\": \"Laos\", \"offsetgroup\": \"Laos\", \"orientation\": \"v\", \"showlegend\": true, \"text\": [11.0], \"textposition\": \"auto\", \"type\": \"bar\", \"x\": [\"04/05/2020\"], \"xaxis\": \"x\", \"y\": [11.0], \"yaxis\": \"y\"}, {\"alignmentgroup\": \"True\", \"hovertemplate\": \"Country=Ivory Coast<br>Date=%{x}<br>Confirmed=%{text}<extra></extra>\", \"legendgroup\": \"Ivory Coast\", \"marker\": {\"color\": \"#EF553B\"}, \"name\": \"Ivory Coast\", \"offsetgroup\": \"Ivory Coast\", \"orientation\": \"v\", \"showlegend\": true, \"text\": [261.0], \"textposition\": \"auto\", \"type\": \"bar\", \"x\": [\"04/05/2020\"], \"xaxis\": \"x\", \"y\": [261.0], \"yaxis\": \"y\"}, {\"alignmentgroup\": \"True\", \"hovertemplate\": \"Country=Holy See<br>Date=%{x}<br>Confirmed=%{text}<extra></extra>\", \"legendgroup\": \"Holy See\", \"marker\": {\"color\": \"#00cc96\"}, \"name\": \"Holy See\", \"offsetgroup\": \"Holy See\", \"orientation\": \"v\", \"showlegend\": true, \"text\": [7.0], \"textposition\": \"auto\", \"type\": \"bar\", \"x\": [\"04/05/2020\"], \"xaxis\": \"x\", \"y\": [7.0], \"yaxis\": \"y\"}, {\"alignmentgroup\": \"True\", \"hovertemplate\": \"Country=Haiti<br>Date=%{x}<br>Confirmed=%{text}<extra></extra>\", \"legendgroup\": \"Haiti\", \"marker\": {\"color\": \"#ab63fa\"}, \"name\": \"Haiti\", \"offsetgroup\": \"Haiti\", \"orientation\": \"v\", \"showlegend\": true, \"text\": [21.0], \"textposition\": \"auto\", \"type\": \"bar\", \"x\": [\"04/05/2020\"], \"xaxis\": \"x\", \"y\": [21.0], \"yaxis\": \"y\"}, {\"alignmentgroup\": \"True\", \"hovertemplate\": \"Country=Guyana<br>Date=%{x}<br>Confirmed=%{text}<extra></extra>\", \"legendgroup\": \"Guyana\", \"marker\": {\"color\": \"#FFA15A\"}, \"name\": \"Guyana\", \"offsetgroup\": \"Guyana\", \"orientation\": \"v\", \"showlegend\": true, \"text\": [24.0], \"textposition\": \"auto\", \"type\": \"bar\", \"x\": [\"04/05/2020\"], \"xaxis\": \"x\", \"y\": [24.0], \"yaxis\": \"y\"}, {\"alignmentgroup\": \"True\", \"hovertemplate\": \"Country=Ecuador<br>Date=%{x}<br>Confirmed=%{text}<extra></extra>\", \"legendgroup\": \"Ecuador\", \"marker\": {\"color\": \"#19d3f3\"}, \"name\": \"Ecuador\", \"offsetgroup\": \"Ecuador\", \"orientation\": \"v\", \"showlegend\": true, \"text\": [3646.0], \"textposition\": \"auto\", \"type\": \"bar\", \"x\": [\"04/05/2020\"], \"xaxis\": \"x\", \"y\": [3646.0], \"yaxis\": \"y\"}, {\"alignmentgroup\": \"True\", \"hovertemplate\": \"Country=Egypt<br>Date=%{x}<br>Confirmed=%{text}<extra></extra>\", \"legendgroup\": \"Egypt\", \"marker\": {\"color\": \"#FF6692\"}, \"name\": \"Egypt\", \"offsetgroup\": \"Egypt\", \"orientation\": \"v\", \"showlegend\": true, \"text\": [1173.0], \"textposition\": \"auto\", \"type\": \"bar\", \"x\": [\"04/05/2020\"], \"xaxis\": \"x\", \"y\": [1173.0], \"yaxis\": \"y\"}, {\"alignmentgroup\": \"True\", \"hovertemplate\": \"Country=El Salvador<br>Date=%{x}<br>Confirmed=%{text}<extra></extra>\", \"legendgroup\": \"El Salvador\", \"marker\": {\"color\": \"#B6E880\"}, \"name\": \"El Salvador\", \"offsetgroup\": \"El Salvador\", \"orientation\": \"v\", \"showlegend\": true, \"text\": [62.0], \"textposition\": \"auto\", \"type\": \"bar\", \"x\": [\"04/05/2020\"], \"xaxis\": \"x\", \"y\": [62.0], \"yaxis\": \"y\"}, {\"alignmentgroup\": \"True\", \"hovertemplate\": \"Country=Equatorial Guinea<br>Date=%{x}<br>Confirmed=%{text}<extra></extra>\", \"legendgroup\": \"Equatorial Guinea\", \"marker\": {\"color\": \"#FF97FF\"}, \"name\": \"Equatorial Guinea\", \"offsetgroup\": \"Equatorial Guinea\", \"orientation\": \"v\", \"showlegend\": true, \"text\": [16.0], \"textposition\": \"auto\", \"type\": \"bar\", \"x\": [\"04/05/2020\"], \"xaxis\": \"x\", \"y\": [16.0], \"yaxis\": \"y\"}, {\"alignmentgroup\": \"True\", \"hovertemplate\": \"Country=Eritrea<br>Date=%{x}<br>Confirmed=%{text}<extra></extra>\", \"legendgroup\": \"Eritrea\", \"marker\": {\"color\": \"#FECB52\"}, \"name\": \"Eritrea\", \"offsetgroup\": \"Eritrea\", \"orientation\": \"v\", \"showlegend\": true, \"text\": [29.0], \"textposition\": \"auto\", \"type\": \"bar\", \"x\": [\"04/05/2020\"], \"xaxis\": \"x\", \"y\": [29.0], \"yaxis\": \"y\"}, {\"alignmentgroup\": \"True\", \"hovertemplate\": \"Country=Estonia<br>Date=%{x}<br>Confirmed=%{text}<extra></extra>\", \"legendgroup\": \"Estonia\", \"marker\": {\"color\": \"#636efa\"}, \"name\": \"Estonia\", \"offsetgroup\": \"Estonia\", \"orientation\": \"v\", \"showlegend\": true, \"text\": [1097.0], \"textposition\": \"auto\", \"type\": \"bar\", \"x\": [\"04/05/2020\"], \"xaxis\": \"x\", \"y\": [1097.0], \"yaxis\": \"y\"}, {\"alignmentgroup\": \"True\", \"hovertemplate\": \"Country=Eswatini<br>Date=%{x}<br>Confirmed=%{text}<extra></extra>\", \"legendgroup\": \"Eswatini\", \"marker\": {\"color\": \"#EF553B\"}, \"name\": \"Eswatini\", \"offsetgroup\": \"Eswatini\", \"orientation\": \"v\", \"showlegend\": true, \"text\": [9.0], \"textposition\": \"auto\", \"type\": \"bar\", \"x\": [\"04/05/2020\"], \"xaxis\": \"x\", \"y\": [9.0], \"yaxis\": \"y\"}, {\"alignmentgroup\": \"True\", \"hovertemplate\": \"Country=Ethiopia<br>Date=%{x}<br>Confirmed=%{text}<extra></extra>\", \"legendgroup\": \"Ethiopia\", \"marker\": {\"color\": \"#00cc96\"}, \"name\": \"Ethiopia\", \"offsetgroup\": \"Ethiopia\", \"orientation\": \"v\", \"showlegend\": true, \"text\": [43.0], \"textposition\": \"auto\", \"type\": \"bar\", \"x\": [\"04/05/2020\"], \"xaxis\": \"x\", \"y\": [43.0], \"yaxis\": \"y\"}, {\"alignmentgroup\": \"True\", \"hovertemplate\": \"Country=Fiji<br>Date=%{x}<br>Confirmed=%{text}<extra></extra>\", \"legendgroup\": \"Fiji\", \"marker\": {\"color\": \"#ab63fa\"}, \"name\": \"Fiji\", \"offsetgroup\": \"Fiji\", \"orientation\": \"v\", \"showlegend\": true, \"text\": [12.0], \"textposition\": \"auto\", \"type\": \"bar\", \"x\": [\"04/05/2020\"], \"xaxis\": \"x\", \"y\": [12.0], \"yaxis\": \"y\"}, {\"alignmentgroup\": \"True\", \"hovertemplate\": \"Country=Finland<br>Date=%{x}<br>Confirmed=%{text}<extra></extra>\", \"legendgroup\": \"Finland\", \"marker\": {\"color\": \"#FFA15A\"}, \"name\": \"Finland\", \"offsetgroup\": \"Finland\", \"orientation\": \"v\", \"showlegend\": true, \"text\": [1927.0], \"textposition\": \"auto\", \"type\": \"bar\", \"x\": [\"04/05/2020\"], \"xaxis\": \"x\", \"y\": [1927.0], \"yaxis\": \"y\"}, {\"alignmentgroup\": \"True\", \"hovertemplate\": \"Country=France<br>Date=%{x}<br>Confirmed=%{text}<extra></extra>\", \"legendgroup\": \"France\", \"marker\": {\"color\": \"#19d3f3\"}, \"name\": \"France\", \"offsetgroup\": \"France\", \"orientation\": \"v\", \"showlegend\": true, \"text\": [93773.0], \"textposition\": \"auto\", \"type\": \"bar\", \"x\": [\"04/05/2020\"], \"xaxis\": \"x\", \"y\": [93773.0], \"yaxis\": \"y\"}, {\"alignmentgroup\": \"True\", \"hovertemplate\": \"Country=Gabon<br>Date=%{x}<br>Confirmed=%{text}<extra></extra>\", \"legendgroup\": \"Gabon\", \"marker\": {\"color\": \"#FF6692\"}, \"name\": \"Gabon\", \"offsetgroup\": \"Gabon\", \"orientation\": \"v\", \"showlegend\": true, \"text\": [21.0], \"textposition\": \"auto\", \"type\": \"bar\", \"x\": [\"04/05/2020\"], \"xaxis\": \"x\", \"y\": [21.0], \"yaxis\": \"y\"}, {\"alignmentgroup\": \"True\", \"hovertemplate\": \"Country=Gambia<br>Date=%{x}<br>Confirmed=%{text}<extra></extra>\", \"legendgroup\": \"Gambia\", \"marker\": {\"color\": \"#B6E880\"}, \"name\": \"Gambia\", \"offsetgroup\": \"Gambia\", \"orientation\": \"v\", \"showlegend\": true, \"text\": [4.0], \"textposition\": \"auto\", \"type\": \"bar\", \"x\": [\"04/05/2020\"], \"xaxis\": \"x\", \"y\": [4.0], \"yaxis\": \"y\"}, {\"alignmentgroup\": \"True\", \"hovertemplate\": \"Country=Georgia<br>Date=%{x}<br>Confirmed=%{text}<extra></extra>\", \"legendgroup\": \"Georgia\", \"marker\": {\"color\": \"#FF97FF\"}, \"name\": \"Georgia\", \"offsetgroup\": \"Georgia\", \"orientation\": \"v\", \"showlegend\": true, \"text\": [174.0], \"textposition\": \"auto\", \"type\": \"bar\", \"x\": [\"04/05/2020\"], \"xaxis\": \"x\", \"y\": [174.0], \"yaxis\": \"y\"}, {\"alignmentgroup\": \"True\", \"hovertemplate\": \"Country=Germany<br>Date=%{x}<br>Confirmed=%{text}<extra></extra>\", \"legendgroup\": \"Germany\", \"marker\": {\"color\": \"#FECB52\"}, \"name\": \"Germany\", \"offsetgroup\": \"Germany\", \"orientation\": \"v\", \"showlegend\": true, \"text\": [100123.0], \"textposition\": \"auto\", \"type\": \"bar\", \"x\": [\"04/05/2020\"], \"xaxis\": \"x\", \"y\": [100123.0], \"yaxis\": \"y\"}, {\"alignmentgroup\": \"True\", \"hovertemplate\": \"Country=Ghana<br>Date=%{x}<br>Confirmed=%{text}<extra></extra>\", \"legendgroup\": \"Ghana\", \"marker\": {\"color\": \"#636efa\"}, \"name\": \"Ghana\", \"offsetgroup\": \"Ghana\", \"orientation\": \"v\", \"showlegend\": true, \"text\": [214.0], \"textposition\": \"auto\", \"type\": \"bar\", \"x\": [\"04/05/2020\"], \"xaxis\": \"x\", \"y\": [214.0], \"yaxis\": \"y\"}, {\"alignmentgroup\": \"True\", \"hovertemplate\": \"Country=Greece<br>Date=%{x}<br>Confirmed=%{text}<extra></extra>\", \"legendgroup\": \"Greece\", \"marker\": {\"color\": \"#EF553B\"}, \"name\": \"Greece\", \"offsetgroup\": \"Greece\", \"orientation\": \"v\", \"showlegend\": true, \"text\": [1735.0], \"textposition\": \"auto\", \"type\": \"bar\", \"x\": [\"04/05/2020\"], \"xaxis\": \"x\", \"y\": [1735.0], \"yaxis\": \"y\"}, {\"alignmentgroup\": \"True\", \"hovertemplate\": \"Country=Grenada<br>Date=%{x}<br>Confirmed=%{text}<extra></extra>\", \"legendgroup\": \"Grenada\", \"marker\": {\"color\": \"#00cc96\"}, \"name\": \"Grenada\", \"offsetgroup\": \"Grenada\", \"orientation\": \"v\", \"showlegend\": true, \"text\": [12.0], \"textposition\": \"auto\", \"type\": \"bar\", \"x\": [\"04/05/2020\"], \"xaxis\": \"x\", \"y\": [12.0], \"yaxis\": \"y\"}, {\"alignmentgroup\": \"True\", \"hovertemplate\": \"Country=Guatemala<br>Date=%{x}<br>Confirmed=%{text}<extra></extra>\", \"legendgroup\": \"Guatemala\", \"marker\": {\"color\": \"#ab63fa\"}, \"name\": \"Guatemala\", \"offsetgroup\": \"Guatemala\", \"orientation\": \"v\", \"showlegend\": true, \"text\": [61.0], \"textposition\": \"auto\", \"type\": \"bar\", \"x\": [\"04/05/2020\"], \"xaxis\": \"x\", \"y\": [61.0], \"yaxis\": \"y\"}, {\"alignmentgroup\": \"True\", \"hovertemplate\": \"Country=Guinea<br>Date=%{x}<br>Confirmed=%{text}<extra></extra>\", \"legendgroup\": \"Guinea\", \"marker\": {\"color\": \"#FFA15A\"}, \"name\": \"Guinea\", \"offsetgroup\": \"Guinea\", \"orientation\": \"v\", \"showlegend\": true, \"text\": [121.0], \"textposition\": \"auto\", \"type\": \"bar\", \"x\": [\"04/05/2020\"], \"xaxis\": \"x\", \"y\": [121.0], \"yaxis\": \"y\"}, {\"alignmentgroup\": \"True\", \"hovertemplate\": \"Country=Guinea-Bissau<br>Date=%{x}<br>Confirmed=%{text}<extra></extra>\", \"legendgroup\": \"Guinea-Bissau\", \"marker\": {\"color\": \"#19d3f3\"}, \"name\": \"Guinea-Bissau\", \"offsetgroup\": \"Guinea-Bissau\", \"orientation\": \"v\", \"showlegend\": true, \"text\": [18.0], \"textposition\": \"auto\", \"type\": \"bar\", \"x\": [\"04/05/2020\"], \"xaxis\": \"x\", \"y\": [18.0], \"yaxis\": \"y\"}, {\"alignmentgroup\": \"True\", \"hovertemplate\": \"Country=Dominica<br>Date=%{x}<br>Confirmed=%{text}<extra></extra>\", \"legendgroup\": \"Dominica\", \"marker\": {\"color\": \"#FF6692\"}, \"name\": \"Dominica\", \"offsetgroup\": \"Dominica\", \"orientation\": \"v\", \"showlegend\": true, \"text\": [14.0], \"textposition\": \"auto\", \"type\": \"bar\", \"x\": [\"04/05/2020\"], \"xaxis\": \"x\", \"y\": [14.0], \"yaxis\": \"y\"}, {\"alignmentgroup\": \"True\", \"hovertemplate\": \"Country=Zimbabwe<br>Date=%{x}<br>Confirmed=%{text}<extra></extra>\", \"legendgroup\": \"Zimbabwe\", \"marker\": {\"color\": \"#B6E880\"}, \"name\": \"Zimbabwe\", \"offsetgroup\": \"Zimbabwe\", \"orientation\": \"v\", \"showlegend\": true, \"text\": [9.0], \"textposition\": \"auto\", \"type\": \"bar\", \"x\": [\"04/05/2020\"], \"xaxis\": \"x\", \"y\": [9.0], \"yaxis\": \"y\"}],\n",
       "                        {\"barmode\": \"relative\", \"height\": 600, \"legend\": {\"title\": {\"text\": \"Country\"}, \"tracegroupgap\": 0}, \"template\": {\"data\": {\"bar\": [{\"error_x\": {\"color\": \"#2a3f5f\"}, \"error_y\": {\"color\": \"#2a3f5f\"}, \"marker\": {\"line\": {\"color\": \"#E5ECF6\", \"width\": 0.5}}, \"type\": \"bar\"}], \"barpolar\": [{\"marker\": {\"line\": {\"color\": \"#E5ECF6\", \"width\": 0.5}}, \"type\": \"barpolar\"}], \"carpet\": [{\"aaxis\": {\"endlinecolor\": \"#2a3f5f\", \"gridcolor\": \"white\", \"linecolor\": \"white\", \"minorgridcolor\": \"white\", \"startlinecolor\": \"#2a3f5f\"}, \"baxis\": {\"endlinecolor\": \"#2a3f5f\", \"gridcolor\": \"white\", \"linecolor\": \"white\", \"minorgridcolor\": \"white\", \"startlinecolor\": \"#2a3f5f\"}, \"type\": \"carpet\"}], \"choropleth\": [{\"colorbar\": {\"outlinewidth\": 0, \"ticks\": \"\"}, \"type\": \"choropleth\"}], \"contour\": [{\"colorbar\": {\"outlinewidth\": 0, \"ticks\": \"\"}, \"colorscale\": [[0.0, \"#0d0887\"], [0.1111111111111111, \"#46039f\"], [0.2222222222222222, \"#7201a8\"], [0.3333333333333333, \"#9c179e\"], [0.4444444444444444, \"#bd3786\"], [0.5555555555555556, \"#d8576b\"], [0.6666666666666666, \"#ed7953\"], [0.7777777777777778, \"#fb9f3a\"], [0.8888888888888888, \"#fdca26\"], [1.0, \"#f0f921\"]], \"type\": \"contour\"}], \"contourcarpet\": [{\"colorbar\": {\"outlinewidth\": 0, \"ticks\": \"\"}, \"type\": \"contourcarpet\"}], \"heatmap\": [{\"colorbar\": {\"outlinewidth\": 0, \"ticks\": \"\"}, \"colorscale\": [[0.0, \"#0d0887\"], [0.1111111111111111, \"#46039f\"], [0.2222222222222222, \"#7201a8\"], [0.3333333333333333, \"#9c179e\"], [0.4444444444444444, \"#bd3786\"], [0.5555555555555556, \"#d8576b\"], [0.6666666666666666, \"#ed7953\"], [0.7777777777777778, \"#fb9f3a\"], [0.8888888888888888, \"#fdca26\"], [1.0, \"#f0f921\"]], \"type\": \"heatmap\"}], \"heatmapgl\": [{\"colorbar\": {\"outlinewidth\": 0, \"ticks\": \"\"}, \"colorscale\": [[0.0, \"#0d0887\"], [0.1111111111111111, \"#46039f\"], [0.2222222222222222, \"#7201a8\"], [0.3333333333333333, \"#9c179e\"], [0.4444444444444444, \"#bd3786\"], [0.5555555555555556, \"#d8576b\"], [0.6666666666666666, \"#ed7953\"], [0.7777777777777778, \"#fb9f3a\"], [0.8888888888888888, \"#fdca26\"], [1.0, \"#f0f921\"]], \"type\": \"heatmapgl\"}], \"histogram\": [{\"marker\": {\"colorbar\": {\"outlinewidth\": 0, \"ticks\": \"\"}}, \"type\": \"histogram\"}], \"histogram2d\": [{\"colorbar\": {\"outlinewidth\": 0, \"ticks\": \"\"}, \"colorscale\": [[0.0, \"#0d0887\"], [0.1111111111111111, \"#46039f\"], [0.2222222222222222, \"#7201a8\"], [0.3333333333333333, \"#9c179e\"], [0.4444444444444444, \"#bd3786\"], [0.5555555555555556, \"#d8576b\"], [0.6666666666666666, \"#ed7953\"], [0.7777777777777778, \"#fb9f3a\"], [0.8888888888888888, \"#fdca26\"], [1.0, \"#f0f921\"]], \"type\": \"histogram2d\"}], \"histogram2dcontour\": [{\"colorbar\": {\"outlinewidth\": 0, \"ticks\": \"\"}, \"colorscale\": [[0.0, \"#0d0887\"], [0.1111111111111111, \"#46039f\"], [0.2222222222222222, \"#7201a8\"], [0.3333333333333333, \"#9c179e\"], [0.4444444444444444, \"#bd3786\"], [0.5555555555555556, \"#d8576b\"], [0.6666666666666666, \"#ed7953\"], [0.7777777777777778, \"#fb9f3a\"], [0.8888888888888888, \"#fdca26\"], [1.0, \"#f0f921\"]], \"type\": \"histogram2dcontour\"}], \"mesh3d\": [{\"colorbar\": {\"outlinewidth\": 0, \"ticks\": \"\"}, \"type\": \"mesh3d\"}], \"parcoords\": [{\"line\": {\"colorbar\": {\"outlinewidth\": 0, \"ticks\": \"\"}}, \"type\": \"parcoords\"}], \"pie\": [{\"automargin\": true, \"type\": \"pie\"}], \"scatter\": [{\"marker\": {\"colorbar\": {\"outlinewidth\": 0, \"ticks\": \"\"}}, \"type\": \"scatter\"}], \"scatter3d\": [{\"line\": {\"colorbar\": {\"outlinewidth\": 0, \"ticks\": \"\"}}, \"marker\": {\"colorbar\": {\"outlinewidth\": 0, \"ticks\": \"\"}}, \"type\": \"scatter3d\"}], \"scattercarpet\": [{\"marker\": {\"colorbar\": {\"outlinewidth\": 0, \"ticks\": \"\"}}, \"type\": \"scattercarpet\"}], \"scattergeo\": [{\"marker\": {\"colorbar\": {\"outlinewidth\": 0, \"ticks\": \"\"}}, \"type\": \"scattergeo\"}], \"scattergl\": [{\"marker\": {\"colorbar\": {\"outlinewidth\": 0, \"ticks\": \"\"}}, \"type\": \"scattergl\"}], \"scattermapbox\": [{\"marker\": {\"colorbar\": {\"outlinewidth\": 0, \"ticks\": \"\"}}, \"type\": \"scattermapbox\"}], \"scatterpolar\": [{\"marker\": {\"colorbar\": {\"outlinewidth\": 0, \"ticks\": \"\"}}, \"type\": \"scatterpolar\"}], \"scatterpolargl\": [{\"marker\": {\"colorbar\": {\"outlinewidth\": 0, \"ticks\": \"\"}}, \"type\": \"scatterpolargl\"}], \"scatterternary\": [{\"marker\": {\"colorbar\": {\"outlinewidth\": 0, \"ticks\": \"\"}}, \"type\": \"scatterternary\"}], \"surface\": [{\"colorbar\": {\"outlinewidth\": 0, \"ticks\": \"\"}, \"colorscale\": [[0.0, \"#0d0887\"], [0.1111111111111111, \"#46039f\"], [0.2222222222222222, \"#7201a8\"], [0.3333333333333333, \"#9c179e\"], [0.4444444444444444, \"#bd3786\"], [0.5555555555555556, \"#d8576b\"], [0.6666666666666666, \"#ed7953\"], [0.7777777777777778, \"#fb9f3a\"], [0.8888888888888888, \"#fdca26\"], [1.0, \"#f0f921\"]], \"type\": \"surface\"}], \"table\": [{\"cells\": {\"fill\": {\"color\": \"#EBF0F8\"}, \"line\": {\"color\": \"white\"}}, \"header\": {\"fill\": {\"color\": \"#C8D4E3\"}, \"line\": {\"color\": \"white\"}}, \"type\": \"table\"}]}, \"layout\": {\"annotationdefaults\": {\"arrowcolor\": \"#2a3f5f\", \"arrowhead\": 0, \"arrowwidth\": 1}, \"coloraxis\": {\"colorbar\": {\"outlinewidth\": 0, \"ticks\": \"\"}}, \"colorscale\": {\"diverging\": [[0, \"#8e0152\"], [0.1, \"#c51b7d\"], [0.2, \"#de77ae\"], [0.3, \"#f1b6da\"], [0.4, \"#fde0ef\"], [0.5, \"#f7f7f7\"], [0.6, \"#e6f5d0\"], [0.7, \"#b8e186\"], [0.8, \"#7fbc41\"], [0.9, \"#4d9221\"], [1, \"#276419\"]], \"sequential\": [[0.0, \"#0d0887\"], [0.1111111111111111, \"#46039f\"], [0.2222222222222222, \"#7201a8\"], [0.3333333333333333, \"#9c179e\"], [0.4444444444444444, \"#bd3786\"], [0.5555555555555556, \"#d8576b\"], [0.6666666666666666, \"#ed7953\"], [0.7777777777777778, \"#fb9f3a\"], [0.8888888888888888, \"#fdca26\"], [1.0, \"#f0f921\"]], \"sequentialminus\": [[0.0, \"#0d0887\"], [0.1111111111111111, \"#46039f\"], [0.2222222222222222, \"#7201a8\"], [0.3333333333333333, \"#9c179e\"], [0.4444444444444444, \"#bd3786\"], [0.5555555555555556, \"#d8576b\"], [0.6666666666666666, \"#ed7953\"], [0.7777777777777778, \"#fb9f3a\"], [0.8888888888888888, \"#fdca26\"], [1.0, \"#f0f921\"]]}, \"colorway\": [\"#636efa\", \"#EF553B\", \"#00cc96\", \"#ab63fa\", \"#FFA15A\", \"#19d3f3\", \"#FF6692\", \"#B6E880\", \"#FF97FF\", \"#FECB52\"], \"font\": {\"color\": \"#2a3f5f\"}, \"geo\": {\"bgcolor\": \"white\", \"lakecolor\": \"white\", \"landcolor\": \"#E5ECF6\", \"showlakes\": true, \"showland\": true, \"subunitcolor\": \"white\"}, \"hoverlabel\": {\"align\": \"left\"}, \"hovermode\": \"closest\", \"mapbox\": {\"style\": \"light\"}, \"paper_bgcolor\": \"white\", \"plot_bgcolor\": \"#E5ECF6\", \"polar\": {\"angularaxis\": {\"gridcolor\": \"white\", \"linecolor\": \"white\", \"ticks\": \"\"}, \"bgcolor\": \"#E5ECF6\", \"radialaxis\": {\"gridcolor\": \"white\", \"linecolor\": \"white\", \"ticks\": \"\"}}, \"scene\": {\"xaxis\": {\"backgroundcolor\": \"#E5ECF6\", \"gridcolor\": \"white\", \"gridwidth\": 2, \"linecolor\": \"white\", \"showbackground\": true, \"ticks\": \"\", \"zerolinecolor\": \"white\"}, \"yaxis\": {\"backgroundcolor\": \"#E5ECF6\", \"gridcolor\": \"white\", \"gridwidth\": 2, \"linecolor\": \"white\", \"showbackground\": true, \"ticks\": \"\", \"zerolinecolor\": \"white\"}, \"zaxis\": {\"backgroundcolor\": \"#E5ECF6\", \"gridcolor\": \"white\", \"gridwidth\": 2, \"linecolor\": \"white\", \"showbackground\": true, \"ticks\": \"\", \"zerolinecolor\": \"white\"}}, \"shapedefaults\": {\"line\": {\"color\": \"#2a3f5f\"}}, \"ternary\": {\"aaxis\": {\"gridcolor\": \"white\", \"linecolor\": \"white\", \"ticks\": \"\"}, \"baxis\": {\"gridcolor\": \"white\", \"linecolor\": \"white\", \"ticks\": \"\"}, \"bgcolor\": \"#E5ECF6\", \"caxis\": {\"gridcolor\": \"white\", \"linecolor\": \"white\", \"ticks\": \"\"}}, \"title\": {\"x\": 0.05}, \"xaxis\": {\"automargin\": true, \"gridcolor\": \"white\", \"linecolor\": \"white\", \"ticks\": \"\", \"title\": {\"standoff\": 15}, \"zerolinecolor\": \"white\", \"zerolinewidth\": 2}, \"yaxis\": {\"automargin\": true, \"gridcolor\": \"white\", \"linecolor\": \"white\", \"ticks\": \"\", \"title\": {\"standoff\": 15}, \"zerolinecolor\": \"white\", \"zerolinewidth\": 2}}}, \"title\": {\"text\": \"Cases\"}, \"xaxis\": {\"anchor\": \"y\", \"domain\": [0.0, 1.0], \"title\": {\"text\": \"Date\"}}, \"yaxis\": {\"anchor\": \"x\", \"domain\": [0.0, 1.0], \"title\": {\"text\": \"Confirmed\"}}},\n",
       "                        {\"responsive\": true}\n",
       "                    ).then(function(){\n",
       "                            \n",
       "var gd = document.getElementById('31464247-c529-4eef-9ec4-1125cadeea05');\n",
       "var x = new MutationObserver(function (mutations, observer) {{\n",
       "        var display = window.getComputedStyle(gd).display;\n",
       "        if (!display || display === 'none') {{\n",
       "            console.log([gd, 'removed!']);\n",
       "            Plotly.purge(gd);\n",
       "            observer.disconnect();\n",
       "        }}\n",
       "}});\n",
       "\n",
       "// Listen for the removal of the full notebook cells\n",
       "var notebookContainer = gd.closest('#notebook-container');\n",
       "if (notebookContainer) {{\n",
       "    x.observe(notebookContainer, {childList: true});\n",
       "}}\n",
       "\n",
       "// Listen for the clearing of the current output cell\n",
       "var outputEl = gd.closest('.output');\n",
       "if (outputEl) {{\n",
       "    x.observe(outputEl, {childList: true});\n",
       "}}\n",
       "\n",
       "                        })\n",
       "                };\n",
       "                });\n",
       "            </script>\n",
       "        </div>"
      ]
     },
     "metadata": {},
     "output_type": "display_data"
    }
   ],
   "source": [
    "#Creating Bar Charts\n",
    "bar_data = df_countries_no_china.groupby(['Country', 'Date'])['Confirmed'].sum().reset_index().sort_values('Date', ascending=True)\n",
    "\n",
    "fig = px.bar(bar_data, x=\"Date\", y=\"Confirmed\", color='Country', text = 'Confirmed', \n",
    "             orientation='v', height=600, title='Cases')\n",
    "fig.show()"
   ]
  },
  {
   "cell_type": "code",
   "execution_count": null,
   "metadata": {},
   "outputs": [],
   "source": []
  }
 ],
 "metadata": {
  "kernelspec": {
   "display_name": "Python 3",
   "language": "python",
   "name": "python3"
  },
  "language_info": {
   "codemirror_mode": {
    "name": "ipython",
    "version": 3
   },
   "file_extension": ".py",
   "mimetype": "text/x-python",
   "name": "python",
   "nbconvert_exporter": "python",
   "pygments_lexer": "ipython3",
   "version": "3.7.6"
  }
 },
 "nbformat": 4,
 "nbformat_minor": 4
}
